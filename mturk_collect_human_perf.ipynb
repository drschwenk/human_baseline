{
 "cells": [
  {
   "cell_type": "markdown",
   "metadata": {},
   "source": [
    "# Table of Contents\n",
    "* [Submitting HITs](#Submitting-HITs)\n",
    "\t* [building html](#building-html)\n",
    "\t* [Building URLs for images on s3](#Building-URLs-for-images-on-s3)\n",
    "\t* [submitting HITs in groups](#submitting-HITs-in-groups)\n",
    "\t\t* [creates HITs, careful with this one](#creates-HITs,-careful-with-this-one)\n",
    "* [Reviewing latest HITs](#Reviewing-latest-HITs)\n",
    "\t* [download](#download)\n",
    "\t* [process](#process)\n",
    "* [Merging latest round of HITs into combined dataset](#Merging-latest-round-of-HITs-into-combined-dataset)\n",
    "\t* [Load previously pickled results](#Load-previously-pickled-results)\n",
    "\t* [Load prior complete dataset if not in memory](#Load-prior-complete-dataset-if-not-in-memory)\n",
    "\t* [Updating full dataset](#Updating-full-dataset)\n",
    "\t* [Working with full dataset](#Working-with-full-dataset)\n",
    "* [Worker analysis](#Worker-analysis)\n",
    "\t* [Basic worker stats](#Basic-worker-stats)\n",
    "\t\t* [HIT duration for pricing](#HIT-duration-for-pricing)\n",
    "\t* [Identifying high and low consensus workers](#Identifying-high-and-low-consensus-workers)\n",
    "\t* [Messaging workers](#Messaging-workers)\n",
    "* [HIT end-of-life](#HIT-end-of-life)\n",
    "\t* [Pickle latest results](#Pickle-latest-results)\n",
    "\t* [Pickle combined dataset](#Pickle-combined-dataset)\n",
    "\t* [Accepting and deleting HITs... careful with these](#Accepting-and-deleting-HITs...-careful-with-these)\n",
    "* [End](#End)\n"
   ]
  },
  {
   "cell_type": "code",
   "execution_count": 1,
   "metadata": {
    "collapsed": false,
    "run_control": {
     "frozen": false,
     "read_only": false
    }
   },
   "outputs": [],
   "source": [
    "%%capture\n",
    "from __future__ import division\n",
    "import numpy as np\n",
    "import pandas as pd\n",
    "import scipy.stats as st\n",
    "import itertools\n",
    "import math\n",
    "from collections import Counter, defaultdict\n",
    "%load_ext autoreload\n",
    "%autoreload 2\n",
    "\n",
    "import matplotlib as mpl\n",
    "mpl.use(\"Agg\")\n",
    "import matplotlib.pylab as plt\n",
    "#%matplotlib notebook\n",
    "%matplotlib inline\n",
    "%load_ext base16_mplrc\n",
    "%base16_mplrc light default\n",
    "plt.rcParams['figure.figsize'] = (16.0, 10.0)\n",
    "\n",
    "import re\n",
    "from datetime import datetime\n",
    "import dateutil.parser as dt_parse\n",
    "import pickle\n",
    "import boto\n",
    "from copy import deepcopy\n",
    "import json\n",
    "import os\n",
    "import jinja2\n",
    "from IPython.core.display import HTML\n",
    "\n",
    "import boto.mturk.connection as tc\n",
    "import boto.mturk.question as tq\n",
    "from boto.mturk.qualification import PercentAssignmentsApprovedRequirement, Qualifications, Requirement\n",
    "\n",
    "from keysTkingdom import mturk_ai2\n",
    "from keysTkingdom import aws_tokes\n",
    "\n",
    "import pdfextraction.amt_boto_modules as amt_util\n",
    "# from tqa_utils import Evaluator"
   ]
  },
  {
   "cell_type": "markdown",
   "metadata": {},
   "source": [
    "# Submitting HITs"
   ]
  },
  {
   "cell_type": "markdown",
   "metadata": {},
   "source": [
    "## load dataset"
   ]
  },
  {
   "cell_type": "code",
   "execution_count": 2,
   "metadata": {
    "collapsed": false,
    "run_control": {
     "frozen": false,
     "read_only": false
    }
   },
   "outputs": [],
   "source": [
    "dataset_root_dir = '/Users/schwenk/wrk/stb/dataset_releases/data_release_beta7/'\n",
    "file_name = 'tqa_dataset_beta7_5.json'\n",
    "data_file =  dataset_root_dir + file_name\n",
    "\n",
    "# quest_evaluator = Evaluator(data_file)\n",
    "\n",
    "with open(os.path.join(dataset_root_dir, file_name), 'r') as f:\n",
    "    ck12_combined_dataset_raw = json.load(f)\n",
    "ck12_combined_dataset = deepcopy(ck12_combined_dataset_raw)"
   ]
  },
  {
   "cell_type": "code",
   "execution_count": 29,
   "metadata": {
    "collapsed": true
   },
   "outputs": [],
   "source": [
    "## choosing sample"
   ]
  },
  {
   "cell_type": "code",
   "execution_count": 80,
   "metadata": {
    "collapsed": false
   },
   "outputs": [],
   "source": [
    "ndq_sample_lessons = np.random.choice([les for les in ck12_combined_dataset if len(les['questions']['nonDiagramQuestions']) > 10], 10)"
   ]
  },
  {
   "cell_type": "code",
   "execution_count": 81,
   "metadata": {
    "collapsed": false
   },
   "outputs": [
    {
     "data": {
      "text/plain": [
       "[u'photosynthesis',\n",
       " u'the sun',\n",
       " u'air pollution',\n",
       " u'introduction to plants',\n",
       " u'characteristics of sound',\n",
       " u'topographic maps',\n",
       " u'history of life on earth',\n",
       " u'birds',\n",
       " u'hydrocarbons',\n",
       " u'water pollution']"
      ]
     },
     "execution_count": 81,
     "metadata": {},
     "output_type": "execute_result"
    }
   ],
   "source": [
    "[les['lessonName'] for les in ndq_sample_lessons]"
   ]
  },
  {
   "cell_type": "code",
   "execution_count": 68,
   "metadata": {
    "collapsed": false
   },
   "outputs": [],
   "source": [
    "dq_sample_lessons = np.random.choice([les for les in ck12_combined_dataset if les['questions']['diagramQuestions']], 10)"
   ]
  },
  {
   "cell_type": "code",
   "execution_count": 69,
   "metadata": {
    "collapsed": false
   },
   "outputs": [
    {
     "data": {
      "text/plain": [
       "[u'continental drift',\n",
       " u'stress in earths crust',\n",
       " u'cell structures',\n",
       " u'electric circuits',\n",
       " u'inside earth',\n",
       " u'cycles of matter',\n",
       " u'cell biology',\n",
       " u'fish',\n",
       " u'the respiratory system',\n",
       " u'changes of state']"
      ]
     },
     "execution_count": 69,
     "metadata": {},
     "output_type": "execute_result"
    }
   ],
   "source": [
    "[les['lessonName'] for les in dq_sample_lessons]"
   ]
  },
  {
   "cell_type": "code",
   "execution_count": 99,
   "metadata": {
    "collapsed": true
   },
   "outputs": [],
   "source": [
    "testl = ndq_sample_lessons[0]"
   ]
  },
  {
   "cell_type": "code",
   "execution_count": 107,
   "metadata": {
    "collapsed": false
   },
   "outputs": [],
   "source": [
    "sampled_question_ids = np.random.choice(testl['questions']['diagramQuestions'].keys(), 10, replace=False)"
   ]
  },
  {
   "cell_type": "code",
   "execution_count": 109,
   "metadata": {
    "collapsed": false
   },
   "outputs": [
    {
     "data": {
      "text/plain": [
       "10"
      ]
     },
     "execution_count": 109,
     "metadata": {},
     "output_type": "execute_result"
    }
   ],
   "source": [
    "len({k: testl['questions']['diagramQuestions'][k] for k in sampled_question_ids})"
   ]
  },
  {
   "cell_type": "code",
   "execution_count": null,
   "metadata": {
    "collapsed": true
   },
   "outputs": [],
   "source": []
  },
  {
   "cell_type": "code",
   "execution_count": null,
   "metadata": {
    "collapsed": true
   },
   "outputs": [],
   "source": []
  },
  {
   "cell_type": "markdown",
   "metadata": {},
   "source": [
    "## building html"
   ]
  },
  {
   "cell_type": "markdown",
   "metadata": {},
   "source": [
    "### code"
   ]
  },
  {
   "cell_type": "code",
   "execution_count": 431,
   "metadata": {
    "code_folding": [
     9,
     62,
     90,
     129,
     163
    ],
    "collapsed": false,
    "run_control": {
     "frozen": false,
     "read_only": false
    }
   },
   "outputs": [],
   "source": [
    "import os\n",
    "import json\n",
    "import jinja2\n",
    "import argparse\n",
    "\n",
    "j2env = jinja2.Environment()\n",
    "\n",
    "default_page_html = \"\"\"\n",
    "<!DOCTYPE html>\n",
    "<html>\n",
    "  <head>\n",
    "    <style type=\"text/css\">\n",
    "       .container {\n",
    "            max-width: 800px;\n",
    "          }\n",
    "    </style>\n",
    "  </head>\n",
    "  <body style=max-width: 100px>\n",
    "    <div class=\"container\">\n",
    "      <h1>Lesson: {{lesson}}</h1>\n",
    "      <ul>\n",
    "        {% for topic in topics %}\n",
    "        <p>\n",
    "        </p>\n",
    "        <h3>{{topic.0}}</h3>\n",
    "        <p>{{topic.1}}</p>\n",
    "        {% endfor %}\n",
    "      </ul>\n",
    "    </div>\n",
    "    <script src=\"http://code.jquery.com/jquery-1.10.2.min.js\"></script>\n",
    "    <script src=\"http://netdna.bootstrapcdn.com/bootstrap/3.0.0/js/bootstrap.min.js\"></script>\n",
    "  </body>\n",
    "</html>\n",
    "\"\"\"\n",
    "\n",
    "diagram_page_html = \"\"\"\n",
    "<!DOCTYPE html>\n",
    "<html>\n",
    "  <head>\n",
    "    <style type=\"text/css\">\n",
    "       .container {\n",
    "          }\n",
    "    </style>\n",
    "  </head>\n",
    "  <body style=max-width: 100px>\n",
    "    <div class=\"container\">\n",
    "      <h1>Lesson: {{lesson}}</h1>\n",
    "      <ul>\n",
    "        {% for topic in topics %}\n",
    "        <p>\n",
    "        </p>\n",
    "        <p>{{topic}}</p>\n",
    "        {% endfor %}\n",
    "      </ul>\n",
    "    </div>\n",
    "    <script src=\"http://code.jquery.com/jquery-1.10.2.min.js\"></script>\n",
    "    <script src=\"http://netdna.bootstrapcdn.com/bootstrap/3.0.0/js/bootstrap.min.js\"></script>\n",
    "  </body>\n",
    "</html>\n",
    "\"\"\"\n",
    "\n",
    "\n",
    "def make_lesson_data(lesson_json, rel_html_out_path=None):\n",
    "    nested_text = []\n",
    "    for topic, content in sorted(lesson_json['topics'].items(), key=lambda kv: kv[1]['globalID']):\n",
    "        nested_text.append((content['topicName'], content['content']['text']))\n",
    "        if content['content']['figures']:\n",
    "            for figure in content['content']['figures']:\n",
    "                image_link = '<img src=\"' + '../../' + figure['imagePath'] + '\" width=500px>'\n",
    "                image_caption = figure['caption']\n",
    "                nested_text.append(('', image_link))\n",
    "                nested_text.append(('', image_caption))\n",
    "    \n",
    "    for topic, content in lesson_json['adjunctTopics'].items():\n",
    "        if topic == 'Vocabulary':\n",
    "            nested_text.append((topic, ''))            \n",
    "            for k, v in content.items():\n",
    "                nested_text.append(('', k + ':  ' + v))\n",
    "        else:\n",
    "            nested_text.append((topic, content['content']['text']))\n",
    "            if content['content']['figures']:\n",
    "                for figure in content['content']['figures']:\n",
    "                    image_link = '<img src=\"' + '../../' + figure['imagePath'] + '\" width=500px>'\n",
    "                    image_caption = figure['caption']\n",
    "                    nested_text.append(('', image_link))\n",
    "                    nested_text.append(('', image_caption))\n",
    "    return nested_text\n",
    "\n",
    "\n",
    "\n",
    "def make_lesson_wdq_data(lesson_json, rel_html_out_path, question_type='diagramQuestions'):\n",
    "    nested_text = []\n",
    "    for question in sorted(lesson_json['questions'][question_type].values(), key=lambda x: x['globalID']):\n",
    "        image_link = '<img src=\"' + '../../' + question['imagePath'] + '\" width=500px>'\n",
    "        nested_text.append(image_link)\n",
    "        nested_text.append(question['globalID'])\n",
    "        being_asked = question['beingAsked']['processedText']\n",
    "        nested_text.append(being_asked)\n",
    "        for ac in sorted(question['answerChoices'].values(), key=lambda x: x['idStructural']):\n",
    "            if ac['processedText'] == question['correctAnswer']['processedText']:\n",
    "                nested_text.append('<font color=\"red\"> ' + ' '.join([' ', ac['idStructural'], ac['processedText']]) + '</font>')\n",
    "            else:\n",
    "                nested_text.append(' '.join([' ', ac['idStructural'], ac['processedText']]))\n",
    "        nested_text.append('')\n",
    "    return nested_text\n",
    "\n",
    "\n",
    "def make_lesson_wq_data(lesson_json, rel_html_out_path, question_type='diagramQuestions'):\n",
    "    nested_text = []\n",
    "    for question in sorted(lesson_json['questions'][question_type].values(), key=lambda x: x['globalID']):\n",
    "        if question['questionType'] in [\"Direct Answer\"]:\n",
    "            continue\n",
    "        if question_type == 'diagramQuestion':\n",
    "            image_link = '<img src=\"' + '../../' + question['imagePath'] + '\" width=500px>'\n",
    "            nested_text.append(image_link)\n",
    "        nested_text.append(question['globalID'])\n",
    "        being_asked = question['beingAsked']['processedText']\n",
    "        nested_text.append(being_asked)\n",
    "        for ac in sorted(question['answerChoices'].values(), key=lambda x: x['idStructural']):\n",
    "            if 'correctAnswer' not in question.keys() or'processedText' not in question['correctAnswer'].keys():\n",
    "                continue\n",
    "            if question['correctAnswer']['processedText'] in [ac['processedText'], ac['idStructural'].replace('.', '').replace(')', '')]:\n",
    "                nested_text.append('<font color=\"red\"> ' + ' '.join([' ', ac['idStructural'], ac['processedText']]) + '</font>')\n",
    "            else:\n",
    "                nested_text.append(' '.join([' ', ac['idStructural'], ac['processedText']]))\n",
    "        nested_text.append('')\n",
    "    return nested_text\n",
    "\n",
    "\n",
    "def make_lesson_diagram_description_data(lesson_json, rel_html_out_path):\n",
    "    nested_text = []\n",
    "    for description in sorted(list(lesson_json['instructionalDiagrams'].values()), key=lambda x: x['imagePath']):\n",
    "        image_link = '<img src=\"' + '../../' + description['imagePath'] + '\" width=500px>'\n",
    "        nested_text.append(image_link)\n",
    "        nested_text.append(description['imageName'])\n",
    "        being_asked = description['processedText']\n",
    "        nested_text.append(being_asked)\n",
    "        nested_text.append('')\n",
    "    return nested_text\n",
    "\n",
    "\n",
    "def make_page_html(lesson_data, page_html, lesson_name, qid):\n",
    "    return j2env.from_string(page_html).render(lesson=lesson_data[0], topics=lesson_data[1], lesson_name=lesson_name, qid=qid)\n",
    "\n",
    "\n",
    "def display_lesson_html(lesson_json, lesson, page_type=None, html_output_dir=None, lesson_name=None, qid=None):\n",
    "    if not page_type or page_type == 'lessons':\n",
    "        lesson_data = (lesson, make_lesson_data(lesson_json, html_output_dir))\n",
    "        page_html = default_page_html\n",
    "    elif page_type == 'questions':\n",
    "        being_asked, answer_choices = make_lesson_q_hit_data(lesson_json, html_output_dir, 'nonDiagramQuestions')\n",
    "        lesson_data = (being_asked, answer_choices)\n",
    "        page_html = question_page_html        \n",
    "    elif page_type == 'diagram_questions':\n",
    "        lesson_data = (lesson, make_lesson_wdq_data(lesson_json, html_output_dir))\n",
    "        page_html = diagram_page_html\n",
    "    elif page_type == 'diagram_descriptions':\n",
    "        lesson_data = (lesson, make_lesson_diagram_description_data(lesson_json, html_output_dir))\n",
    "        page_html = diagram_page_html\n",
    "    lesson_html = make_page_html(lesson_data, page_html, lesson_name, qid)\n",
    "    return lesson_html\n",
    "\n",
    "\n",
    "def make_lesson_html(flexbook, lesson, page_html=default_page_html):\n",
    "    lesson_json = flexbook[lesson]\n",
    "    lesson_data = (lesson, make_lesson_data(lesson_json))\n",
    "    lesson_html = make_page_html(lesson_data, page_html)\n",
    "    return lesson_html\n",
    "\n",
    "\n",
    "def render_html_from_dataset(ck12_combined_dataset):\n",
    "    out_path = './html_renders' \n",
    "    render_types = ['lessons']\n",
    "    for render in render_types:\n",
    "        html_dir = os.path.join('html_renders', render)\n",
    "        if not os.path.exists(html_dir):\n",
    "            os.makedirs(html_dir)\n",
    "        for lesson in ck12_combined_dataset:\n",
    "            lesson_name = lesson['lessonName'].replace(' ', '_') + '_' + lesson['globalID'] + '.html' \n",
    "            if render == 'lessons':\n",
    "                pass\n",
    "            elif render == 'questions':\n",
    "                pass\n",
    "            elif not lesson['questions']['diagramQuestions']:\n",
    "                continue\n",
    "            lesson_html = display_lesson_html(lesson, lesson['lessonName'], render, out_path, s3_base + 'lessons/' + lesson_name)\n",
    "            html_out_file = os.path.join(html_dir, lesson_name)\n",
    "            with open(html_out_file, 'w') as f:\n",
    "                f.write(lesson_html.encode('ascii', 'ignore').decode('utf-8'))\n",
    "                \n",
    "def render_question_html_from_dataset(ck12_combined_dataset):\n",
    "    out_path = './html_renders' \n",
    "    html_dir = os.path.join('html_renders', 'questions')\n",
    "    if not os.path.exists(html_dir):\n",
    "        os.makedirs(html_dir)\n",
    "    for lesson in ck12_combined_dataset:\n",
    "        lesson_name = lesson['lessonName'].replace(' ', '_') + '_' + lesson['globalID'] + '.html'\n",
    "        lesson_htmls = {}\n",
    "        nonda_qs = {k: v for k, v in lesson['questions']['nonDiagramQuestions'].items() if v['questionType'] != 'Direct Answer'}\n",
    "        sample_q_ids = np.random.choice(list(nonda_qs.keys()), 20, replace=False)\n",
    "        for single_questions_id in sample_q_ids:\n",
    "            lesson_single_question = deepcopy(lesson)\n",
    "            single_questions = [nonda_qs[single_questions_id]]\n",
    "            lesson_single_question['questions']['nonDiagramQuestions'] = single_questions\n",
    "            lesson_htmls[single_questions_id] = display_lesson_html(lesson_single_question, lesson['lessonName'], 'questions', out_path, s3_base + 'lessons/' + lesson_name, single_questions_id)\n",
    "        for qid, lesson_html in lesson_htmls.items():\n",
    "            html_out_file = os.path.join(html_dir, qid + '_' + lesson_name)\n",
    "            with open(html_out_file, 'w') as f:\n",
    "                f.write(lesson_html.encode('ascii', 'ignore').decode('utf-8'))"
   ]
  },
  {
   "cell_type": "code",
   "execution_count": 432,
   "metadata": {
    "collapsed": false,
    "run_control": {
     "frozen": false,
     "read_only": false
    }
   },
   "outputs": [],
   "source": [
    "def make_lesson_q_hit_data(lesson_json, rel_html_out_path, question_type='diagramQuestions'):\n",
    "    nested_text = []\n",
    "    for question in lesson_json['questions'][question_type]:\n",
    "        if question['questionType'] in [\"Direct Answer\"]:\n",
    "            continue\n",
    "        if question_type == 'diagramQuestion':\n",
    "            image_link = '<img src=\"' + '../../' + question['imagePath'] + '\" width=500px>'\n",
    "            nested_text.append(image_link)\n",
    "        for ac in sorted(question['answerChoices'].values(), key=lambda x: x['idStructural']):\n",
    "            nested_text.append(' '.join([' ', ac['idStructural'], ac['processedText']]))\n",
    "    being_asked = question['beingAsked']['processedText']\n",
    "    question_id = question['globalID']\n",
    "    return being_asked, nested_text"
   ]
  },
  {
   "cell_type": "code",
   "execution_count": null,
   "metadata": {
    "collapsed": true
   },
   "outputs": [],
   "source": [
    "#       <form name='mturk_form' method='post' id='mturk_form' action='https://workerredsandbox.mturk.com/mturk/externalSubmit'>"
   ]
  },
  {
   "cell_type": "code",
   "execution_count": 446,
   "metadata": {
    "collapsed": true,
    "run_control": {
     "frozen": false,
     "read_only": false
    }
   },
   "outputs": [],
   "source": [
    "question_page_html = \"\"\"\n",
    "<!DOCTYPE html>\n",
    "<html>\n",
    "  <head>\n",
    "    <script type='text/javascript' src='https://s3.amazonaws.com/mturk-public/externalHIT_v1.js'></script>\n",
    "    <title>Science Quiz Question</title>\n",
    "    <style type=\"text/css\">\n",
    "       .container {\n",
    "          }\n",
    "    </style>\n",
    "  </head>\n",
    "  <body style=max-width: 100px>\n",
    "    <div class=\"container\">\n",
    "    <p>Please answer the question below to the best of your ability. You can find <a href=\"{{lesson_name}}\"> reference material</a> here that will help to answer the question. \n",
    "    There is a $0.30 bonus for answering the question correctly.\n",
    "    </p>\n",
    "      <h2>{{lesson}}</h2>\n",
    "      <form name='mturk_form' method='post' id='mturk_form' action='https://www.mturk.com/mturk/externalSubmit'>\n",
    "      <input type='hidden' value='' name='assignmentId' id='assignmentId'/>\n",
    "      <input type=\"hidden\" name=\"q_id\" id=\"q_id\" value = {{qid}}>\n",
    "      <ul>\n",
    "        {% for topic in topics %}\n",
    "        <p>\n",
    "        </p>\n",
    "        <p>\n",
    "        <input type=\"radio\" name='results' value={{topic}} />\n",
    "        {{topic}}\n",
    "        </p>\n",
    "        {% endfor %}\n",
    "        <p><input type=\"submit\" id=\"submitButton\" value=\"Submit\" /></p></form>\n",
    "      </ul>\n",
    "    </div>\n",
    "    <script language=\"Javascript\">turkSetAssignmentID();</script>\n",
    "  </body>\n",
    "</html>\n",
    "\"\"\""
   ]
  },
  {
   "cell_type": "markdown",
   "metadata": {},
   "source": [
    "### running test"
   ]
  },
  {
   "cell_type": "code",
   "execution_count": 447,
   "metadata": {
    "collapsed": true,
    "run_control": {
     "frozen": false,
     "read_only": false
    }
   },
   "outputs": [],
   "source": [
    "s3_base = 'https://s3.amazonaws.com/ai2-vision-textbook-dataset/human-baseline/html_renders/'"
   ]
  },
  {
   "cell_type": "code",
   "execution_count": 448,
   "metadata": {
    "collapsed": false,
    "run_control": {
     "frozen": false,
     "read_only": false
    }
   },
   "outputs": [],
   "source": [
    "render_question_html_from_dataset(ndq_sample_lessons)"
   ]
  },
  {
   "cell_type": "code",
   "execution_count": 315,
   "metadata": {
    "collapsed": true
   },
   "outputs": [],
   "source": [
    "# render_html_from_dataset(ndq_sample_lessons)"
   ]
  },
  {
   "cell_type": "markdown",
   "metadata": {},
   "source": [
    "## Building URLs for images on s3"
   ]
  },
  {
   "cell_type": "code",
   "execution_count": 457,
   "metadata": {
    "collapsed": true
   },
   "outputs": [],
   "source": [
    "questions_pages = os.listdir('./html_renders/questions/')"
   ]
  },
  {
   "cell_type": "code",
   "execution_count": 458,
   "metadata": {
    "collapsed": false
   },
   "outputs": [],
   "source": [
    "test_questions = questions_pages"
   ]
  },
  {
   "cell_type": "code",
   "execution_count": 459,
   "metadata": {
    "collapsed": true,
    "run_control": {
     "frozen": false,
     "read_only": false
    }
   },
   "outputs": [],
   "source": [
    "questions_urls = [s3_base + 'questions/' + qfn for qfn in test_questions]"
   ]
  },
  {
   "cell_type": "markdown",
   "metadata": {},
   "source": [
    "## submitting HITs in groups"
   ]
  },
  {
   "cell_type": "code",
   "execution_count": 476,
   "metadata": {
    "collapsed": false,
    "run_control": {
     "frozen": false,
     "read_only": false
    }
   },
   "outputs": [
    {
     "name": "stdout",
     "output_type": "stream",
     "text": [
      "$391.51\n"
     ]
    }
   ],
   "source": [
    "## Switch between sandbox and the real world here ##\n",
    "## DON'T FORGET to change submission POST request in the client ##\n",
    "\n",
    "sandbox_host = 'mechanicalturk.sandbox.amazonaws.com' \n",
    "real_world_host = 'mechanicalturk.amazonaws.com'\n",
    "mturk = tc.MTurkConnection(\n",
    "    aws_access_key_id = mturk_ai2.access_key,\n",
    "    aws_secret_access_key = mturk_ai2.access_secret_key,\n",
    "    host = real_world_host,\n",
    "    debug = 1 # debug = 2 prints out all requests.\n",
    ")\n",
    "current_account_balance = mturk.get_account_balance()[0]\n",
    "print(current_account_balance) # a reminder of sandbox"
   ]
  },
  {
   "cell_type": "code",
   "execution_count": 473,
   "metadata": {
    "collapsed": false,
    "run_control": {
     "frozen": false,
     "read_only": false
    }
   },
   "outputs": [],
   "source": [
    "static_params = {\n",
    "    'title': \"Answer Science Questions with Provided Material (Large Bonus Potential!)\",\n",
    "    'description': \"Answer science questions with a $0.30 bonus for a correct answer\",\n",
    "    'keywords': ['science', 'text' ,'question answering', 'reading comprehension'],\n",
    "    'frame_height': 800,\n",
    "    'amount': 0.02,\n",
    "    'duration': 3600 * 1,\n",
    "    'lifetime': 3600 * 24 * 2,\n",
    "    'max_assignments': 3\n",
    "}"
   ]
  },
  {
   "cell_type": "markdown",
   "metadata": {},
   "source": [
    "### creates HITs, careful with this one"
   ]
  },
  {
   "cell_type": "code",
   "execution_count": 477,
   "metadata": {
    "collapsed": false,
    "run_control": {
     "frozen": false,
     "read_only": false
    }
   },
   "outputs": [
    {
     "name": "stdout",
     "output_type": "stream",
     "text": [
      "expect this batch of HITs to cost: $12.0\n"
     ]
    }
   ],
   "source": [
    "questions_to_submit = questions_urls\n",
    "expected_cost = len(questions_to_submit) *  static_params['amount'] * static_params['max_assignments']\n",
    "if float(current_account_balance.amount) < expected_cost:\n",
    "    print('WARNING -- account balance is too low -- WARNING')\n",
    "print('expect this batch of HITs to cost: $' + str(expected_cost))"
   ]
  },
  {
   "cell_type": "markdown",
   "metadata": {},
   "source": [
    "uncomment cell below only when ready to submit"
   ]
  },
  {
   "cell_type": "code",
   "execution_count": 479,
   "metadata": {
    "code_folding": [],
    "collapsed": false,
    "run_control": {
     "frozen": false,
     "read_only": false
    }
   },
   "outputs": [],
   "source": [
    "# amt_util.create_hits_from_pages(mturk, questions_to_submit, static_params)"
   ]
  },
  {
   "cell_type": "code",
   "execution_count": null,
   "metadata": {
    "collapsed": true,
    "run_control": {
     "frozen": false,
     "read_only": false
    }
   },
   "outputs": [],
   "source": []
  },
  {
   "cell_type": "markdown",
   "metadata": {},
   "source": [
    "# Reviewing latest HITs"
   ]
  },
  {
   "cell_type": "markdown",
   "metadata": {},
   "source": [
    "## download"
   ]
  },
  {
   "cell_type": "code",
   "execution_count": 480,
   "metadata": {
    "collapsed": false,
    "run_control": {
     "frozen": false,
     "read_only": false
    }
   },
   "outputs": [],
   "source": [
    "r_hits_current_batch = amt_util.get_completed_hits(mturk)\n",
    "assignment_results_current_batch = amt_util.get_assignments(mturk, r_hits_current_batch)"
   ]
  },
  {
   "cell_type": "code",
   "execution_count": 358,
   "metadata": {
    "collapsed": false,
    "run_control": {
     "frozen": false,
     "read_only": false
    }
   },
   "outputs": [
    {
     "data": {
      "text/plain": [
       "[<boto.mturk.connection.HIT at 0x11e112950>,\n",
       " <boto.mturk.connection.HIT at 0x11e112f50>,\n",
       " <boto.mturk.connection.HIT at 0x11e112610>,\n",
       " <boto.mturk.connection.HIT at 0x11e1123d0>,\n",
       " <boto.mturk.connection.HIT at 0x11dd593d0>,\n",
       " <boto.mturk.connection.HIT at 0x11dd59350>,\n",
       " <boto.mturk.connection.HIT at 0x11dd597d0>,\n",
       " <boto.mturk.connection.HIT at 0x11dd59cd0>,\n",
       " <boto.mturk.connection.HIT at 0x11dd59690>]"
      ]
     },
     "execution_count": 358,
     "metadata": {},
     "output_type": "execute_result"
    }
   ],
   "source": [
    "r_hits_current_batch"
   ]
  },
  {
   "cell_type": "code",
   "execution_count": 481,
   "metadata": {
    "collapsed": false,
    "run_control": {
     "frozen": false,
     "read_only": false
    }
   },
   "outputs": [
    {
     "data": {
      "text/plain": [
       "2227"
      ]
     },
     "execution_count": 481,
     "metadata": {},
     "output_type": "execute_result"
    }
   ],
   "source": [
    "len(assignment_results_current_batch)"
   ]
  },
  {
   "cell_type": "markdown",
   "metadata": {},
   "source": [
    "## process"
   ]
  },
  {
   "cell_type": "code",
   "execution_count": 482,
   "metadata": {
    "collapsed": false,
    "run_control": {
     "frozen": false,
     "read_only": false
    }
   },
   "outputs": [
    {
     "name": "stdout",
     "output_type": "stream",
     "text": [
      "current assignment statuses\n",
      "Approved     6570\n",
      "Submitted     111\n",
      "dtype: int64\n"
     ]
    }
   ],
   "source": [
    "print 'current assignment statuses'\n",
    "print amt_util.get_assignment_statuses(assignment_results_current_batch)"
   ]
  },
  {
   "cell_type": "code",
   "execution_count": 486,
   "metadata": {
    "collapsed": true,
    "run_control": {
     "frozen": false,
     "read_only": false
    }
   },
   "outputs": [],
   "source": [
    "submitted_assignments = defaultdict(list)\n",
    "for hitid, assignments in assignment_results_current_batch.items():\n",
    "    for assignment in assignments:\n",
    "        if assignment.AssignmentStatus == 'Submitted':\n",
    "            submitted_assignments[hitid].append(assignment)"
   ]
  },
  {
   "cell_type": "code",
   "execution_count": 487,
   "metadata": {
    "collapsed": false
   },
   "outputs": [
    {
     "data": {
      "text/plain": [
       "37"
      ]
     },
     "execution_count": 487,
     "metadata": {},
     "output_type": "execute_result"
    }
   ],
   "source": [
    "len(submitted_assignments)"
   ]
  },
  {
   "cell_type": "code",
   "execution_count": 489,
   "metadata": {
    "collapsed": false,
    "run_control": {
     "frozen": false,
     "read_only": false
    }
   },
   "outputs": [],
   "source": [
    "assigment_worker_lookup = {}\n",
    "for hit_id, hit_assignments in submitted_assignments.items():\n",
    "        for assignment in hit_assignments:\n",
    "            assigment_worker_lookup[assignment.AssignmentId]  = assignment.WorkerId"
   ]
  },
  {
   "cell_type": "code",
   "execution_count": 504,
   "metadata": {
    "collapsed": false,
    "run_control": {
     "frozen": false,
     "read_only": false
    }
   },
   "outputs": [],
   "source": [
    "def process_raw_hits(assignments_by_hit):\n",
    "    mechanical_turk_results = defaultdict(list)\n",
    "    for hit_id, hit_assignments in assignments_by_hit.items():\n",
    "        for assignment in hit_assignments:\n",
    "            for answers in assignment.answers:\n",
    "                q_id = answers[0].fields[0]\n",
    "                q_ans = answers[1].fields[0]\n",
    "                mechanical_turk_results[hit_id].append({\n",
    "                    assignment.AssignmentId: {q_id: q_ans.replace('.', '')}}\n",
    "                )\n",
    "    return mechanical_turk_results"
   ]
  },
  {
   "cell_type": "code",
   "execution_count": 505,
   "metadata": {
    "collapsed": false
   },
   "outputs": [],
   "source": [
    "proc_results = process_raw_hits(submitted_assignments)"
   ]
  },
  {
   "cell_type": "code",
   "execution_count": 501,
   "metadata": {
    "collapsed": true
   },
   "outputs": [],
   "source": [
    "def make_answer_json(assignment_results):\n",
    "    results = {}\n",
    "    for hid, assignments in assignment_results.items():\n",
    "        for assignment in assignments:\n",
    "            for aid, result in assignment.items():\n",
    "               results.update(result) \n",
    "    results_output = {k: v.replace('.', '') for k,v in results.items()}\n",
    "    return results_output"
   ]
  },
  {
   "cell_type": "code",
   "execution_count": 502,
   "metadata": {
    "collapsed": false
   },
   "outputs": [],
   "source": [
    "res_json = make_answer_json(proc_results)"
   ]
  },
  {
   "cell_type": "code",
   "execution_count": null,
   "metadata": {
    "collapsed": true
   },
   "outputs": [],
   "source": []
  },
  {
   "cell_type": "code",
   "execution_count": 389,
   "metadata": {
    "collapsed": false
   },
   "outputs": [],
   "source": [
    "with open('turker_answers.json', 'w') as f:\n",
    "    json.dump(res_json, f)"
   ]
  },
  {
   "cell_type": "code",
   "execution_count": 511,
   "metadata": {
    "collapsed": false,
    "run_control": {
     "frozen": false,
     "read_only": false
    }
   },
   "outputs": [],
   "source": [
    "def make_results_df(raw_hit_results):\n",
    "    col_names = ['qid', 'answer', 'hit_id', 'assignment_id']\n",
    "    results_df = pd.DataFrame(columns=col_names)\n",
    "    for hit_id, assignments in raw_hit_results.items():\n",
    "        for assignment in assignments:\n",
    "            for a_id, annotation in assignment.items():\n",
    "                for diagram, rectangles in annotation.items():\n",
    "                    for box in rectangles:\n",
    "                        results_df.loc[len(results_df)] = \\\n",
    "                            [diagram, box, hit_id, a_id]\n",
    "    return results_df"
   ]
  },
  {
   "cell_type": "code",
   "execution_count": 513,
   "metadata": {
    "collapsed": false,
    "scrolled": true
   },
   "outputs": [],
   "source": [
    "res_df = make_results_df(proc_results)"
   ]
  },
  {
   "cell_type": "code",
   "execution_count": 529,
   "metadata": {
    "collapsed": false
   },
   "outputs": [],
   "source": [
    "grouped_by_page = res_df.groupby(['qid'])"
   ]
  },
  {
   "cell_type": "code",
   "execution_count": 544,
   "metadata": {
    "collapsed": false
   },
   "outputs": [],
   "source": [
    "    grouped_by_page = res_df.groupby(['qid'])\n",
    "    aggregated_df = grouped_by_page.agg(pd.DataFrame.sum)"
   ]
  },
  {
   "cell_type": "code",
   "execution_count": 560,
   "metadata": {
    "collapsed": false
   },
   "outputs": [
    {
     "data": {
      "text/plain": [
       "21"
      ]
     },
     "execution_count": 560,
     "metadata": {},
     "output_type": "execute_result"
    }
   ],
   "source": [
    "sum(aggregated_df['answer'].apply(lambda x: st.mode(tuple(x))[1][0] < 3))"
   ]
  },
  {
   "cell_type": "code",
   "execution_count": 536,
   "metadata": {
    "collapsed": false,
    "scrolled": true
   },
   "outputs": [
    {
     "data": {
      "text/html": [
       "<div>\n",
       "<table border=\"1\" class=\"dataframe\">\n",
       "  <thead>\n",
       "    <tr style=\"text-align: right;\">\n",
       "      <th></th>\n",
       "      <th>qid</th>\n",
       "      <th>answer</th>\n",
       "      <th>hit_id</th>\n",
       "      <th>assignment_id</th>\n",
       "    </tr>\n",
       "  </thead>\n",
       "  <tbody>\n",
       "    <tr>\n",
       "      <th>0</th>\n",
       "      <td>NDQ_002321</td>\n",
       "      <td>f</td>\n",
       "      <td>3Q9SPIIRWKMNQQ35YOAL5Y7MX47AWB</td>\n",
       "      <td>3FIJLY1B6V4VPSL6NKNKGP51DKQPFX</td>\n",
       "    </tr>\n",
       "    <tr>\n",
       "      <th>1</th>\n",
       "      <td>NDQ_002321</td>\n",
       "      <td>c</td>\n",
       "      <td>3Q9SPIIRWKMNQQ35YOAL5Y7MX47AWB</td>\n",
       "      <td>34FNN24DCN9XW9KI8V6U7470SVG5YP</td>\n",
       "    </tr>\n",
       "    <tr>\n",
       "      <th>2</th>\n",
       "      <td>NDQ_002321</td>\n",
       "      <td>f</td>\n",
       "      <td>3Q9SPIIRWKMNQQ35YOAL5Y7MX47AWB</td>\n",
       "      <td>354P56DE9L3FNRMSXIT2N2XV2GFS7D</td>\n",
       "    </tr>\n",
       "    <tr>\n",
       "      <th>3</th>\n",
       "      <td>NDQ_002305</td>\n",
       "      <td>b</td>\n",
       "      <td>3TRB893CSKA9A2F7CGUJ94J828BG7R</td>\n",
       "      <td>3WSELTNVR42YLTX5TLAC7YV757YTAT</td>\n",
       "    </tr>\n",
       "    <tr>\n",
       "      <th>4</th>\n",
       "      <td>NDQ_002305</td>\n",
       "      <td>b</td>\n",
       "      <td>3TRB893CSKA9A2F7CGUJ94J828BG7R</td>\n",
       "      <td>3NQL1CS15S8EU3ZXEMO7B21Z5JHYVO</td>\n",
       "    </tr>\n",
       "    <tr>\n",
       "      <th>5</th>\n",
       "      <td>NDQ_002305</td>\n",
       "      <td>b</td>\n",
       "      <td>3TRB893CSKA9A2F7CGUJ94J828BG7R</td>\n",
       "      <td>3X66WABAJXIUW3CE06WVL72C93ZG3C</td>\n",
       "    </tr>\n",
       "    <tr>\n",
       "      <th>6</th>\n",
       "      <td>NDQ_014220</td>\n",
       "      <td>e</td>\n",
       "      <td>3XBXDSS889JJB9ZZ5KVXGV140ICLXX</td>\n",
       "      <td>3PW9OPU9PRK876QSENXNVATE10G12M</td>\n",
       "    </tr>\n",
       "    <tr>\n",
       "      <th>7</th>\n",
       "      <td>NDQ_014220</td>\n",
       "      <td>d</td>\n",
       "      <td>3XBXDSS889JJB9ZZ5KVXGV140ICLXX</td>\n",
       "      <td>3YT88D1N09YZYP8XQXHAJZU5GKGK3J</td>\n",
       "    </tr>\n",
       "    <tr>\n",
       "      <th>8</th>\n",
       "      <td>NDQ_014220</td>\n",
       "      <td>d</td>\n",
       "      <td>3XBXDSS889JJB9ZZ5KVXGV140ICLXX</td>\n",
       "      <td>3IAS3U3I0GG9K48KGKQC1M6NNC82B7</td>\n",
       "    </tr>\n",
       "    <tr>\n",
       "      <th>9</th>\n",
       "      <td>NDQ_015945</td>\n",
       "      <td>b</td>\n",
       "      <td>3NZ1E5QA601YWHTD81N8A9EFVPOB5Q</td>\n",
       "      <td>3FE7TXL1LJNWOAA9Z2N2WB1M9C82QI</td>\n",
       "    </tr>\n",
       "    <tr>\n",
       "      <th>10</th>\n",
       "      <td>NDQ_015945</td>\n",
       "      <td>a</td>\n",
       "      <td>3NZ1E5QA601YWHTD81N8A9EFVPOB5Q</td>\n",
       "      <td>3XCC1ODXDMBDSURUES23XJ9UL4ORQM</td>\n",
       "    </tr>\n",
       "    <tr>\n",
       "      <th>11</th>\n",
       "      <td>NDQ_015945</td>\n",
       "      <td>d</td>\n",
       "      <td>3NZ1E5QA601YWHTD81N8A9EFVPOB5Q</td>\n",
       "      <td>34HJIJKLP6WYWWLDPF00VDXSAIJV41</td>\n",
       "    </tr>\n",
       "    <tr>\n",
       "      <th>12</th>\n",
       "      <td>NDQ_001593</td>\n",
       "      <td>a</td>\n",
       "      <td>32TZXEA1OMKFN07LSZB9Z5VS9H214S</td>\n",
       "      <td>31HQ4X3T3TAE2CBU1CUC67FWX0JLSE</td>\n",
       "    </tr>\n",
       "    <tr>\n",
       "      <th>13</th>\n",
       "      <td>NDQ_001593</td>\n",
       "      <td>a</td>\n",
       "      <td>32TZXEA1OMKFN07LSZB9Z5VS9H214S</td>\n",
       "      <td>3VA45EW49ONMEDFX1LVK2NWH25C1OS</td>\n",
       "    </tr>\n",
       "    <tr>\n",
       "      <th>14</th>\n",
       "      <td>NDQ_001593</td>\n",
       "      <td>a</td>\n",
       "      <td>32TZXEA1OMKFN07LSZB9Z5VS9H214S</td>\n",
       "      <td>3JPSL1DZ5TZ0QGSLWPO0YZPFGPDNAN</td>\n",
       "    </tr>\n",
       "    <tr>\n",
       "      <th>15</th>\n",
       "      <td>NDQ_002298</td>\n",
       "      <td>a</td>\n",
       "      <td>3J9UN9O9J4S5JT5OZNUDR211MMMJ0Y</td>\n",
       "      <td>317HQ483I8SFWYBJ8DGDFXDYTXIINM</td>\n",
       "    </tr>\n",
       "    <tr>\n",
       "      <th>16</th>\n",
       "      <td>NDQ_002298</td>\n",
       "      <td>a</td>\n",
       "      <td>3J9UN9O9J4S5JT5OZNUDR211MMMJ0Y</td>\n",
       "      <td>374TNBHA8CVMPV3GSNUX5F2ROR3QYN</td>\n",
       "    </tr>\n",
       "    <tr>\n",
       "      <th>17</th>\n",
       "      <td>NDQ_002298</td>\n",
       "      <td>b</td>\n",
       "      <td>3J9UN9O9J4S5JT5OZNUDR211MMMJ0Y</td>\n",
       "      <td>32EYX73OY195KNYBV1M87K6JOPUURU</td>\n",
       "    </tr>\n",
       "    <tr>\n",
       "      <th>18</th>\n",
       "      <td>NDQ_001597</td>\n",
       "      <td>a</td>\n",
       "      <td>3PUV2Q8SV54T0U86N75R8L2786MDB0</td>\n",
       "      <td>3CFJTT4SXUQQTDJWS6ZOJ0R8TICI7A</td>\n",
       "    </tr>\n",
       "    <tr>\n",
       "      <th>19</th>\n",
       "      <td>NDQ_001597</td>\n",
       "      <td>a</td>\n",
       "      <td>3PUV2Q8SV54T0U86N75R8L2786MDB0</td>\n",
       "      <td>3EKVH9QMEZ42Z164UGHIWCUNQXJD2O</td>\n",
       "    </tr>\n",
       "    <tr>\n",
       "      <th>20</th>\n",
       "      <td>NDQ_001597</td>\n",
       "      <td>a</td>\n",
       "      <td>3PUV2Q8SV54T0U86N75R8L2786MDB0</td>\n",
       "      <td>31UV0MXWNRCB695D4DKRLGDC2CHI5V</td>\n",
       "    </tr>\n",
       "    <tr>\n",
       "      <th>21</th>\n",
       "      <td>NDQ_015965</td>\n",
       "      <td>a</td>\n",
       "      <td>3XEIP58NL1N8G4ZE62JIDGHF8IALZU</td>\n",
       "      <td>3570Y55XZQJVC692PRPLB1YPI4TYGZ</td>\n",
       "    </tr>\n",
       "    <tr>\n",
       "      <th>22</th>\n",
       "      <td>NDQ_015965</td>\n",
       "      <td>a</td>\n",
       "      <td>3XEIP58NL1N8G4ZE62JIDGHF8IALZU</td>\n",
       "      <td>320DUZ38G8M5HHE33ROI1EJ150LJGR</td>\n",
       "    </tr>\n",
       "    <tr>\n",
       "      <th>23</th>\n",
       "      <td>NDQ_015965</td>\n",
       "      <td>a</td>\n",
       "      <td>3XEIP58NL1N8G4ZE62JIDGHF8IALZU</td>\n",
       "      <td>3R6P78PK7LBZVKA8FL2M3K6A32CGTT</td>\n",
       "    </tr>\n",
       "    <tr>\n",
       "      <th>24</th>\n",
       "      <td>NDQ_002296</td>\n",
       "      <td>b</td>\n",
       "      <td>30ZKOOGW2X6UPPN210L0C8HS1RY1A3</td>\n",
       "      <td>37TD41K0AI9LZ8HOOZ1D3OP93R6CSQ</td>\n",
       "    </tr>\n",
       "    <tr>\n",
       "      <th>25</th>\n",
       "      <td>NDQ_002296</td>\n",
       "      <td>b</td>\n",
       "      <td>30ZKOOGW2X6UPPN210L0C8HS1RY1A3</td>\n",
       "      <td>3F0BG9B9MQNCJDY1WOLR5OLWJ1BY7X</td>\n",
       "    </tr>\n",
       "    <tr>\n",
       "      <th>26</th>\n",
       "      <td>NDQ_002296</td>\n",
       "      <td>b</td>\n",
       "      <td>30ZKOOGW2X6UPPN210L0C8HS1RY1A3</td>\n",
       "      <td>3OB0CAO74IP9C24D9X73W1AQX47YHZ</td>\n",
       "    </tr>\n",
       "    <tr>\n",
       "      <th>27</th>\n",
       "      <td>NDQ_001619</td>\n",
       "      <td>f</td>\n",
       "      <td>3D1TUISJWJ0P44XYFCNX48A8PW1IUO</td>\n",
       "      <td>3GDTJDAPVVBGPAE6NQPMPTUKLB2M8H</td>\n",
       "    </tr>\n",
       "    <tr>\n",
       "      <th>28</th>\n",
       "      <td>NDQ_001619</td>\n",
       "      <td>b</td>\n",
       "      <td>3D1TUISJWJ0P44XYFCNX48A8PW1IUO</td>\n",
       "      <td>32SCWG5HII4Z6ZSVMRKGMJSOKLO6PC</td>\n",
       "    </tr>\n",
       "    <tr>\n",
       "      <th>29</th>\n",
       "      <td>NDQ_001619</td>\n",
       "      <td>c</td>\n",
       "      <td>3D1TUISJWJ0P44XYFCNX48A8PW1IUO</td>\n",
       "      <td>35GMH2SV3FHLYE99D9QZ97FBREGEOO</td>\n",
       "    </tr>\n",
       "    <tr>\n",
       "      <th>...</th>\n",
       "      <td>...</td>\n",
       "      <td>...</td>\n",
       "      <td>...</td>\n",
       "      <td>...</td>\n",
       "    </tr>\n",
       "    <tr>\n",
       "      <th>81</th>\n",
       "      <td>NDQ_015959</td>\n",
       "      <td>a</td>\n",
       "      <td>304QEQWKZQKJK4WLF0MIZYINLGWO0M</td>\n",
       "      <td>31IBVUNM9TZ8UCI29WWJMHUJZ8SFV9</td>\n",
       "    </tr>\n",
       "    <tr>\n",
       "      <th>82</th>\n",
       "      <td>NDQ_015959</td>\n",
       "      <td>b</td>\n",
       "      <td>304QEQWKZQKJK4WLF0MIZYINLGWO0M</td>\n",
       "      <td>39GAF6DQWS0H4XOU2XHYXFQPYY91VU</td>\n",
       "    </tr>\n",
       "    <tr>\n",
       "      <th>83</th>\n",
       "      <td>NDQ_015959</td>\n",
       "      <td>a</td>\n",
       "      <td>304QEQWKZQKJK4WLF0MIZYINLGWO0M</td>\n",
       "      <td>3NC5L260MPMD4S958KA5RP0B3FVOFG</td>\n",
       "    </tr>\n",
       "    <tr>\n",
       "      <th>84</th>\n",
       "      <td>NDQ_009633</td>\n",
       "      <td>a</td>\n",
       "      <td>3IYI9285WT0PDL04B3NXM332VBJJCR</td>\n",
       "      <td>3PIWWX1FJK6F8J44BX9LYRBHXS1JJU</td>\n",
       "    </tr>\n",
       "    <tr>\n",
       "      <th>85</th>\n",
       "      <td>NDQ_009633</td>\n",
       "      <td>d</td>\n",
       "      <td>3IYI9285WT0PDL04B3NXM332VBJJCR</td>\n",
       "      <td>386PBUZZXGXL39S4EILYE6O91H7LJZ</td>\n",
       "    </tr>\n",
       "    <tr>\n",
       "      <th>86</th>\n",
       "      <td>NDQ_009633</td>\n",
       "      <td>d</td>\n",
       "      <td>3IYI9285WT0PDL04B3NXM332VBJJCR</td>\n",
       "      <td>3VP0C6EFSHWTLWVIUBSO5FYTFGD6MG</td>\n",
       "    </tr>\n",
       "    <tr>\n",
       "      <th>87</th>\n",
       "      <td>NDQ_001594</td>\n",
       "      <td>a</td>\n",
       "      <td>3ULIZ0H1VB5XJJBL64UJ4X169DX15X</td>\n",
       "      <td>3PH3VY7DJMXREI970IVMBBTFIMNZWQ</td>\n",
       "    </tr>\n",
       "    <tr>\n",
       "      <th>88</th>\n",
       "      <td>NDQ_001594</td>\n",
       "      <td>b</td>\n",
       "      <td>3ULIZ0H1VB5XJJBL64UJ4X169DX15X</td>\n",
       "      <td>3PXX5PX6LYYYP73OTZJR74PLZ0ZABL</td>\n",
       "    </tr>\n",
       "    <tr>\n",
       "      <th>89</th>\n",
       "      <td>NDQ_001594</td>\n",
       "      <td>a</td>\n",
       "      <td>3ULIZ0H1VB5XJJBL64UJ4X169DX15X</td>\n",
       "      <td>3URFVVM166IEMEK25IGLTN8IX6DZUS</td>\n",
       "    </tr>\n",
       "    <tr>\n",
       "      <th>90</th>\n",
       "      <td>NDQ_009178</td>\n",
       "      <td>b</td>\n",
       "      <td>3421H3BM9BHNFNT1ZJD6KD2UPQGJ9A</td>\n",
       "      <td>3DY4FPOOA2O5X2NB0RWD36822W2RVF</td>\n",
       "    </tr>\n",
       "    <tr>\n",
       "      <th>91</th>\n",
       "      <td>NDQ_009178</td>\n",
       "      <td>a</td>\n",
       "      <td>3421H3BM9BHNFNT1ZJD6KD2UPQGJ9A</td>\n",
       "      <td>3RGU30DZTB859RAPEUMDEJ3Y1MWMJ1</td>\n",
       "    </tr>\n",
       "    <tr>\n",
       "      <th>92</th>\n",
       "      <td>NDQ_009178</td>\n",
       "      <td>a</td>\n",
       "      <td>3421H3BM9BHNFNT1ZJD6KD2UPQGJ9A</td>\n",
       "      <td>3UWN2HHPUZ54QCEFDPARJZJL2VJSNN</td>\n",
       "    </tr>\n",
       "    <tr>\n",
       "      <th>93</th>\n",
       "      <td>NDQ_009649</td>\n",
       "      <td>a</td>\n",
       "      <td>3TTPFEFXCUK46YWDDC79OQVDMX46HH</td>\n",
       "      <td>3018Q3ZVOJQL5EKDPW5H7JUPHM1RAE</td>\n",
       "    </tr>\n",
       "    <tr>\n",
       "      <th>94</th>\n",
       "      <td>NDQ_009649</td>\n",
       "      <td>a</td>\n",
       "      <td>3TTPFEFXCUK46YWDDC79OQVDMX46HH</td>\n",
       "      <td>3Z4XG4ZF49RRJMDA1XRV0AAISFN8XO</td>\n",
       "    </tr>\n",
       "    <tr>\n",
       "      <th>95</th>\n",
       "      <td>NDQ_009649</td>\n",
       "      <td>b</td>\n",
       "      <td>3TTPFEFXCUK46YWDDC79OQVDMX46HH</td>\n",
       "      <td>3TPWUS5F8A1E6PYX84BE0DSU941WCO</td>\n",
       "    </tr>\n",
       "    <tr>\n",
       "      <th>96</th>\n",
       "      <td>NDQ_002308</td>\n",
       "      <td>a</td>\n",
       "      <td>3VJ4PFXFJ47AYME03OVKNAMPCOWAUC</td>\n",
       "      <td>3T111IHZ5FQ70VA8XQRHBOJ5B4JR9Z</td>\n",
       "    </tr>\n",
       "    <tr>\n",
       "      <th>97</th>\n",
       "      <td>NDQ_002308</td>\n",
       "      <td>b</td>\n",
       "      <td>3VJ4PFXFJ47AYME03OVKNAMPCOWAUC</td>\n",
       "      <td>36NEMU28XGDRFBAOLT5S39X63I6WM7</td>\n",
       "    </tr>\n",
       "    <tr>\n",
       "      <th>98</th>\n",
       "      <td>NDQ_002308</td>\n",
       "      <td>a</td>\n",
       "      <td>3VJ4PFXFJ47AYME03OVKNAMPCOWAUC</td>\n",
       "      <td>3Y54SXRO1MLI02B3ZQR37Z71CARUT7</td>\n",
       "    </tr>\n",
       "    <tr>\n",
       "      <th>99</th>\n",
       "      <td>NDQ_007280</td>\n",
       "      <td>g</td>\n",
       "      <td>3TL87MO8CNP2BN8E5QPBAO1XWDGLF6</td>\n",
       "      <td>34HJIJKLP6WYWWLDPF00VDXSAIIV40</td>\n",
       "    </tr>\n",
       "    <tr>\n",
       "      <th>100</th>\n",
       "      <td>NDQ_007280</td>\n",
       "      <td>g</td>\n",
       "      <td>3TL87MO8CNP2BN8E5QPBAO1XWDGLF6</td>\n",
       "      <td>3ZGVPD4G6UHZM15D5DQBORMGES5TZU</td>\n",
       "    </tr>\n",
       "    <tr>\n",
       "      <th>101</th>\n",
       "      <td>NDQ_007280</td>\n",
       "      <td>g</td>\n",
       "      <td>3TL87MO8CNP2BN8E5QPBAO1XWDGLF6</td>\n",
       "      <td>3JJVG1YBECX1J1R7Y3SAZT9Z7MYB5G</td>\n",
       "    </tr>\n",
       "    <tr>\n",
       "      <th>102</th>\n",
       "      <td>NDQ_006659</td>\n",
       "      <td>a</td>\n",
       "      <td>3H5TOKO3DAJAUM8IY5NQU1M9HSI46T</td>\n",
       "      <td>36PW28KO40WWWAF83QLH8CV62XCEAP</td>\n",
       "    </tr>\n",
       "    <tr>\n",
       "      <th>103</th>\n",
       "      <td>NDQ_006659</td>\n",
       "      <td>b</td>\n",
       "      <td>3H5TOKO3DAJAUM8IY5NQU1M9HSI46T</td>\n",
       "      <td>3S0TNUHWKUIDLG8TAXQJ637QCXBD8R</td>\n",
       "    </tr>\n",
       "    <tr>\n",
       "      <th>104</th>\n",
       "      <td>NDQ_006659</td>\n",
       "      <td>a</td>\n",
       "      <td>3H5TOKO3DAJAUM8IY5NQU1M9HSI46T</td>\n",
       "      <td>3SPJ0334223538Z3XXAO8EQ5AWAJYO</td>\n",
       "    </tr>\n",
       "    <tr>\n",
       "      <th>105</th>\n",
       "      <td>NDQ_009158</td>\n",
       "      <td>d</td>\n",
       "      <td>3EKTG13IZV38HX0VRDTO5EL6TESLMD</td>\n",
       "      <td>3TPWUS5F8A1E6PYX84BE0DSU941CW4</td>\n",
       "    </tr>\n",
       "    <tr>\n",
       "      <th>106</th>\n",
       "      <td>NDQ_009158</td>\n",
       "      <td>c</td>\n",
       "      <td>3EKTG13IZV38HX0VRDTO5EL6TESLMD</td>\n",
       "      <td>3Z4XG4ZF49RRJMDA1XRV0AAISFMX8C</td>\n",
       "    </tr>\n",
       "    <tr>\n",
       "      <th>107</th>\n",
       "      <td>NDQ_009158</td>\n",
       "      <td>d</td>\n",
       "      <td>3EKTG13IZV38HX0VRDTO5EL6TESLMD</td>\n",
       "      <td>38YMOXR4MVZPQ8PWYDYBED0KDIQW6W</td>\n",
       "    </tr>\n",
       "    <tr>\n",
       "      <th>108</th>\n",
       "      <td>NDQ_001941</td>\n",
       "      <td>d</td>\n",
       "      <td>3WRKFXQBOC76LDH3PDKM7TGLLKCIYM</td>\n",
       "      <td>3ZV9H2YQQE7QTP2EFB0D7AO03ROW3Q</td>\n",
       "    </tr>\n",
       "    <tr>\n",
       "      <th>109</th>\n",
       "      <td>NDQ_001941</td>\n",
       "      <td>d</td>\n",
       "      <td>3WRKFXQBOC76LDH3PDKM7TGLLKCIYM</td>\n",
       "      <td>3TAYZSBPLM881QPMR6C7RBGNR0TS2X</td>\n",
       "    </tr>\n",
       "    <tr>\n",
       "      <th>110</th>\n",
       "      <td>NDQ_001941</td>\n",
       "      <td>d</td>\n",
       "      <td>3WRKFXQBOC76LDH3PDKM7TGLLKCIYM</td>\n",
       "      <td>3EA3QWIZ4JVDRBG3592POWJQIF4TIY</td>\n",
       "    </tr>\n",
       "  </tbody>\n",
       "</table>\n",
       "<p>111 rows × 4 columns</p>\n",
       "</div>"
      ],
      "text/plain": [
       "            qid answer                          hit_id  \\\n",
       "0    NDQ_002321      f  3Q9SPIIRWKMNQQ35YOAL5Y7MX47AWB   \n",
       "1    NDQ_002321      c  3Q9SPIIRWKMNQQ35YOAL5Y7MX47AWB   \n",
       "2    NDQ_002321      f  3Q9SPIIRWKMNQQ35YOAL5Y7MX47AWB   \n",
       "3    NDQ_002305      b  3TRB893CSKA9A2F7CGUJ94J828BG7R   \n",
       "4    NDQ_002305      b  3TRB893CSKA9A2F7CGUJ94J828BG7R   \n",
       "5    NDQ_002305      b  3TRB893CSKA9A2F7CGUJ94J828BG7R   \n",
       "6    NDQ_014220      e  3XBXDSS889JJB9ZZ5KVXGV140ICLXX   \n",
       "7    NDQ_014220      d  3XBXDSS889JJB9ZZ5KVXGV140ICLXX   \n",
       "8    NDQ_014220      d  3XBXDSS889JJB9ZZ5KVXGV140ICLXX   \n",
       "9    NDQ_015945      b  3NZ1E5QA601YWHTD81N8A9EFVPOB5Q   \n",
       "10   NDQ_015945      a  3NZ1E5QA601YWHTD81N8A9EFVPOB5Q   \n",
       "11   NDQ_015945      d  3NZ1E5QA601YWHTD81N8A9EFVPOB5Q   \n",
       "12   NDQ_001593      a  32TZXEA1OMKFN07LSZB9Z5VS9H214S   \n",
       "13   NDQ_001593      a  32TZXEA1OMKFN07LSZB9Z5VS9H214S   \n",
       "14   NDQ_001593      a  32TZXEA1OMKFN07LSZB9Z5VS9H214S   \n",
       "15   NDQ_002298      a  3J9UN9O9J4S5JT5OZNUDR211MMMJ0Y   \n",
       "16   NDQ_002298      a  3J9UN9O9J4S5JT5OZNUDR211MMMJ0Y   \n",
       "17   NDQ_002298      b  3J9UN9O9J4S5JT5OZNUDR211MMMJ0Y   \n",
       "18   NDQ_001597      a  3PUV2Q8SV54T0U86N75R8L2786MDB0   \n",
       "19   NDQ_001597      a  3PUV2Q8SV54T0U86N75R8L2786MDB0   \n",
       "20   NDQ_001597      a  3PUV2Q8SV54T0U86N75R8L2786MDB0   \n",
       "21   NDQ_015965      a  3XEIP58NL1N8G4ZE62JIDGHF8IALZU   \n",
       "22   NDQ_015965      a  3XEIP58NL1N8G4ZE62JIDGHF8IALZU   \n",
       "23   NDQ_015965      a  3XEIP58NL1N8G4ZE62JIDGHF8IALZU   \n",
       "24   NDQ_002296      b  30ZKOOGW2X6UPPN210L0C8HS1RY1A3   \n",
       "25   NDQ_002296      b  30ZKOOGW2X6UPPN210L0C8HS1RY1A3   \n",
       "26   NDQ_002296      b  30ZKOOGW2X6UPPN210L0C8HS1RY1A3   \n",
       "27   NDQ_001619      f  3D1TUISJWJ0P44XYFCNX48A8PW1IUO   \n",
       "28   NDQ_001619      b  3D1TUISJWJ0P44XYFCNX48A8PW1IUO   \n",
       "29   NDQ_001619      c  3D1TUISJWJ0P44XYFCNX48A8PW1IUO   \n",
       "..          ...    ...                             ...   \n",
       "81   NDQ_015959      a  304QEQWKZQKJK4WLF0MIZYINLGWO0M   \n",
       "82   NDQ_015959      b  304QEQWKZQKJK4WLF0MIZYINLGWO0M   \n",
       "83   NDQ_015959      a  304QEQWKZQKJK4WLF0MIZYINLGWO0M   \n",
       "84   NDQ_009633      a  3IYI9285WT0PDL04B3NXM332VBJJCR   \n",
       "85   NDQ_009633      d  3IYI9285WT0PDL04B3NXM332VBJJCR   \n",
       "86   NDQ_009633      d  3IYI9285WT0PDL04B3NXM332VBJJCR   \n",
       "87   NDQ_001594      a  3ULIZ0H1VB5XJJBL64UJ4X169DX15X   \n",
       "88   NDQ_001594      b  3ULIZ0H1VB5XJJBL64UJ4X169DX15X   \n",
       "89   NDQ_001594      a  3ULIZ0H1VB5XJJBL64UJ4X169DX15X   \n",
       "90   NDQ_009178      b  3421H3BM9BHNFNT1ZJD6KD2UPQGJ9A   \n",
       "91   NDQ_009178      a  3421H3BM9BHNFNT1ZJD6KD2UPQGJ9A   \n",
       "92   NDQ_009178      a  3421H3BM9BHNFNT1ZJD6KD2UPQGJ9A   \n",
       "93   NDQ_009649      a  3TTPFEFXCUK46YWDDC79OQVDMX46HH   \n",
       "94   NDQ_009649      a  3TTPFEFXCUK46YWDDC79OQVDMX46HH   \n",
       "95   NDQ_009649      b  3TTPFEFXCUK46YWDDC79OQVDMX46HH   \n",
       "96   NDQ_002308      a  3VJ4PFXFJ47AYME03OVKNAMPCOWAUC   \n",
       "97   NDQ_002308      b  3VJ4PFXFJ47AYME03OVKNAMPCOWAUC   \n",
       "98   NDQ_002308      a  3VJ4PFXFJ47AYME03OVKNAMPCOWAUC   \n",
       "99   NDQ_007280      g  3TL87MO8CNP2BN8E5QPBAO1XWDGLF6   \n",
       "100  NDQ_007280      g  3TL87MO8CNP2BN8E5QPBAO1XWDGLF6   \n",
       "101  NDQ_007280      g  3TL87MO8CNP2BN8E5QPBAO1XWDGLF6   \n",
       "102  NDQ_006659      a  3H5TOKO3DAJAUM8IY5NQU1M9HSI46T   \n",
       "103  NDQ_006659      b  3H5TOKO3DAJAUM8IY5NQU1M9HSI46T   \n",
       "104  NDQ_006659      a  3H5TOKO3DAJAUM8IY5NQU1M9HSI46T   \n",
       "105  NDQ_009158      d  3EKTG13IZV38HX0VRDTO5EL6TESLMD   \n",
       "106  NDQ_009158      c  3EKTG13IZV38HX0VRDTO5EL6TESLMD   \n",
       "107  NDQ_009158      d  3EKTG13IZV38HX0VRDTO5EL6TESLMD   \n",
       "108  NDQ_001941      d  3WRKFXQBOC76LDH3PDKM7TGLLKCIYM   \n",
       "109  NDQ_001941      d  3WRKFXQBOC76LDH3PDKM7TGLLKCIYM   \n",
       "110  NDQ_001941      d  3WRKFXQBOC76LDH3PDKM7TGLLKCIYM   \n",
       "\n",
       "                      assignment_id  \n",
       "0    3FIJLY1B6V4VPSL6NKNKGP51DKQPFX  \n",
       "1    34FNN24DCN9XW9KI8V6U7470SVG5YP  \n",
       "2    354P56DE9L3FNRMSXIT2N2XV2GFS7D  \n",
       "3    3WSELTNVR42YLTX5TLAC7YV757YTAT  \n",
       "4    3NQL1CS15S8EU3ZXEMO7B21Z5JHYVO  \n",
       "5    3X66WABAJXIUW3CE06WVL72C93ZG3C  \n",
       "6    3PW9OPU9PRK876QSENXNVATE10G12M  \n",
       "7    3YT88D1N09YZYP8XQXHAJZU5GKGK3J  \n",
       "8    3IAS3U3I0GG9K48KGKQC1M6NNC82B7  \n",
       "9    3FE7TXL1LJNWOAA9Z2N2WB1M9C82QI  \n",
       "10   3XCC1ODXDMBDSURUES23XJ9UL4ORQM  \n",
       "11   34HJIJKLP6WYWWLDPF00VDXSAIJV41  \n",
       "12   31HQ4X3T3TAE2CBU1CUC67FWX0JLSE  \n",
       "13   3VA45EW49ONMEDFX1LVK2NWH25C1OS  \n",
       "14   3JPSL1DZ5TZ0QGSLWPO0YZPFGPDNAN  \n",
       "15   317HQ483I8SFWYBJ8DGDFXDYTXIINM  \n",
       "16   374TNBHA8CVMPV3GSNUX5F2ROR3QYN  \n",
       "17   32EYX73OY195KNYBV1M87K6JOPUURU  \n",
       "18   3CFJTT4SXUQQTDJWS6ZOJ0R8TICI7A  \n",
       "19   3EKVH9QMEZ42Z164UGHIWCUNQXJD2O  \n",
       "20   31UV0MXWNRCB695D4DKRLGDC2CHI5V  \n",
       "21   3570Y55XZQJVC692PRPLB1YPI4TYGZ  \n",
       "22   320DUZ38G8M5HHE33ROI1EJ150LJGR  \n",
       "23   3R6P78PK7LBZVKA8FL2M3K6A32CGTT  \n",
       "24   37TD41K0AI9LZ8HOOZ1D3OP93R6CSQ  \n",
       "25   3F0BG9B9MQNCJDY1WOLR5OLWJ1BY7X  \n",
       "26   3OB0CAO74IP9C24D9X73W1AQX47YHZ  \n",
       "27   3GDTJDAPVVBGPAE6NQPMPTUKLB2M8H  \n",
       "28   32SCWG5HII4Z6ZSVMRKGMJSOKLO6PC  \n",
       "29   35GMH2SV3FHLYE99D9QZ97FBREGEOO  \n",
       "..                              ...  \n",
       "81   31IBVUNM9TZ8UCI29WWJMHUJZ8SFV9  \n",
       "82   39GAF6DQWS0H4XOU2XHYXFQPYY91VU  \n",
       "83   3NC5L260MPMD4S958KA5RP0B3FVOFG  \n",
       "84   3PIWWX1FJK6F8J44BX9LYRBHXS1JJU  \n",
       "85   386PBUZZXGXL39S4EILYE6O91H7LJZ  \n",
       "86   3VP0C6EFSHWTLWVIUBSO5FYTFGD6MG  \n",
       "87   3PH3VY7DJMXREI970IVMBBTFIMNZWQ  \n",
       "88   3PXX5PX6LYYYP73OTZJR74PLZ0ZABL  \n",
       "89   3URFVVM166IEMEK25IGLTN8IX6DZUS  \n",
       "90   3DY4FPOOA2O5X2NB0RWD36822W2RVF  \n",
       "91   3RGU30DZTB859RAPEUMDEJ3Y1MWMJ1  \n",
       "92   3UWN2HHPUZ54QCEFDPARJZJL2VJSNN  \n",
       "93   3018Q3ZVOJQL5EKDPW5H7JUPHM1RAE  \n",
       "94   3Z4XG4ZF49RRJMDA1XRV0AAISFN8XO  \n",
       "95   3TPWUS5F8A1E6PYX84BE0DSU941WCO  \n",
       "96   3T111IHZ5FQ70VA8XQRHBOJ5B4JR9Z  \n",
       "97   36NEMU28XGDRFBAOLT5S39X63I6WM7  \n",
       "98   3Y54SXRO1MLI02B3ZQR37Z71CARUT7  \n",
       "99   34HJIJKLP6WYWWLDPF00VDXSAIIV40  \n",
       "100  3ZGVPD4G6UHZM15D5DQBORMGES5TZU  \n",
       "101  3JJVG1YBECX1J1R7Y3SAZT9Z7MYB5G  \n",
       "102  36PW28KO40WWWAF83QLH8CV62XCEAP  \n",
       "103  3S0TNUHWKUIDLG8TAXQJ637QCXBD8R  \n",
       "104  3SPJ0334223538Z3XXAO8EQ5AWAJYO  \n",
       "105  3TPWUS5F8A1E6PYX84BE0DSU941CW4  \n",
       "106  3Z4XG4ZF49RRJMDA1XRV0AAISFMX8C  \n",
       "107  38YMOXR4MVZPQ8PWYDYBED0KDIQW6W  \n",
       "108  3ZV9H2YQQE7QTP2EFB0D7AO03ROW3Q  \n",
       "109  3TAYZSBPLM881QPMR6C7RBGNR0TS2X  \n",
       "110  3EA3QWIZ4JVDRBG3592POWJQIF4TIY  \n",
       "\n",
       "[111 rows x 4 columns]"
      ]
     },
     "execution_count": 536,
     "metadata": {},
     "output_type": "execute_result"
    }
   ],
   "source": [
    "res_df"
   ]
  },
  {
   "cell_type": "code",
   "execution_count": 534,
   "metadata": {
    "collapsed": true,
    "run_control": {
     "frozen": false,
     "read_only": false
    }
   },
   "outputs": [],
   "source": [
    "def make_consensus_df(results_df, no_consensus_flag):\n",
    "    grouped_by_page = results_df.groupby(['qid'])\n",
    "    aggregated_df = grouped_by_page.agg(pd.DataFrame.mode)\n",
    "#     aggregated_df.drop([ 'page', 'box_id', 'worker_id'], axis=1, inplace=True)\n",
    "    aggregated_df = aggregated_df.fillna(no_consensus_flag)\n",
    "    consensus_results_df = aggregated_df.reset_index()\n",
    "#     consensus_results_df.drop('level_2', axis=1, inplace=True)\n",
    "    return consensus_results_df"
   ]
  },
  {
   "cell_type": "code",
   "execution_count": 535,
   "metadata": {
    "collapsed": false,
    "run_control": {
     "frozen": false,
     "read_only": false
    }
   },
   "outputs": [
    {
     "ename": "ValueError",
     "evalue": "cannot copy sequence with size 4 to array axis with dimension 1",
     "output_type": "error",
     "traceback": [
      "\u001b[0;31m---------------------------------------------------------------------------\u001b[0m",
      "\u001b[0;31mValueError\u001b[0m                                Traceback (most recent call last)",
      "\u001b[0;32m<ipython-input-535-d9bdc508977d>\u001b[0m in \u001b[0;36m<module>\u001b[0;34m()\u001b[0m\n\u001b[0;32m----> 1\u001b[0;31m \u001b[0mmake_consensus_df\u001b[0m\u001b[0;34m(\u001b[0m\u001b[0mres_df\u001b[0m\u001b[0;34m,\u001b[0m \u001b[0;34m'DIS'\u001b[0m\u001b[0;34m)\u001b[0m\u001b[0;34m\u001b[0m\u001b[0m\n\u001b[0m",
      "\u001b[0;32m<ipython-input-534-14a9894c8c89>\u001b[0m in \u001b[0;36mmake_consensus_df\u001b[0;34m(results_df, no_consensus_flag)\u001b[0m\n\u001b[1;32m      1\u001b[0m \u001b[0;32mdef\u001b[0m \u001b[0mmake_consensus_df\u001b[0m\u001b[0;34m(\u001b[0m\u001b[0mresults_df\u001b[0m\u001b[0;34m,\u001b[0m \u001b[0mno_consensus_flag\u001b[0m\u001b[0;34m)\u001b[0m\u001b[0;34m:\u001b[0m\u001b[0;34m\u001b[0m\u001b[0m\n\u001b[1;32m      2\u001b[0m     \u001b[0mgrouped_by_page\u001b[0m \u001b[0;34m=\u001b[0m \u001b[0mresults_df\u001b[0m\u001b[0;34m.\u001b[0m\u001b[0mgroupby\u001b[0m\u001b[0;34m(\u001b[0m\u001b[0;34m[\u001b[0m\u001b[0;34m'qid'\u001b[0m\u001b[0;34m]\u001b[0m\u001b[0;34m)\u001b[0m\u001b[0;34m\u001b[0m\u001b[0m\n\u001b[0;32m----> 3\u001b[0;31m     \u001b[0maggregated_df\u001b[0m \u001b[0;34m=\u001b[0m \u001b[0mgrouped_by_page\u001b[0m\u001b[0;34m.\u001b[0m\u001b[0magg\u001b[0m\u001b[0;34m(\u001b[0m\u001b[0mpd\u001b[0m\u001b[0;34m.\u001b[0m\u001b[0mDataFrame\u001b[0m\u001b[0;34m.\u001b[0m\u001b[0mmode\u001b[0m\u001b[0;34m)\u001b[0m\u001b[0;34m\u001b[0m\u001b[0m\n\u001b[0m\u001b[1;32m      4\u001b[0m \u001b[0;31m#     aggregated_df.drop([ 'page', 'box_id', 'worker_id'], axis=1, inplace=True)\u001b[0m\u001b[0;34m\u001b[0m\u001b[0;34m\u001b[0m\u001b[0m\n\u001b[1;32m      5\u001b[0m     \u001b[0maggregated_df\u001b[0m \u001b[0;34m=\u001b[0m \u001b[0maggregated_df\u001b[0m\u001b[0;34m.\u001b[0m\u001b[0mfillna\u001b[0m\u001b[0;34m(\u001b[0m\u001b[0mno_consensus_flag\u001b[0m\u001b[0;34m)\u001b[0m\u001b[0;34m\u001b[0m\u001b[0m\n",
      "\u001b[0;32m/usr/local/lib/python2.7/site-packages/pandas/core/groupby.pyc\u001b[0m in \u001b[0;36maggregate\u001b[0;34m(self, arg, *args, **kwargs)\u001b[0m\n\u001b[1;32m   3702\u001b[0m     \u001b[0;34m@\u001b[0m\u001b[0mAppender\u001b[0m\u001b[0;34m(\u001b[0m\u001b[0mSelectionMixin\u001b[0m\u001b[0;34m.\u001b[0m\u001b[0m_agg_doc\u001b[0m\u001b[0;34m)\u001b[0m\u001b[0;34m\u001b[0m\u001b[0m\n\u001b[1;32m   3703\u001b[0m     \u001b[0;32mdef\u001b[0m \u001b[0maggregate\u001b[0m\u001b[0;34m(\u001b[0m\u001b[0mself\u001b[0m\u001b[0;34m,\u001b[0m \u001b[0marg\u001b[0m\u001b[0;34m,\u001b[0m \u001b[0;34m*\u001b[0m\u001b[0margs\u001b[0m\u001b[0;34m,\u001b[0m \u001b[0;34m**\u001b[0m\u001b[0mkwargs\u001b[0m\u001b[0;34m)\u001b[0m\u001b[0;34m:\u001b[0m\u001b[0;34m\u001b[0m\u001b[0m\n\u001b[0;32m-> 3704\u001b[0;31m         \u001b[0;32mreturn\u001b[0m \u001b[0msuper\u001b[0m\u001b[0;34m(\u001b[0m\u001b[0mDataFrameGroupBy\u001b[0m\u001b[0;34m,\u001b[0m \u001b[0mself\u001b[0m\u001b[0;34m)\u001b[0m\u001b[0;34m.\u001b[0m\u001b[0maggregate\u001b[0m\u001b[0;34m(\u001b[0m\u001b[0marg\u001b[0m\u001b[0;34m,\u001b[0m \u001b[0;34m*\u001b[0m\u001b[0margs\u001b[0m\u001b[0;34m,\u001b[0m \u001b[0;34m**\u001b[0m\u001b[0mkwargs\u001b[0m\u001b[0;34m)\u001b[0m\u001b[0;34m\u001b[0m\u001b[0m\n\u001b[0m\u001b[1;32m   3705\u001b[0m \u001b[0;34m\u001b[0m\u001b[0m\n\u001b[1;32m   3706\u001b[0m     \u001b[0magg\u001b[0m \u001b[0;34m=\u001b[0m \u001b[0maggregate\u001b[0m\u001b[0;34m\u001b[0m\u001b[0m\n",
      "\u001b[0;32m/usr/local/lib/python2.7/site-packages/pandas/core/groupby.pyc\u001b[0m in \u001b[0;36maggregate\u001b[0;34m(self, arg, *args, **kwargs)\u001b[0m\n\u001b[1;32m   3211\u001b[0m                         name=self._selected_obj.columns.name)\n\u001b[1;32m   3212\u001b[0m                 \u001b[0;32mexcept\u001b[0m\u001b[0;34m:\u001b[0m\u001b[0;34m\u001b[0m\u001b[0m\n\u001b[0;32m-> 3213\u001b[0;31m                     \u001b[0mresult\u001b[0m \u001b[0;34m=\u001b[0m \u001b[0mself\u001b[0m\u001b[0;34m.\u001b[0m\u001b[0m_aggregate_generic\u001b[0m\u001b[0;34m(\u001b[0m\u001b[0marg\u001b[0m\u001b[0;34m,\u001b[0m \u001b[0;34m*\u001b[0m\u001b[0margs\u001b[0m\u001b[0;34m,\u001b[0m \u001b[0;34m**\u001b[0m\u001b[0mkwargs\u001b[0m\u001b[0;34m)\u001b[0m\u001b[0;34m\u001b[0m\u001b[0m\n\u001b[0m\u001b[1;32m   3214\u001b[0m \u001b[0;34m\u001b[0m\u001b[0m\n\u001b[1;32m   3215\u001b[0m         \u001b[0;32mif\u001b[0m \u001b[0;32mnot\u001b[0m \u001b[0mself\u001b[0m\u001b[0;34m.\u001b[0m\u001b[0mas_index\u001b[0m\u001b[0;34m:\u001b[0m\u001b[0;34m\u001b[0m\u001b[0m\n",
      "\u001b[0;32m/usr/local/lib/python2.7/site-packages/pandas/core/groupby.pyc\u001b[0m in \u001b[0;36m_aggregate_generic\u001b[0;34m(self, func, *args, **kwargs)\u001b[0m\n\u001b[1;32m   3246\u001b[0m                     \u001b[0mresult\u001b[0m\u001b[0;34m[\u001b[0m\u001b[0mname\u001b[0m\u001b[0;34m]\u001b[0m \u001b[0;34m=\u001b[0m \u001b[0mdata\u001b[0m\u001b[0;34m.\u001b[0m\u001b[0mapply\u001b[0m\u001b[0;34m(\u001b[0m\u001b[0mwrapper\u001b[0m\u001b[0;34m,\u001b[0m \u001b[0maxis\u001b[0m\u001b[0;34m=\u001b[0m\u001b[0maxis\u001b[0m\u001b[0;34m)\u001b[0m\u001b[0;34m\u001b[0m\u001b[0m\n\u001b[1;32m   3247\u001b[0m \u001b[0;34m\u001b[0m\u001b[0m\n\u001b[0;32m-> 3248\u001b[0;31m         \u001b[0;32mreturn\u001b[0m \u001b[0mself\u001b[0m\u001b[0;34m.\u001b[0m\u001b[0m_wrap_generic_output\u001b[0m\u001b[0;34m(\u001b[0m\u001b[0mresult\u001b[0m\u001b[0;34m,\u001b[0m \u001b[0mobj\u001b[0m\u001b[0;34m)\u001b[0m\u001b[0;34m\u001b[0m\u001b[0m\n\u001b[0m\u001b[1;32m   3249\u001b[0m \u001b[0;34m\u001b[0m\u001b[0m\n\u001b[1;32m   3250\u001b[0m     \u001b[0;32mdef\u001b[0m \u001b[0m_wrap_aggregated_output\u001b[0m\u001b[0;34m(\u001b[0m\u001b[0mself\u001b[0m\u001b[0;34m,\u001b[0m \u001b[0moutput\u001b[0m\u001b[0;34m,\u001b[0m \u001b[0mnames\u001b[0m\u001b[0;34m=\u001b[0m\u001b[0mNone\u001b[0m\u001b[0;34m)\u001b[0m\u001b[0;34m:\u001b[0m\u001b[0;34m\u001b[0m\u001b[0m\n",
      "\u001b[0;32m/usr/local/lib/python2.7/site-packages/pandas/core/groupby.pyc\u001b[0m in \u001b[0;36m_wrap_generic_output\u001b[0;34m(self, result, obj)\u001b[0m\n\u001b[1;32m   3740\u001b[0m         \u001b[0;32mif\u001b[0m \u001b[0mself\u001b[0m\u001b[0;34m.\u001b[0m\u001b[0maxis\u001b[0m \u001b[0;34m==\u001b[0m \u001b[0;36m0\u001b[0m\u001b[0;34m:\u001b[0m\u001b[0;34m\u001b[0m\u001b[0m\n\u001b[1;32m   3741\u001b[0m             return DataFrame(result, index=obj.columns,\n\u001b[0;32m-> 3742\u001b[0;31m                              columns=result_index).T\n\u001b[0m\u001b[1;32m   3743\u001b[0m         \u001b[0;32melse\u001b[0m\u001b[0;34m:\u001b[0m\u001b[0;34m\u001b[0m\u001b[0m\n\u001b[1;32m   3744\u001b[0m             return DataFrame(result, index=obj.index,\n",
      "\u001b[0;32m/usr/local/lib/python2.7/site-packages/pandas/core/frame.pyc\u001b[0m in \u001b[0;36m__init__\u001b[0;34m(self, data, index, columns, dtype, copy)\u001b[0m\n\u001b[1;32m    264\u001b[0m                                  dtype=dtype, copy=copy)\n\u001b[1;32m    265\u001b[0m         \u001b[0;32melif\u001b[0m \u001b[0misinstance\u001b[0m\u001b[0;34m(\u001b[0m\u001b[0mdata\u001b[0m\u001b[0;34m,\u001b[0m \u001b[0mdict\u001b[0m\u001b[0;34m)\u001b[0m\u001b[0;34m:\u001b[0m\u001b[0;34m\u001b[0m\u001b[0m\n\u001b[0;32m--> 266\u001b[0;31m             \u001b[0mmgr\u001b[0m \u001b[0;34m=\u001b[0m \u001b[0mself\u001b[0m\u001b[0;34m.\u001b[0m\u001b[0m_init_dict\u001b[0m\u001b[0;34m(\u001b[0m\u001b[0mdata\u001b[0m\u001b[0;34m,\u001b[0m \u001b[0mindex\u001b[0m\u001b[0;34m,\u001b[0m \u001b[0mcolumns\u001b[0m\u001b[0;34m,\u001b[0m \u001b[0mdtype\u001b[0m\u001b[0;34m=\u001b[0m\u001b[0mdtype\u001b[0m\u001b[0;34m)\u001b[0m\u001b[0;34m\u001b[0m\u001b[0m\n\u001b[0m\u001b[1;32m    267\u001b[0m         \u001b[0;32melif\u001b[0m \u001b[0misinstance\u001b[0m\u001b[0;34m(\u001b[0m\u001b[0mdata\u001b[0m\u001b[0;34m,\u001b[0m \u001b[0mma\u001b[0m\u001b[0;34m.\u001b[0m\u001b[0mMaskedArray\u001b[0m\u001b[0;34m)\u001b[0m\u001b[0;34m:\u001b[0m\u001b[0;34m\u001b[0m\u001b[0m\n\u001b[1;32m    268\u001b[0m             \u001b[0;32mimport\u001b[0m \u001b[0mnumpy\u001b[0m\u001b[0;34m.\u001b[0m\u001b[0mma\u001b[0m\u001b[0;34m.\u001b[0m\u001b[0mmrecords\u001b[0m \u001b[0;32mas\u001b[0m \u001b[0mmrecords\u001b[0m\u001b[0;34m\u001b[0m\u001b[0m\n",
      "\u001b[0;32m/usr/local/lib/python2.7/site-packages/pandas/core/frame.pyc\u001b[0m in \u001b[0;36m_init_dict\u001b[0;34m(self, data, index, columns, dtype)\u001b[0m\n\u001b[1;32m    400\u001b[0m             \u001b[0marrays\u001b[0m \u001b[0;34m=\u001b[0m \u001b[0;34m[\u001b[0m\u001b[0mdata\u001b[0m\u001b[0;34m[\u001b[0m\u001b[0mk\u001b[0m\u001b[0;34m]\u001b[0m \u001b[0;32mfor\u001b[0m \u001b[0mk\u001b[0m \u001b[0;32min\u001b[0m \u001b[0mkeys\u001b[0m\u001b[0;34m]\u001b[0m\u001b[0;34m\u001b[0m\u001b[0m\n\u001b[1;32m    401\u001b[0m \u001b[0;34m\u001b[0m\u001b[0m\n\u001b[0;32m--> 402\u001b[0;31m         \u001b[0;32mreturn\u001b[0m \u001b[0m_arrays_to_mgr\u001b[0m\u001b[0;34m(\u001b[0m\u001b[0marrays\u001b[0m\u001b[0;34m,\u001b[0m \u001b[0mdata_names\u001b[0m\u001b[0;34m,\u001b[0m \u001b[0mindex\u001b[0m\u001b[0;34m,\u001b[0m \u001b[0mcolumns\u001b[0m\u001b[0;34m,\u001b[0m \u001b[0mdtype\u001b[0m\u001b[0;34m=\u001b[0m\u001b[0mdtype\u001b[0m\u001b[0;34m)\u001b[0m\u001b[0;34m\u001b[0m\u001b[0m\n\u001b[0m\u001b[1;32m    403\u001b[0m \u001b[0;34m\u001b[0m\u001b[0m\n\u001b[1;32m    404\u001b[0m     \u001b[0;32mdef\u001b[0m \u001b[0m_init_ndarray\u001b[0m\u001b[0;34m(\u001b[0m\u001b[0mself\u001b[0m\u001b[0;34m,\u001b[0m \u001b[0mvalues\u001b[0m\u001b[0;34m,\u001b[0m \u001b[0mindex\u001b[0m\u001b[0;34m,\u001b[0m \u001b[0mcolumns\u001b[0m\u001b[0;34m,\u001b[0m \u001b[0mdtype\u001b[0m\u001b[0;34m=\u001b[0m\u001b[0mNone\u001b[0m\u001b[0;34m,\u001b[0m \u001b[0mcopy\u001b[0m\u001b[0;34m=\u001b[0m\u001b[0mFalse\u001b[0m\u001b[0;34m)\u001b[0m\u001b[0;34m:\u001b[0m\u001b[0;34m\u001b[0m\u001b[0m\n",
      "\u001b[0;32m/usr/local/lib/python2.7/site-packages/pandas/core/frame.pyc\u001b[0m in \u001b[0;36m_arrays_to_mgr\u001b[0;34m(arrays, arr_names, index, columns, dtype)\u001b[0m\n\u001b[1;32m   5401\u001b[0m \u001b[0;34m\u001b[0m\u001b[0m\n\u001b[1;32m   5402\u001b[0m     \u001b[0;31m# don't force copy because getting jammed in an ndarray anyway\u001b[0m\u001b[0;34m\u001b[0m\u001b[0;34m\u001b[0m\u001b[0m\n\u001b[0;32m-> 5403\u001b[0;31m     \u001b[0marrays\u001b[0m \u001b[0;34m=\u001b[0m \u001b[0m_homogenize\u001b[0m\u001b[0;34m(\u001b[0m\u001b[0marrays\u001b[0m\u001b[0;34m,\u001b[0m \u001b[0mindex\u001b[0m\u001b[0;34m,\u001b[0m \u001b[0mdtype\u001b[0m\u001b[0;34m)\u001b[0m\u001b[0;34m\u001b[0m\u001b[0m\n\u001b[0m\u001b[1;32m   5404\u001b[0m \u001b[0;34m\u001b[0m\u001b[0m\n\u001b[1;32m   5405\u001b[0m     \u001b[0;31m# from BlockManager perspective\u001b[0m\u001b[0;34m\u001b[0m\u001b[0;34m\u001b[0m\u001b[0m\n",
      "\u001b[0;32m/usr/local/lib/python2.7/site-packages/pandas/core/frame.pyc\u001b[0m in \u001b[0;36m_homogenize\u001b[0;34m(data, index, dtype)\u001b[0m\n\u001b[1;32m   5712\u001b[0m                 \u001b[0mv\u001b[0m \u001b[0;34m=\u001b[0m \u001b[0mlib\u001b[0m\u001b[0;34m.\u001b[0m\u001b[0mfast_multiget\u001b[0m\u001b[0;34m(\u001b[0m\u001b[0mv\u001b[0m\u001b[0;34m,\u001b[0m \u001b[0moindex\u001b[0m\u001b[0;34m.\u001b[0m\u001b[0mvalues\u001b[0m\u001b[0;34m,\u001b[0m \u001b[0mdefault\u001b[0m\u001b[0;34m=\u001b[0m\u001b[0mNA\u001b[0m\u001b[0;34m)\u001b[0m\u001b[0;34m\u001b[0m\u001b[0m\n\u001b[1;32m   5713\u001b[0m             v = _sanitize_array(v, index, dtype=dtype, copy=False,\n\u001b[0;32m-> 5714\u001b[0;31m                                 raise_cast_failure=False)\n\u001b[0m\u001b[1;32m   5715\u001b[0m \u001b[0;34m\u001b[0m\u001b[0m\n\u001b[1;32m   5716\u001b[0m         \u001b[0mhomogenized\u001b[0m\u001b[0;34m.\u001b[0m\u001b[0mappend\u001b[0m\u001b[0;34m(\u001b[0m\u001b[0mv\u001b[0m\u001b[0;34m)\u001b[0m\u001b[0;34m\u001b[0m\u001b[0m\n",
      "\u001b[0;32m/usr/local/lib/python2.7/site-packages/pandas/core/series.pyc\u001b[0m in \u001b[0;36m_sanitize_array\u001b[0;34m(data, index, dtype, copy, raise_cast_failure)\u001b[0m\n\u001b[1;32m   2950\u001b[0m             \u001b[0;32mraise\u001b[0m \u001b[0mException\u001b[0m\u001b[0;34m(\u001b[0m\u001b[0;34m'Data must be 1-dimensional'\u001b[0m\u001b[0;34m)\u001b[0m\u001b[0;34m\u001b[0m\u001b[0m\n\u001b[1;32m   2951\u001b[0m         \u001b[0;32melse\u001b[0m\u001b[0;34m:\u001b[0m\u001b[0;34m\u001b[0m\u001b[0m\n\u001b[0;32m-> 2952\u001b[0;31m             \u001b[0msubarr\u001b[0m \u001b[0;34m=\u001b[0m \u001b[0m_asarray_tuplesafe\u001b[0m\u001b[0;34m(\u001b[0m\u001b[0mdata\u001b[0m\u001b[0;34m,\u001b[0m \u001b[0mdtype\u001b[0m\u001b[0;34m=\u001b[0m\u001b[0mdtype\u001b[0m\u001b[0;34m)\u001b[0m\u001b[0;34m\u001b[0m\u001b[0m\n\u001b[0m\u001b[1;32m   2953\u001b[0m \u001b[0;34m\u001b[0m\u001b[0m\n\u001b[1;32m   2954\u001b[0m     \u001b[0;31m# This is to prevent mixed-type Series getting all casted to\u001b[0m\u001b[0;34m\u001b[0m\u001b[0;34m\u001b[0m\u001b[0m\n",
      "\u001b[0;32m/usr/local/lib/python2.7/site-packages/pandas/core/common.pyc\u001b[0m in \u001b[0;36m_asarray_tuplesafe\u001b[0;34m(values, dtype)\u001b[0m\n\u001b[1;32m    390\u001b[0m             \u001b[0;32mexcept\u001b[0m \u001b[0mValueError\u001b[0m\u001b[0;34m:\u001b[0m\u001b[0;34m\u001b[0m\u001b[0m\n\u001b[1;32m    391\u001b[0m                 \u001b[0;31m# we have a list-of-list\u001b[0m\u001b[0;34m\u001b[0m\u001b[0;34m\u001b[0m\u001b[0m\n\u001b[0;32m--> 392\u001b[0;31m                 \u001b[0mresult\u001b[0m\u001b[0;34m[\u001b[0m\u001b[0;34m:\u001b[0m\u001b[0;34m]\u001b[0m \u001b[0;34m=\u001b[0m \u001b[0;34m[\u001b[0m\u001b[0mtuple\u001b[0m\u001b[0;34m(\u001b[0m\u001b[0mx\u001b[0m\u001b[0;34m)\u001b[0m \u001b[0;32mfor\u001b[0m \u001b[0mx\u001b[0m \u001b[0;32min\u001b[0m \u001b[0mvalues\u001b[0m\u001b[0;34m]\u001b[0m\u001b[0;34m\u001b[0m\u001b[0m\n\u001b[0m\u001b[1;32m    393\u001b[0m \u001b[0;34m\u001b[0m\u001b[0m\n\u001b[1;32m    394\u001b[0m     \u001b[0;32mreturn\u001b[0m \u001b[0mresult\u001b[0m\u001b[0;34m\u001b[0m\u001b[0m\n",
      "\u001b[0;31mValueError\u001b[0m: cannot copy sequence with size 4 to array axis with dimension 1"
     ]
    }
   ],
   "source": [
    "make_consensus_df(res_df, 'DIS')"
   ]
  },
  {
   "cell_type": "code",
   "execution_count": 523,
   "metadata": {
    "collapsed": false
   },
   "outputs": [
    {
     "data": {
      "text/html": [
       "<div>\n",
       "<table border=\"1\" class=\"dataframe\">\n",
       "  <thead>\n",
       "    <tr style=\"text-align: right;\">\n",
       "      <th></th>\n",
       "      <th>qid</th>\n",
       "      <th>answer</th>\n",
       "      <th>hit_id</th>\n",
       "      <th>assignment_id</th>\n",
       "    </tr>\n",
       "  </thead>\n",
       "  <tbody>\n",
       "    <tr>\n",
       "      <th>0</th>\n",
       "      <td>NDQ_002321</td>\n",
       "      <td>f</td>\n",
       "      <td>3Q9SPIIRWKMNQQ35YOAL5Y7MX47AWB</td>\n",
       "      <td>3FIJLY1B6V4VPSL6NKNKGP51DKQPFX</td>\n",
       "    </tr>\n",
       "    <tr>\n",
       "      <th>1</th>\n",
       "      <td>NDQ_002321</td>\n",
       "      <td>c</td>\n",
       "      <td>3Q9SPIIRWKMNQQ35YOAL5Y7MX47AWB</td>\n",
       "      <td>34FNN24DCN9XW9KI8V6U7470SVG5YP</td>\n",
       "    </tr>\n",
       "    <tr>\n",
       "      <th>2</th>\n",
       "      <td>NDQ_002321</td>\n",
       "      <td>f</td>\n",
       "      <td>3Q9SPIIRWKMNQQ35YOAL5Y7MX47AWB</td>\n",
       "      <td>354P56DE9L3FNRMSXIT2N2XV2GFS7D</td>\n",
       "    </tr>\n",
       "    <tr>\n",
       "      <th>3</th>\n",
       "      <td>NDQ_002305</td>\n",
       "      <td>b</td>\n",
       "      <td>3TRB893CSKA9A2F7CGUJ94J828BG7R</td>\n",
       "      <td>3WSELTNVR42YLTX5TLAC7YV757YTAT</td>\n",
       "    </tr>\n",
       "    <tr>\n",
       "      <th>4</th>\n",
       "      <td>NDQ_002305</td>\n",
       "      <td>b</td>\n",
       "      <td>3TRB893CSKA9A2F7CGUJ94J828BG7R</td>\n",
       "      <td>3NQL1CS15S8EU3ZXEMO7B21Z5JHYVO</td>\n",
       "    </tr>\n",
       "    <tr>\n",
       "      <th>5</th>\n",
       "      <td>NDQ_002305</td>\n",
       "      <td>b</td>\n",
       "      <td>3TRB893CSKA9A2F7CGUJ94J828BG7R</td>\n",
       "      <td>3X66WABAJXIUW3CE06WVL72C93ZG3C</td>\n",
       "    </tr>\n",
       "    <tr>\n",
       "      <th>6</th>\n",
       "      <td>NDQ_014220</td>\n",
       "      <td>e</td>\n",
       "      <td>3XBXDSS889JJB9ZZ5KVXGV140ICLXX</td>\n",
       "      <td>3PW9OPU9PRK876QSENXNVATE10G12M</td>\n",
       "    </tr>\n",
       "    <tr>\n",
       "      <th>7</th>\n",
       "      <td>NDQ_014220</td>\n",
       "      <td>d</td>\n",
       "      <td>3XBXDSS889JJB9ZZ5KVXGV140ICLXX</td>\n",
       "      <td>3YT88D1N09YZYP8XQXHAJZU5GKGK3J</td>\n",
       "    </tr>\n",
       "    <tr>\n",
       "      <th>8</th>\n",
       "      <td>NDQ_014220</td>\n",
       "      <td>d</td>\n",
       "      <td>3XBXDSS889JJB9ZZ5KVXGV140ICLXX</td>\n",
       "      <td>3IAS3U3I0GG9K48KGKQC1M6NNC82B7</td>\n",
       "    </tr>\n",
       "    <tr>\n",
       "      <th>9</th>\n",
       "      <td>NDQ_015945</td>\n",
       "      <td>b</td>\n",
       "      <td>3NZ1E5QA601YWHTD81N8A9EFVPOB5Q</td>\n",
       "      <td>3FE7TXL1LJNWOAA9Z2N2WB1M9C82QI</td>\n",
       "    </tr>\n",
       "    <tr>\n",
       "      <th>10</th>\n",
       "      <td>NDQ_015945</td>\n",
       "      <td>a</td>\n",
       "      <td>3NZ1E5QA601YWHTD81N8A9EFVPOB5Q</td>\n",
       "      <td>3XCC1ODXDMBDSURUES23XJ9UL4ORQM</td>\n",
       "    </tr>\n",
       "    <tr>\n",
       "      <th>11</th>\n",
       "      <td>NDQ_015945</td>\n",
       "      <td>d</td>\n",
       "      <td>3NZ1E5QA601YWHTD81N8A9EFVPOB5Q</td>\n",
       "      <td>34HJIJKLP6WYWWLDPF00VDXSAIJV41</td>\n",
       "    </tr>\n",
       "    <tr>\n",
       "      <th>12</th>\n",
       "      <td>NDQ_001593</td>\n",
       "      <td>a</td>\n",
       "      <td>32TZXEA1OMKFN07LSZB9Z5VS9H214S</td>\n",
       "      <td>31HQ4X3T3TAE2CBU1CUC67FWX0JLSE</td>\n",
       "    </tr>\n",
       "    <tr>\n",
       "      <th>13</th>\n",
       "      <td>NDQ_001593</td>\n",
       "      <td>a</td>\n",
       "      <td>32TZXEA1OMKFN07LSZB9Z5VS9H214S</td>\n",
       "      <td>3VA45EW49ONMEDFX1LVK2NWH25C1OS</td>\n",
       "    </tr>\n",
       "    <tr>\n",
       "      <th>14</th>\n",
       "      <td>NDQ_001593</td>\n",
       "      <td>a</td>\n",
       "      <td>32TZXEA1OMKFN07LSZB9Z5VS9H214S</td>\n",
       "      <td>3JPSL1DZ5TZ0QGSLWPO0YZPFGPDNAN</td>\n",
       "    </tr>\n",
       "    <tr>\n",
       "      <th>15</th>\n",
       "      <td>NDQ_002298</td>\n",
       "      <td>a</td>\n",
       "      <td>3J9UN9O9J4S5JT5OZNUDR211MMMJ0Y</td>\n",
       "      <td>317HQ483I8SFWYBJ8DGDFXDYTXIINM</td>\n",
       "    </tr>\n",
       "    <tr>\n",
       "      <th>16</th>\n",
       "      <td>NDQ_002298</td>\n",
       "      <td>a</td>\n",
       "      <td>3J9UN9O9J4S5JT5OZNUDR211MMMJ0Y</td>\n",
       "      <td>374TNBHA8CVMPV3GSNUX5F2ROR3QYN</td>\n",
       "    </tr>\n",
       "    <tr>\n",
       "      <th>17</th>\n",
       "      <td>NDQ_002298</td>\n",
       "      <td>b</td>\n",
       "      <td>3J9UN9O9J4S5JT5OZNUDR211MMMJ0Y</td>\n",
       "      <td>32EYX73OY195KNYBV1M87K6JOPUURU</td>\n",
       "    </tr>\n",
       "    <tr>\n",
       "      <th>18</th>\n",
       "      <td>NDQ_001597</td>\n",
       "      <td>a</td>\n",
       "      <td>3PUV2Q8SV54T0U86N75R8L2786MDB0</td>\n",
       "      <td>3CFJTT4SXUQQTDJWS6ZOJ0R8TICI7A</td>\n",
       "    </tr>\n",
       "    <tr>\n",
       "      <th>19</th>\n",
       "      <td>NDQ_001597</td>\n",
       "      <td>a</td>\n",
       "      <td>3PUV2Q8SV54T0U86N75R8L2786MDB0</td>\n",
       "      <td>3EKVH9QMEZ42Z164UGHIWCUNQXJD2O</td>\n",
       "    </tr>\n",
       "    <tr>\n",
       "      <th>20</th>\n",
       "      <td>NDQ_001597</td>\n",
       "      <td>a</td>\n",
       "      <td>3PUV2Q8SV54T0U86N75R8L2786MDB0</td>\n",
       "      <td>31UV0MXWNRCB695D4DKRLGDC2CHI5V</td>\n",
       "    </tr>\n",
       "    <tr>\n",
       "      <th>21</th>\n",
       "      <td>NDQ_015965</td>\n",
       "      <td>a</td>\n",
       "      <td>3XEIP58NL1N8G4ZE62JIDGHF8IALZU</td>\n",
       "      <td>3570Y55XZQJVC692PRPLB1YPI4TYGZ</td>\n",
       "    </tr>\n",
       "    <tr>\n",
       "      <th>22</th>\n",
       "      <td>NDQ_015965</td>\n",
       "      <td>a</td>\n",
       "      <td>3XEIP58NL1N8G4ZE62JIDGHF8IALZU</td>\n",
       "      <td>320DUZ38G8M5HHE33ROI1EJ150LJGR</td>\n",
       "    </tr>\n",
       "    <tr>\n",
       "      <th>23</th>\n",
       "      <td>NDQ_015965</td>\n",
       "      <td>a</td>\n",
       "      <td>3XEIP58NL1N8G4ZE62JIDGHF8IALZU</td>\n",
       "      <td>3R6P78PK7LBZVKA8FL2M3K6A32CGTT</td>\n",
       "    </tr>\n",
       "    <tr>\n",
       "      <th>24</th>\n",
       "      <td>NDQ_002296</td>\n",
       "      <td>b</td>\n",
       "      <td>30ZKOOGW2X6UPPN210L0C8HS1RY1A3</td>\n",
       "      <td>37TD41K0AI9LZ8HOOZ1D3OP93R6CSQ</td>\n",
       "    </tr>\n",
       "    <tr>\n",
       "      <th>25</th>\n",
       "      <td>NDQ_002296</td>\n",
       "      <td>b</td>\n",
       "      <td>30ZKOOGW2X6UPPN210L0C8HS1RY1A3</td>\n",
       "      <td>3F0BG9B9MQNCJDY1WOLR5OLWJ1BY7X</td>\n",
       "    </tr>\n",
       "    <tr>\n",
       "      <th>26</th>\n",
       "      <td>NDQ_002296</td>\n",
       "      <td>b</td>\n",
       "      <td>30ZKOOGW2X6UPPN210L0C8HS1RY1A3</td>\n",
       "      <td>3OB0CAO74IP9C24D9X73W1AQX47YHZ</td>\n",
       "    </tr>\n",
       "    <tr>\n",
       "      <th>27</th>\n",
       "      <td>NDQ_001619</td>\n",
       "      <td>f</td>\n",
       "      <td>3D1TUISJWJ0P44XYFCNX48A8PW1IUO</td>\n",
       "      <td>3GDTJDAPVVBGPAE6NQPMPTUKLB2M8H</td>\n",
       "    </tr>\n",
       "    <tr>\n",
       "      <th>28</th>\n",
       "      <td>NDQ_001619</td>\n",
       "      <td>b</td>\n",
       "      <td>3D1TUISJWJ0P44XYFCNX48A8PW1IUO</td>\n",
       "      <td>32SCWG5HII4Z6ZSVMRKGMJSOKLO6PC</td>\n",
       "    </tr>\n",
       "    <tr>\n",
       "      <th>29</th>\n",
       "      <td>NDQ_001619</td>\n",
       "      <td>c</td>\n",
       "      <td>3D1TUISJWJ0P44XYFCNX48A8PW1IUO</td>\n",
       "      <td>35GMH2SV3FHLYE99D9QZ97FBREGEOO</td>\n",
       "    </tr>\n",
       "    <tr>\n",
       "      <th>...</th>\n",
       "      <td>...</td>\n",
       "      <td>...</td>\n",
       "      <td>...</td>\n",
       "      <td>...</td>\n",
       "    </tr>\n",
       "    <tr>\n",
       "      <th>81</th>\n",
       "      <td>NDQ_015959</td>\n",
       "      <td>a</td>\n",
       "      <td>304QEQWKZQKJK4WLF0MIZYINLGWO0M</td>\n",
       "      <td>31IBVUNM9TZ8UCI29WWJMHUJZ8SFV9</td>\n",
       "    </tr>\n",
       "    <tr>\n",
       "      <th>82</th>\n",
       "      <td>NDQ_015959</td>\n",
       "      <td>b</td>\n",
       "      <td>304QEQWKZQKJK4WLF0MIZYINLGWO0M</td>\n",
       "      <td>39GAF6DQWS0H4XOU2XHYXFQPYY91VU</td>\n",
       "    </tr>\n",
       "    <tr>\n",
       "      <th>83</th>\n",
       "      <td>NDQ_015959</td>\n",
       "      <td>a</td>\n",
       "      <td>304QEQWKZQKJK4WLF0MIZYINLGWO0M</td>\n",
       "      <td>3NC5L260MPMD4S958KA5RP0B3FVOFG</td>\n",
       "    </tr>\n",
       "    <tr>\n",
       "      <th>84</th>\n",
       "      <td>NDQ_009633</td>\n",
       "      <td>a</td>\n",
       "      <td>3IYI9285WT0PDL04B3NXM332VBJJCR</td>\n",
       "      <td>3PIWWX1FJK6F8J44BX9LYRBHXS1JJU</td>\n",
       "    </tr>\n",
       "    <tr>\n",
       "      <th>85</th>\n",
       "      <td>NDQ_009633</td>\n",
       "      <td>d</td>\n",
       "      <td>3IYI9285WT0PDL04B3NXM332VBJJCR</td>\n",
       "      <td>386PBUZZXGXL39S4EILYE6O91H7LJZ</td>\n",
       "    </tr>\n",
       "    <tr>\n",
       "      <th>86</th>\n",
       "      <td>NDQ_009633</td>\n",
       "      <td>d</td>\n",
       "      <td>3IYI9285WT0PDL04B3NXM332VBJJCR</td>\n",
       "      <td>3VP0C6EFSHWTLWVIUBSO5FYTFGD6MG</td>\n",
       "    </tr>\n",
       "    <tr>\n",
       "      <th>87</th>\n",
       "      <td>NDQ_001594</td>\n",
       "      <td>a</td>\n",
       "      <td>3ULIZ0H1VB5XJJBL64UJ4X169DX15X</td>\n",
       "      <td>3PH3VY7DJMXREI970IVMBBTFIMNZWQ</td>\n",
       "    </tr>\n",
       "    <tr>\n",
       "      <th>88</th>\n",
       "      <td>NDQ_001594</td>\n",
       "      <td>b</td>\n",
       "      <td>3ULIZ0H1VB5XJJBL64UJ4X169DX15X</td>\n",
       "      <td>3PXX5PX6LYYYP73OTZJR74PLZ0ZABL</td>\n",
       "    </tr>\n",
       "    <tr>\n",
       "      <th>89</th>\n",
       "      <td>NDQ_001594</td>\n",
       "      <td>a</td>\n",
       "      <td>3ULIZ0H1VB5XJJBL64UJ4X169DX15X</td>\n",
       "      <td>3URFVVM166IEMEK25IGLTN8IX6DZUS</td>\n",
       "    </tr>\n",
       "    <tr>\n",
       "      <th>90</th>\n",
       "      <td>NDQ_009178</td>\n",
       "      <td>b</td>\n",
       "      <td>3421H3BM9BHNFNT1ZJD6KD2UPQGJ9A</td>\n",
       "      <td>3DY4FPOOA2O5X2NB0RWD36822W2RVF</td>\n",
       "    </tr>\n",
       "    <tr>\n",
       "      <th>91</th>\n",
       "      <td>NDQ_009178</td>\n",
       "      <td>a</td>\n",
       "      <td>3421H3BM9BHNFNT1ZJD6KD2UPQGJ9A</td>\n",
       "      <td>3RGU30DZTB859RAPEUMDEJ3Y1MWMJ1</td>\n",
       "    </tr>\n",
       "    <tr>\n",
       "      <th>92</th>\n",
       "      <td>NDQ_009178</td>\n",
       "      <td>a</td>\n",
       "      <td>3421H3BM9BHNFNT1ZJD6KD2UPQGJ9A</td>\n",
       "      <td>3UWN2HHPUZ54QCEFDPARJZJL2VJSNN</td>\n",
       "    </tr>\n",
       "    <tr>\n",
       "      <th>93</th>\n",
       "      <td>NDQ_009649</td>\n",
       "      <td>a</td>\n",
       "      <td>3TTPFEFXCUK46YWDDC79OQVDMX46HH</td>\n",
       "      <td>3018Q3ZVOJQL5EKDPW5H7JUPHM1RAE</td>\n",
       "    </tr>\n",
       "    <tr>\n",
       "      <th>94</th>\n",
       "      <td>NDQ_009649</td>\n",
       "      <td>a</td>\n",
       "      <td>3TTPFEFXCUK46YWDDC79OQVDMX46HH</td>\n",
       "      <td>3Z4XG4ZF49RRJMDA1XRV0AAISFN8XO</td>\n",
       "    </tr>\n",
       "    <tr>\n",
       "      <th>95</th>\n",
       "      <td>NDQ_009649</td>\n",
       "      <td>b</td>\n",
       "      <td>3TTPFEFXCUK46YWDDC79OQVDMX46HH</td>\n",
       "      <td>3TPWUS5F8A1E6PYX84BE0DSU941WCO</td>\n",
       "    </tr>\n",
       "    <tr>\n",
       "      <th>96</th>\n",
       "      <td>NDQ_002308</td>\n",
       "      <td>a</td>\n",
       "      <td>3VJ4PFXFJ47AYME03OVKNAMPCOWAUC</td>\n",
       "      <td>3T111IHZ5FQ70VA8XQRHBOJ5B4JR9Z</td>\n",
       "    </tr>\n",
       "    <tr>\n",
       "      <th>97</th>\n",
       "      <td>NDQ_002308</td>\n",
       "      <td>b</td>\n",
       "      <td>3VJ4PFXFJ47AYME03OVKNAMPCOWAUC</td>\n",
       "      <td>36NEMU28XGDRFBAOLT5S39X63I6WM7</td>\n",
       "    </tr>\n",
       "    <tr>\n",
       "      <th>98</th>\n",
       "      <td>NDQ_002308</td>\n",
       "      <td>a</td>\n",
       "      <td>3VJ4PFXFJ47AYME03OVKNAMPCOWAUC</td>\n",
       "      <td>3Y54SXRO1MLI02B3ZQR37Z71CARUT7</td>\n",
       "    </tr>\n",
       "    <tr>\n",
       "      <th>99</th>\n",
       "      <td>NDQ_007280</td>\n",
       "      <td>g</td>\n",
       "      <td>3TL87MO8CNP2BN8E5QPBAO1XWDGLF6</td>\n",
       "      <td>34HJIJKLP6WYWWLDPF00VDXSAIIV40</td>\n",
       "    </tr>\n",
       "    <tr>\n",
       "      <th>100</th>\n",
       "      <td>NDQ_007280</td>\n",
       "      <td>g</td>\n",
       "      <td>3TL87MO8CNP2BN8E5QPBAO1XWDGLF6</td>\n",
       "      <td>3ZGVPD4G6UHZM15D5DQBORMGES5TZU</td>\n",
       "    </tr>\n",
       "    <tr>\n",
       "      <th>101</th>\n",
       "      <td>NDQ_007280</td>\n",
       "      <td>g</td>\n",
       "      <td>3TL87MO8CNP2BN8E5QPBAO1XWDGLF6</td>\n",
       "      <td>3JJVG1YBECX1J1R7Y3SAZT9Z7MYB5G</td>\n",
       "    </tr>\n",
       "    <tr>\n",
       "      <th>102</th>\n",
       "      <td>NDQ_006659</td>\n",
       "      <td>a</td>\n",
       "      <td>3H5TOKO3DAJAUM8IY5NQU1M9HSI46T</td>\n",
       "      <td>36PW28KO40WWWAF83QLH8CV62XCEAP</td>\n",
       "    </tr>\n",
       "    <tr>\n",
       "      <th>103</th>\n",
       "      <td>NDQ_006659</td>\n",
       "      <td>b</td>\n",
       "      <td>3H5TOKO3DAJAUM8IY5NQU1M9HSI46T</td>\n",
       "      <td>3S0TNUHWKUIDLG8TAXQJ637QCXBD8R</td>\n",
       "    </tr>\n",
       "    <tr>\n",
       "      <th>104</th>\n",
       "      <td>NDQ_006659</td>\n",
       "      <td>a</td>\n",
       "      <td>3H5TOKO3DAJAUM8IY5NQU1M9HSI46T</td>\n",
       "      <td>3SPJ0334223538Z3XXAO8EQ5AWAJYO</td>\n",
       "    </tr>\n",
       "    <tr>\n",
       "      <th>105</th>\n",
       "      <td>NDQ_009158</td>\n",
       "      <td>d</td>\n",
       "      <td>3EKTG13IZV38HX0VRDTO5EL6TESLMD</td>\n",
       "      <td>3TPWUS5F8A1E6PYX84BE0DSU941CW4</td>\n",
       "    </tr>\n",
       "    <tr>\n",
       "      <th>106</th>\n",
       "      <td>NDQ_009158</td>\n",
       "      <td>c</td>\n",
       "      <td>3EKTG13IZV38HX0VRDTO5EL6TESLMD</td>\n",
       "      <td>3Z4XG4ZF49RRJMDA1XRV0AAISFMX8C</td>\n",
       "    </tr>\n",
       "    <tr>\n",
       "      <th>107</th>\n",
       "      <td>NDQ_009158</td>\n",
       "      <td>d</td>\n",
       "      <td>3EKTG13IZV38HX0VRDTO5EL6TESLMD</td>\n",
       "      <td>38YMOXR4MVZPQ8PWYDYBED0KDIQW6W</td>\n",
       "    </tr>\n",
       "    <tr>\n",
       "      <th>108</th>\n",
       "      <td>NDQ_001941</td>\n",
       "      <td>d</td>\n",
       "      <td>3WRKFXQBOC76LDH3PDKM7TGLLKCIYM</td>\n",
       "      <td>3ZV9H2YQQE7QTP2EFB0D7AO03ROW3Q</td>\n",
       "    </tr>\n",
       "    <tr>\n",
       "      <th>109</th>\n",
       "      <td>NDQ_001941</td>\n",
       "      <td>d</td>\n",
       "      <td>3WRKFXQBOC76LDH3PDKM7TGLLKCIYM</td>\n",
       "      <td>3TAYZSBPLM881QPMR6C7RBGNR0TS2X</td>\n",
       "    </tr>\n",
       "    <tr>\n",
       "      <th>110</th>\n",
       "      <td>NDQ_001941</td>\n",
       "      <td>d</td>\n",
       "      <td>3WRKFXQBOC76LDH3PDKM7TGLLKCIYM</td>\n",
       "      <td>3EA3QWIZ4JVDRBG3592POWJQIF4TIY</td>\n",
       "    </tr>\n",
       "  </tbody>\n",
       "</table>\n",
       "<p>111 rows × 4 columns</p>\n",
       "</div>"
      ],
      "text/plain": [
       "            qid answer                          hit_id  \\\n",
       "0    NDQ_002321      f  3Q9SPIIRWKMNQQ35YOAL5Y7MX47AWB   \n",
       "1    NDQ_002321      c  3Q9SPIIRWKMNQQ35YOAL5Y7MX47AWB   \n",
       "2    NDQ_002321      f  3Q9SPIIRWKMNQQ35YOAL5Y7MX47AWB   \n",
       "3    NDQ_002305      b  3TRB893CSKA9A2F7CGUJ94J828BG7R   \n",
       "4    NDQ_002305      b  3TRB893CSKA9A2F7CGUJ94J828BG7R   \n",
       "5    NDQ_002305      b  3TRB893CSKA9A2F7CGUJ94J828BG7R   \n",
       "6    NDQ_014220      e  3XBXDSS889JJB9ZZ5KVXGV140ICLXX   \n",
       "7    NDQ_014220      d  3XBXDSS889JJB9ZZ5KVXGV140ICLXX   \n",
       "8    NDQ_014220      d  3XBXDSS889JJB9ZZ5KVXGV140ICLXX   \n",
       "9    NDQ_015945      b  3NZ1E5QA601YWHTD81N8A9EFVPOB5Q   \n",
       "10   NDQ_015945      a  3NZ1E5QA601YWHTD81N8A9EFVPOB5Q   \n",
       "11   NDQ_015945      d  3NZ1E5QA601YWHTD81N8A9EFVPOB5Q   \n",
       "12   NDQ_001593      a  32TZXEA1OMKFN07LSZB9Z5VS9H214S   \n",
       "13   NDQ_001593      a  32TZXEA1OMKFN07LSZB9Z5VS9H214S   \n",
       "14   NDQ_001593      a  32TZXEA1OMKFN07LSZB9Z5VS9H214S   \n",
       "15   NDQ_002298      a  3J9UN9O9J4S5JT5OZNUDR211MMMJ0Y   \n",
       "16   NDQ_002298      a  3J9UN9O9J4S5JT5OZNUDR211MMMJ0Y   \n",
       "17   NDQ_002298      b  3J9UN9O9J4S5JT5OZNUDR211MMMJ0Y   \n",
       "18   NDQ_001597      a  3PUV2Q8SV54T0U86N75R8L2786MDB0   \n",
       "19   NDQ_001597      a  3PUV2Q8SV54T0U86N75R8L2786MDB0   \n",
       "20   NDQ_001597      a  3PUV2Q8SV54T0U86N75R8L2786MDB0   \n",
       "21   NDQ_015965      a  3XEIP58NL1N8G4ZE62JIDGHF8IALZU   \n",
       "22   NDQ_015965      a  3XEIP58NL1N8G4ZE62JIDGHF8IALZU   \n",
       "23   NDQ_015965      a  3XEIP58NL1N8G4ZE62JIDGHF8IALZU   \n",
       "24   NDQ_002296      b  30ZKOOGW2X6UPPN210L0C8HS1RY1A3   \n",
       "25   NDQ_002296      b  30ZKOOGW2X6UPPN210L0C8HS1RY1A3   \n",
       "26   NDQ_002296      b  30ZKOOGW2X6UPPN210L0C8HS1RY1A3   \n",
       "27   NDQ_001619      f  3D1TUISJWJ0P44XYFCNX48A8PW1IUO   \n",
       "28   NDQ_001619      b  3D1TUISJWJ0P44XYFCNX48A8PW1IUO   \n",
       "29   NDQ_001619      c  3D1TUISJWJ0P44XYFCNX48A8PW1IUO   \n",
       "..          ...    ...                             ...   \n",
       "81   NDQ_015959      a  304QEQWKZQKJK4WLF0MIZYINLGWO0M   \n",
       "82   NDQ_015959      b  304QEQWKZQKJK4WLF0MIZYINLGWO0M   \n",
       "83   NDQ_015959      a  304QEQWKZQKJK4WLF0MIZYINLGWO0M   \n",
       "84   NDQ_009633      a  3IYI9285WT0PDL04B3NXM332VBJJCR   \n",
       "85   NDQ_009633      d  3IYI9285WT0PDL04B3NXM332VBJJCR   \n",
       "86   NDQ_009633      d  3IYI9285WT0PDL04B3NXM332VBJJCR   \n",
       "87   NDQ_001594      a  3ULIZ0H1VB5XJJBL64UJ4X169DX15X   \n",
       "88   NDQ_001594      b  3ULIZ0H1VB5XJJBL64UJ4X169DX15X   \n",
       "89   NDQ_001594      a  3ULIZ0H1VB5XJJBL64UJ4X169DX15X   \n",
       "90   NDQ_009178      b  3421H3BM9BHNFNT1ZJD6KD2UPQGJ9A   \n",
       "91   NDQ_009178      a  3421H3BM9BHNFNT1ZJD6KD2UPQGJ9A   \n",
       "92   NDQ_009178      a  3421H3BM9BHNFNT1ZJD6KD2UPQGJ9A   \n",
       "93   NDQ_009649      a  3TTPFEFXCUK46YWDDC79OQVDMX46HH   \n",
       "94   NDQ_009649      a  3TTPFEFXCUK46YWDDC79OQVDMX46HH   \n",
       "95   NDQ_009649      b  3TTPFEFXCUK46YWDDC79OQVDMX46HH   \n",
       "96   NDQ_002308      a  3VJ4PFXFJ47AYME03OVKNAMPCOWAUC   \n",
       "97   NDQ_002308      b  3VJ4PFXFJ47AYME03OVKNAMPCOWAUC   \n",
       "98   NDQ_002308      a  3VJ4PFXFJ47AYME03OVKNAMPCOWAUC   \n",
       "99   NDQ_007280      g  3TL87MO8CNP2BN8E5QPBAO1XWDGLF6   \n",
       "100  NDQ_007280      g  3TL87MO8CNP2BN8E5QPBAO1XWDGLF6   \n",
       "101  NDQ_007280      g  3TL87MO8CNP2BN8E5QPBAO1XWDGLF6   \n",
       "102  NDQ_006659      a  3H5TOKO3DAJAUM8IY5NQU1M9HSI46T   \n",
       "103  NDQ_006659      b  3H5TOKO3DAJAUM8IY5NQU1M9HSI46T   \n",
       "104  NDQ_006659      a  3H5TOKO3DAJAUM8IY5NQU1M9HSI46T   \n",
       "105  NDQ_009158      d  3EKTG13IZV38HX0VRDTO5EL6TESLMD   \n",
       "106  NDQ_009158      c  3EKTG13IZV38HX0VRDTO5EL6TESLMD   \n",
       "107  NDQ_009158      d  3EKTG13IZV38HX0VRDTO5EL6TESLMD   \n",
       "108  NDQ_001941      d  3WRKFXQBOC76LDH3PDKM7TGLLKCIYM   \n",
       "109  NDQ_001941      d  3WRKFXQBOC76LDH3PDKM7TGLLKCIYM   \n",
       "110  NDQ_001941      d  3WRKFXQBOC76LDH3PDKM7TGLLKCIYM   \n",
       "\n",
       "                      assignment_id  \n",
       "0    3FIJLY1B6V4VPSL6NKNKGP51DKQPFX  \n",
       "1    34FNN24DCN9XW9KI8V6U7470SVG5YP  \n",
       "2    354P56DE9L3FNRMSXIT2N2XV2GFS7D  \n",
       "3    3WSELTNVR42YLTX5TLAC7YV757YTAT  \n",
       "4    3NQL1CS15S8EU3ZXEMO7B21Z5JHYVO  \n",
       "5    3X66WABAJXIUW3CE06WVL72C93ZG3C  \n",
       "6    3PW9OPU9PRK876QSENXNVATE10G12M  \n",
       "7    3YT88D1N09YZYP8XQXHAJZU5GKGK3J  \n",
       "8    3IAS3U3I0GG9K48KGKQC1M6NNC82B7  \n",
       "9    3FE7TXL1LJNWOAA9Z2N2WB1M9C82QI  \n",
       "10   3XCC1ODXDMBDSURUES23XJ9UL4ORQM  \n",
       "11   34HJIJKLP6WYWWLDPF00VDXSAIJV41  \n",
       "12   31HQ4X3T3TAE2CBU1CUC67FWX0JLSE  \n",
       "13   3VA45EW49ONMEDFX1LVK2NWH25C1OS  \n",
       "14   3JPSL1DZ5TZ0QGSLWPO0YZPFGPDNAN  \n",
       "15   317HQ483I8SFWYBJ8DGDFXDYTXIINM  \n",
       "16   374TNBHA8CVMPV3GSNUX5F2ROR3QYN  \n",
       "17   32EYX73OY195KNYBV1M87K6JOPUURU  \n",
       "18   3CFJTT4SXUQQTDJWS6ZOJ0R8TICI7A  \n",
       "19   3EKVH9QMEZ42Z164UGHIWCUNQXJD2O  \n",
       "20   31UV0MXWNRCB695D4DKRLGDC2CHI5V  \n",
       "21   3570Y55XZQJVC692PRPLB1YPI4TYGZ  \n",
       "22   320DUZ38G8M5HHE33ROI1EJ150LJGR  \n",
       "23   3R6P78PK7LBZVKA8FL2M3K6A32CGTT  \n",
       "24   37TD41K0AI9LZ8HOOZ1D3OP93R6CSQ  \n",
       "25   3F0BG9B9MQNCJDY1WOLR5OLWJ1BY7X  \n",
       "26   3OB0CAO74IP9C24D9X73W1AQX47YHZ  \n",
       "27   3GDTJDAPVVBGPAE6NQPMPTUKLB2M8H  \n",
       "28   32SCWG5HII4Z6ZSVMRKGMJSOKLO6PC  \n",
       "29   35GMH2SV3FHLYE99D9QZ97FBREGEOO  \n",
       "..                              ...  \n",
       "81   31IBVUNM9TZ8UCI29WWJMHUJZ8SFV9  \n",
       "82   39GAF6DQWS0H4XOU2XHYXFQPYY91VU  \n",
       "83   3NC5L260MPMD4S958KA5RP0B3FVOFG  \n",
       "84   3PIWWX1FJK6F8J44BX9LYRBHXS1JJU  \n",
       "85   386PBUZZXGXL39S4EILYE6O91H7LJZ  \n",
       "86   3VP0C6EFSHWTLWVIUBSO5FYTFGD6MG  \n",
       "87   3PH3VY7DJMXREI970IVMBBTFIMNZWQ  \n",
       "88   3PXX5PX6LYYYP73OTZJR74PLZ0ZABL  \n",
       "89   3URFVVM166IEMEK25IGLTN8IX6DZUS  \n",
       "90   3DY4FPOOA2O5X2NB0RWD36822W2RVF  \n",
       "91   3RGU30DZTB859RAPEUMDEJ3Y1MWMJ1  \n",
       "92   3UWN2HHPUZ54QCEFDPARJZJL2VJSNN  \n",
       "93   3018Q3ZVOJQL5EKDPW5H7JUPHM1RAE  \n",
       "94   3Z4XG4ZF49RRJMDA1XRV0AAISFN8XO  \n",
       "95   3TPWUS5F8A1E6PYX84BE0DSU941WCO  \n",
       "96   3T111IHZ5FQ70VA8XQRHBOJ5B4JR9Z  \n",
       "97   36NEMU28XGDRFBAOLT5S39X63I6WM7  \n",
       "98   3Y54SXRO1MLI02B3ZQR37Z71CARUT7  \n",
       "99   34HJIJKLP6WYWWLDPF00VDXSAIIV40  \n",
       "100  3ZGVPD4G6UHZM15D5DQBORMGES5TZU  \n",
       "101  3JJVG1YBECX1J1R7Y3SAZT9Z7MYB5G  \n",
       "102  36PW28KO40WWWAF83QLH8CV62XCEAP  \n",
       "103  3S0TNUHWKUIDLG8TAXQJ637QCXBD8R  \n",
       "104  3SPJ0334223538Z3XXAO8EQ5AWAJYO  \n",
       "105  3TPWUS5F8A1E6PYX84BE0DSU941CW4  \n",
       "106  3Z4XG4ZF49RRJMDA1XRV0AAISFMX8C  \n",
       "107  38YMOXR4MVZPQ8PWYDYBED0KDIQW6W  \n",
       "108  3ZV9H2YQQE7QTP2EFB0D7AO03ROW3Q  \n",
       "109  3TAYZSBPLM881QPMR6C7RBGNR0TS2X  \n",
       "110  3EA3QWIZ4JVDRBG3592POWJQIF4TIY  \n",
       "\n",
       "[111 rows x 4 columns]"
      ]
     },
     "execution_count": 523,
     "metadata": {},
     "output_type": "execute_result"
    }
   ],
   "source": [
    "res_df"
   ]
  },
  {
   "cell_type": "code",
   "execution_count": null,
   "metadata": {
    "collapsed": true,
    "run_control": {
     "frozen": false,
     "read_only": false
    }
   },
   "outputs": [],
   "source": []
  },
  {
   "cell_type": "markdown",
   "metadata": {},
   "source": [
    "# Merging latest round of HITs into combined dataset "
   ]
  },
  {
   "cell_type": "markdown",
   "metadata": {
    "heading_collapsed": true
   },
   "source": [
    "## Load previously pickled results"
   ]
  },
  {
   "cell_type": "code",
   "execution_count": 383,
   "metadata": {
    "collapsed": false,
    "hidden": true,
    "run_control": {
     "frozen": false,
     "read_only": false
    }
   },
   "outputs": [],
   "source": [
    "batch_number = 7\n",
    "\n",
    "with open('./store_hit_results_metadata/group_' + str(batch_number) + '/hit_info.pkl') as f:\n",
    "    r_hits_previous_batch = pickle.load(f)\n",
    "    \n",
    "with open('./store_hit_results_metadata/group_' + str(batch_number) + '/assignment_info.pkl') as f:\n",
    "    assignment_results_previous_batch = pickle.load(f)\n",
    "    \n",
    "# with open('./store_hit_results_metadata/group_' + str(batch_number) + '/raw_res.pkl') as f:\n",
    "#     raw_hit_results_previous_batch = pickle.load(f)"
   ]
  },
  {
   "cell_type": "code",
   "execution_count": 397,
   "metadata": {
    "collapsed": true,
    "hidden": true,
    "run_control": {
     "frozen": false,
     "read_only": false
    }
   },
   "outputs": [],
   "source": [
    "# combined_results_batch = pd.read_pickle(data_pickled_dir + 'complete_df.pkl')\n",
    "# combined_consensus_batch = pd.read_pickle(data_pickled_dir + 'consensus_df.pkl')"
   ]
  },
  {
   "cell_type": "code",
   "execution_count": 405,
   "metadata": {
    "collapsed": false,
    "hidden": true,
    "run_control": {
     "frozen": false,
     "read_only": false
    }
   },
   "outputs": [],
   "source": [
    "missing_hits = set(assignment_results_previous_batch.keys()).difference(assignment_results_current_batch.keys())\n",
    "missing_hits_assignments = {k: v for k, v in assignment_results_previous_batch.items() if k in missing_hits}"
   ]
  },
  {
   "cell_type": "markdown",
   "metadata": {
    "heading_collapsed": true
   },
   "source": [
    "## Load prior complete dataset if not in memory"
   ]
  },
  {
   "cell_type": "code",
   "execution_count": 2,
   "metadata": {
    "collapsed": true,
    "hidden": true,
    "run_control": {
     "frozen": false,
     "read_only": false
    }
   },
   "outputs": [],
   "source": [
    "data_pickled_dir = './store_hit_results_metadata/group_latest_combined/' "
   ]
  },
  {
   "cell_type": "code",
   "execution_count": 3,
   "metadata": {
    "collapsed": false,
    "hidden": true,
    "run_control": {
     "frozen": false,
     "read_only": false
    }
   },
   "outputs": [],
   "source": [
    "combined_results_df = pd.read_pickle(data_pickled_dir + 'complete_df.pkl')\n",
    "combined_consensus_df = pd.read_pickle(data_pickled_dir + 'consensus_df.pkl')\n",
    "combined_consensus_with_workerid_df = pd.read_pickle(data_pickled_dir + 'consensus_df_w_workers.pkl') "
   ]
  },
  {
   "cell_type": "markdown",
   "metadata": {
    "heading_collapsed": true
   },
   "source": [
    "## Updating full dataset"
   ]
  },
  {
   "cell_type": "code",
   "execution_count": 426,
   "metadata": {
    "collapsed": false,
    "hidden": true,
    "run_control": {
     "frozen": false,
     "read_only": false
    }
   },
   "outputs": [],
   "source": [
    "combined_results_df = combined_results_df.append(results_df_previous_batch)\n",
    "combined_consensus_df = combined_consensus_df.append(consensus_prev)\n",
    "combined_consensus_with_workerid_df = combined_consensus_with_workerid_df.append(consensus_prevww)"
   ]
  },
  {
   "cell_type": "code",
   "execution_count": 4,
   "metadata": {
    "collapsed": true,
    "hidden": true,
    "run_control": {
     "frozen": false,
     "read_only": false
    }
   },
   "outputs": [],
   "source": [
    "%%capture\n",
    "no_consensus_hits = combined_consensus_df[combined_consensus_df['category'] == 'No Consensus']"
   ]
  },
  {
   "cell_type": "markdown",
   "metadata": {},
   "source": [
    "## Working with full dataset"
   ]
  },
  {
   "cell_type": "markdown",
   "metadata": {
    "heading_collapsed": true
   },
   "source": [
    "# Worker analysis"
   ]
  },
  {
   "cell_type": "markdown",
   "metadata": {
    "hidden": true
   },
   "source": [
    "## Basic worker stats"
   ]
  },
  {
   "cell_type": "code",
   "execution_count": 1726,
   "metadata": {
    "collapsed": true,
    "hidden": true,
    "run_control": {
     "frozen": false,
     "read_only": false
    }
   },
   "outputs": [
    {
     "data": {
      "text/html": [
       "<div>\n",
       "<table border=\"1\" class=\"dataframe\">\n",
       "  <thead>\n",
       "    <tr style=\"text-align: right;\">\n",
       "      <th></th>\n",
       "      <th>diagram</th>\n",
       "      <th>rectangle</th>\n",
       "      <th>hit_id</th>\n",
       "      <th>assignment_id</th>\n",
       "      <th>worker_id</th>\n",
       "    </tr>\n",
       "  </thead>\n",
       "  <tbody>\n",
       "    <tr>\n",
       "      <th>0</th>\n",
       "      <td>parts_cell_1182.png</td>\n",
       "      <td>[[283, 192], [447, 238]]</td>\n",
       "      <td>3SA4EMRVJV39U1MGLCYP6KPFULH0PX</td>\n",
       "      <td>3BDCF01OGXVJNV1XRULS5F5Z4B6LYG</td>\n",
       "      <td>A1017VP86SLXRB</td>\n",
       "    </tr>\n",
       "    <tr>\n",
       "      <th>1</th>\n",
       "      <td>parts_cell_1182.png</td>\n",
       "      <td>[[115, 245], [273, 285]]</td>\n",
       "      <td>3SA4EMRVJV39U1MGLCYP6KPFULH0PX</td>\n",
       "      <td>3BDCF01OGXVJNV1XRULS5F5Z4B6LYG</td>\n",
       "      <td>A1017VP86SLXRB</td>\n",
       "    </tr>\n",
       "    <tr>\n",
       "      <th>2</th>\n",
       "      <td>parts_cell_1182.png</td>\n",
       "      <td>[[703, 122], [840, 162]]</td>\n",
       "      <td>3SA4EMRVJV39U1MGLCYP6KPFULH0PX</td>\n",
       "      <td>3BDCF01OGXVJNV1XRULS5F5Z4B6LYG</td>\n",
       "      <td>A1017VP86SLXRB</td>\n",
       "    </tr>\n",
       "    <tr>\n",
       "      <th>3</th>\n",
       "      <td>parts_cell_1182.png</td>\n",
       "      <td>[[958, 88], [1068, 133]]</td>\n",
       "      <td>3SA4EMRVJV39U1MGLCYP6KPFULH0PX</td>\n",
       "      <td>3BDCF01OGXVJNV1XRULS5F5Z4B6LYG</td>\n",
       "      <td>A1017VP86SLXRB</td>\n",
       "    </tr>\n",
       "    <tr>\n",
       "      <th>4</th>\n",
       "      <td>parts_cell_1182.png</td>\n",
       "      <td>[[1165, 98], [1302, 142]]</td>\n",
       "      <td>3SA4EMRVJV39U1MGLCYP6KPFULH0PX</td>\n",
       "      <td>3BDCF01OGXVJNV1XRULS5F5Z4B6LYG</td>\n",
       "      <td>A1017VP86SLXRB</td>\n",
       "    </tr>\n",
       "    <tr>\n",
       "      <th>5</th>\n",
       "      <td>parts_cell_1182.png</td>\n",
       "      <td>[[1243, 175], [1418, 288]]</td>\n",
       "      <td>3SA4EMRVJV39U1MGLCYP6KPFULH0PX</td>\n",
       "      <td>3BDCF01OGXVJNV1XRULS5F5Z4B6LYG</td>\n",
       "      <td>A1017VP86SLXRB</td>\n",
       "    </tr>\n",
       "    <tr>\n",
       "      <th>6</th>\n",
       "      <td>parts_cell_1182.png</td>\n",
       "      <td>[[1192, 822], [1423, 865]]</td>\n",
       "      <td>3SA4EMRVJV39U1MGLCYP6KPFULH0PX</td>\n",
       "      <td>3BDCF01OGXVJNV1XRULS5F5Z4B6LYG</td>\n",
       "      <td>A1017VP86SLXRB</td>\n",
       "    </tr>\n",
       "    <tr>\n",
       "      <th>7</th>\n",
       "      <td>parts_cell_1182.png</td>\n",
       "      <td>[[987, 945], [1397, 1003]]</td>\n",
       "      <td>3SA4EMRVJV39U1MGLCYP6KPFULH0PX</td>\n",
       "      <td>3BDCF01OGXVJNV1XRULS5F5Z4B6LYG</td>\n",
       "      <td>A1017VP86SLXRB</td>\n",
       "    </tr>\n",
       "    <tr>\n",
       "      <th>8</th>\n",
       "      <td>parts_cell_1182.png</td>\n",
       "      <td>[[710, 1025], [862, 1068]]</td>\n",
       "      <td>3SA4EMRVJV39U1MGLCYP6KPFULH0PX</td>\n",
       "      <td>3BDCF01OGXVJNV1XRULS5F5Z4B6LYG</td>\n",
       "      <td>A1017VP86SLXRB</td>\n",
       "    </tr>\n",
       "    <tr>\n",
       "      <th>9</th>\n",
       "      <td>parts_cell_1182.png</td>\n",
       "      <td>[[497, 1038], [642, 1073]]</td>\n",
       "      <td>3SA4EMRVJV39U1MGLCYP6KPFULH0PX</td>\n",
       "      <td>3BDCF01OGXVJNV1XRULS5F5Z4B6LYG</td>\n",
       "      <td>A1017VP86SLXRB</td>\n",
       "    </tr>\n",
       "    <tr>\n",
       "      <th>10</th>\n",
       "      <td>parts_cell_1182.png</td>\n",
       "      <td>[[195, 1032], [455, 1083]]</td>\n",
       "      <td>3SA4EMRVJV39U1MGLCYP6KPFULH0PX</td>\n",
       "      <td>3BDCF01OGXVJNV1XRULS5F5Z4B6LYG</td>\n",
       "      <td>A1017VP86SLXRB</td>\n",
       "    </tr>\n",
       "    <tr>\n",
       "      <th>11</th>\n",
       "      <td>parts_cell_1182.png</td>\n",
       "      <td>[[138, 975], [323, 1015]]</td>\n",
       "      <td>3SA4EMRVJV39U1MGLCYP6KPFULH0PX</td>\n",
       "      <td>3BDCF01OGXVJNV1XRULS5F5Z4B6LYG</td>\n",
       "      <td>A1017VP86SLXRB</td>\n",
       "    </tr>\n",
       "    <tr>\n",
       "      <th>12</th>\n",
       "      <td>parts_cell_1182.png</td>\n",
       "      <td>[[72, 912], [247, 948]]</td>\n",
       "      <td>3SA4EMRVJV39U1MGLCYP6KPFULH0PX</td>\n",
       "      <td>3BDCF01OGXVJNV1XRULS5F5Z4B6LYG</td>\n",
       "      <td>A1017VP86SLXRB</td>\n",
       "    </tr>\n",
       "    <tr>\n",
       "      <th>13</th>\n",
       "      <td>parts_cell_1182.png</td>\n",
       "      <td>[[988, 1038], [1440, 1103]]</td>\n",
       "      <td>3SA4EMRVJV39U1MGLCYP6KPFULH0PX</td>\n",
       "      <td>3BDCF01OGXVJNV1XRULS5F5Z4B6LYG</td>\n",
       "      <td>A1017VP86SLXRB</td>\n",
       "    </tr>\n",
       "    <tr>\n",
       "      <th>14</th>\n",
       "      <td>parts_cell_1182.png</td>\n",
       "      <td>[[80, 70], [493, 147]]</td>\n",
       "      <td>3SA4EMRVJV39U1MGLCYP6KPFULH0PX</td>\n",
       "      <td>3I2PTA7R3TVZUNSTFKSXDTPIG2RKQG</td>\n",
       "      <td>A3MVLTRGO37TJD</td>\n",
       "    </tr>\n",
       "    <tr>\n",
       "      <th>15</th>\n",
       "      <td>parts_cell_1182.png</td>\n",
       "      <td>[[285, 197], [440, 232]]</td>\n",
       "      <td>3SA4EMRVJV39U1MGLCYP6KPFULH0PX</td>\n",
       "      <td>3I2PTA7R3TVZUNSTFKSXDTPIG2RKQG</td>\n",
       "      <td>A3MVLTRGO37TJD</td>\n",
       "    </tr>\n",
       "    <tr>\n",
       "      <th>16</th>\n",
       "      <td>parts_cell_1182.png</td>\n",
       "      <td>[[120, 253], [267, 285]]</td>\n",
       "      <td>3SA4EMRVJV39U1MGLCYP6KPFULH0PX</td>\n",
       "      <td>3I2PTA7R3TVZUNSTFKSXDTPIG2RKQG</td>\n",
       "      <td>A3MVLTRGO37TJD</td>\n",
       "    </tr>\n",
       "    <tr>\n",
       "      <th>17</th>\n",
       "      <td>parts_cell_1182.png</td>\n",
       "      <td>[[705, 127], [843, 162]]</td>\n",
       "      <td>3SA4EMRVJV39U1MGLCYP6KPFULH0PX</td>\n",
       "      <td>3I2PTA7R3TVZUNSTFKSXDTPIG2RKQG</td>\n",
       "      <td>A3MVLTRGO37TJD</td>\n",
       "    </tr>\n",
       "    <tr>\n",
       "      <th>18</th>\n",
       "      <td>parts_cell_1182.png</td>\n",
       "      <td>[[953, 90], [1077, 132]]</td>\n",
       "      <td>3SA4EMRVJV39U1MGLCYP6KPFULH0PX</td>\n",
       "      <td>3I2PTA7R3TVZUNSTFKSXDTPIG2RKQG</td>\n",
       "      <td>A3MVLTRGO37TJD</td>\n",
       "    </tr>\n",
       "    <tr>\n",
       "      <th>19</th>\n",
       "      <td>parts_cell_1182.png</td>\n",
       "      <td>[[1165, 102], [1298, 137]]</td>\n",
       "      <td>3SA4EMRVJV39U1MGLCYP6KPFULH0PX</td>\n",
       "      <td>3I2PTA7R3TVZUNSTFKSXDTPIG2RKQG</td>\n",
       "      <td>A3MVLTRGO37TJD</td>\n",
       "    </tr>\n",
       "    <tr>\n",
       "      <th>20</th>\n",
       "      <td>parts_cell_1182.png</td>\n",
       "      <td>[[1228, 185], [1423, 282]]</td>\n",
       "      <td>3SA4EMRVJV39U1MGLCYP6KPFULH0PX</td>\n",
       "      <td>3I2PTA7R3TVZUNSTFKSXDTPIG2RKQG</td>\n",
       "      <td>A3MVLTRGO37TJD</td>\n",
       "    </tr>\n",
       "    <tr>\n",
       "      <th>21</th>\n",
       "      <td>parts_cell_1182.png</td>\n",
       "      <td>[[1190, 823], [1440, 863]]</td>\n",
       "      <td>3SA4EMRVJV39U1MGLCYP6KPFULH0PX</td>\n",
       "      <td>3I2PTA7R3TVZUNSTFKSXDTPIG2RKQG</td>\n",
       "      <td>A3MVLTRGO37TJD</td>\n",
       "    </tr>\n",
       "    <tr>\n",
       "      <th>22</th>\n",
       "      <td>parts_cell_1182.png</td>\n",
       "      <td>[[60, 910], [252, 945]]</td>\n",
       "      <td>3SA4EMRVJV39U1MGLCYP6KPFULH0PX</td>\n",
       "      <td>3I2PTA7R3TVZUNSTFKSXDTPIG2RKQG</td>\n",
       "      <td>A3MVLTRGO37TJD</td>\n",
       "    </tr>\n",
       "    <tr>\n",
       "      <th>23</th>\n",
       "      <td>parts_cell_1182.png</td>\n",
       "      <td>[[133, 980], [318, 1008]]</td>\n",
       "      <td>3SA4EMRVJV39U1MGLCYP6KPFULH0PX</td>\n",
       "      <td>3I2PTA7R3TVZUNSTFKSXDTPIG2RKQG</td>\n",
       "      <td>A3MVLTRGO37TJD</td>\n",
       "    </tr>\n",
       "    <tr>\n",
       "      <th>24</th>\n",
       "      <td>parts_cell_1182.png</td>\n",
       "      <td>[[200, 1038], [455, 1082]]</td>\n",
       "      <td>3SA4EMRVJV39U1MGLCYP6KPFULH0PX</td>\n",
       "      <td>3I2PTA7R3TVZUNSTFKSXDTPIG2RKQG</td>\n",
       "      <td>A3MVLTRGO37TJD</td>\n",
       "    </tr>\n",
       "    <tr>\n",
       "      <th>25</th>\n",
       "      <td>parts_cell_1182.png</td>\n",
       "      <td>[[493, 1038], [638, 1073]]</td>\n",
       "      <td>3SA4EMRVJV39U1MGLCYP6KPFULH0PX</td>\n",
       "      <td>3I2PTA7R3TVZUNSTFKSXDTPIG2RKQG</td>\n",
       "      <td>A3MVLTRGO37TJD</td>\n",
       "    </tr>\n",
       "    <tr>\n",
       "      <th>26</th>\n",
       "      <td>parts_cell_1182.png</td>\n",
       "      <td>[[715, 1030], [862, 1060]]</td>\n",
       "      <td>3SA4EMRVJV39U1MGLCYP6KPFULH0PX</td>\n",
       "      <td>3I2PTA7R3TVZUNSTFKSXDTPIG2RKQG</td>\n",
       "      <td>A3MVLTRGO37TJD</td>\n",
       "    </tr>\n",
       "    <tr>\n",
       "      <th>27</th>\n",
       "      <td>parts_cell_1182.png</td>\n",
       "      <td>[[995, 955], [1398, 1003]]</td>\n",
       "      <td>3SA4EMRVJV39U1MGLCYP6KPFULH0PX</td>\n",
       "      <td>3I2PTA7R3TVZUNSTFKSXDTPIG2RKQG</td>\n",
       "      <td>A3MVLTRGO37TJD</td>\n",
       "    </tr>\n",
       "    <tr>\n",
       "      <th>28</th>\n",
       "      <td>parts_cell_1182.png</td>\n",
       "      <td>[[73, 47], [514, 139]]</td>\n",
       "      <td>3SA4EMRVJV39U1MGLCYP6KPFULH0PX</td>\n",
       "      <td>3RGU30DZTA9DYOOJ56L4V550RCVMJX</td>\n",
       "      <td>A2NJK5F728GAQX</td>\n",
       "    </tr>\n",
       "    <tr>\n",
       "      <th>29</th>\n",
       "      <td>parts_cell_1182.png</td>\n",
       "      <td>[[240, 197], [452, 234]]</td>\n",
       "      <td>3SA4EMRVJV39U1MGLCYP6KPFULH0PX</td>\n",
       "      <td>3RGU30DZTA9DYOOJ56L4V550RCVMJX</td>\n",
       "      <td>A2NJK5F728GAQX</td>\n",
       "    </tr>\n",
       "    <tr>\n",
       "      <th>...</th>\n",
       "      <td>...</td>\n",
       "      <td>...</td>\n",
       "      <td>...</td>\n",
       "      <td>...</td>\n",
       "      <td>...</td>\n",
       "    </tr>\n",
       "    <tr>\n",
       "      <th>70679</th>\n",
       "      <td>human_system_nervous_6171.png</td>\n",
       "      <td>[[308, 9], [454, 33]]</td>\n",
       "      <td>302OLP89DZ8M1PBU899CBQ2L4OEACK</td>\n",
       "      <td>31IBVUNM9S0GJ9WW08VA33WLPYLVFF</td>\n",
       "      <td>AZTHEMBEZ0RSS</td>\n",
       "    </tr>\n",
       "    <tr>\n",
       "      <th>70680</th>\n",
       "      <td>human_system_nervous_6171.png</td>\n",
       "      <td>[[341, 49], [430, 71]]</td>\n",
       "      <td>302OLP89DZ8M1PBU899CBQ2L4OEACK</td>\n",
       "      <td>31IBVUNM9S0GJ9WW08VA33WLPYLVFF</td>\n",
       "      <td>AZTHEMBEZ0RSS</td>\n",
       "    </tr>\n",
       "    <tr>\n",
       "      <th>70681</th>\n",
       "      <td>human_system_nervous_6171.png</td>\n",
       "      <td>[[107, 79], [229, 103]]</td>\n",
       "      <td>302OLP89DZ8M1PBU899CBQ2L4OEACK</td>\n",
       "      <td>31IBVUNM9S0GJ9WW08VA33WLPYLVFF</td>\n",
       "      <td>AZTHEMBEZ0RSS</td>\n",
       "    </tr>\n",
       "    <tr>\n",
       "      <th>70682</th>\n",
       "      <td>human_system_nervous_6171.png</td>\n",
       "      <td>[[48, 181], [152, 204]]</td>\n",
       "      <td>302OLP89DZ8M1PBU899CBQ2L4OEACK</td>\n",
       "      <td>31IBVUNM9S0GJ9WW08VA33WLPYLVFF</td>\n",
       "      <td>AZTHEMBEZ0RSS</td>\n",
       "    </tr>\n",
       "    <tr>\n",
       "      <th>70683</th>\n",
       "      <td>human_system_nervous_6171.png</td>\n",
       "      <td>[[15, 322], [145, 377]]</td>\n",
       "      <td>302OLP89DZ8M1PBU899CBQ2L4OEACK</td>\n",
       "      <td>31IBVUNM9S0GJ9WW08VA33WLPYLVFF</td>\n",
       "      <td>AZTHEMBEZ0RSS</td>\n",
       "    </tr>\n",
       "    <tr>\n",
       "      <th>70684</th>\n",
       "      <td>human_system_nervous_6171.png</td>\n",
       "      <td>[[521, 68], [680, 124]]</td>\n",
       "      <td>302OLP89DZ8M1PBU899CBQ2L4OEACK</td>\n",
       "      <td>31IBVUNM9S0GJ9WW08VA33WLPYLVFF</td>\n",
       "      <td>AZTHEMBEZ0RSS</td>\n",
       "    </tr>\n",
       "    <tr>\n",
       "      <th>70685</th>\n",
       "      <td>human_system_nervous_6171.png</td>\n",
       "      <td>[[589, 191], [704, 215]]</td>\n",
       "      <td>302OLP89DZ8M1PBU899CBQ2L4OEACK</td>\n",
       "      <td>31IBVUNM9S0GJ9WW08VA33WLPYLVFF</td>\n",
       "      <td>AZTHEMBEZ0RSS</td>\n",
       "    </tr>\n",
       "    <tr>\n",
       "      <th>70686</th>\n",
       "      <td>human_system_nervous_6171.png</td>\n",
       "      <td>[[619, 267], [706, 296]]</td>\n",
       "      <td>302OLP89DZ8M1PBU899CBQ2L4OEACK</td>\n",
       "      <td>31IBVUNM9S0GJ9WW08VA33WLPYLVFF</td>\n",
       "      <td>AZTHEMBEZ0RSS</td>\n",
       "    </tr>\n",
       "    <tr>\n",
       "      <th>70687</th>\n",
       "      <td>human_system_nervous_6171.png</td>\n",
       "      <td>[[463, 361], [541, 402]]</td>\n",
       "      <td>302OLP89DZ8M1PBU899CBQ2L4OEACK</td>\n",
       "      <td>31IBVUNM9S0GJ9WW08VA33WLPYLVFF</td>\n",
       "      <td>AZTHEMBEZ0RSS</td>\n",
       "    </tr>\n",
       "    <tr>\n",
       "      <th>70688</th>\n",
       "      <td>human_system_nervous_6171.png</td>\n",
       "      <td>[[442, 416], [527, 443]]</td>\n",
       "      <td>302OLP89DZ8M1PBU899CBQ2L4OEACK</td>\n",
       "      <td>31IBVUNM9S0GJ9WW08VA33WLPYLVFF</td>\n",
       "      <td>AZTHEMBEZ0RSS</td>\n",
       "    </tr>\n",
       "    <tr>\n",
       "      <th>70689</th>\n",
       "      <td>human_system_nervous_6171.png</td>\n",
       "      <td>[[379, 396], [429, 423]]</td>\n",
       "      <td>302OLP89DZ8M1PBU899CBQ2L4OEACK</td>\n",
       "      <td>31IBVUNM9S0GJ9WW08VA33WLPYLVFF</td>\n",
       "      <td>AZTHEMBEZ0RSS</td>\n",
       "    </tr>\n",
       "    <tr>\n",
       "      <th>70690</th>\n",
       "      <td>human_system_nervous_6171.png</td>\n",
       "      <td>[[356, 427], [429, 461]]</td>\n",
       "      <td>302OLP89DZ8M1PBU899CBQ2L4OEACK</td>\n",
       "      <td>31IBVUNM9S0GJ9WW08VA33WLPYLVFF</td>\n",
       "      <td>AZTHEMBEZ0RSS</td>\n",
       "    </tr>\n",
       "    <tr>\n",
       "      <th>70691</th>\n",
       "      <td>human_system_nervous_6171.png</td>\n",
       "      <td>[[97, 431], [195, 470]]</td>\n",
       "      <td>302OLP89DZ8M1PBU899CBQ2L4OEACK</td>\n",
       "      <td>31IBVUNM9S0GJ9WW08VA33WLPYLVFF</td>\n",
       "      <td>AZTHEMBEZ0RSS</td>\n",
       "    </tr>\n",
       "    <tr>\n",
       "      <th>70692</th>\n",
       "      <td>human_system_nervous_6171.png</td>\n",
       "      <td>[[144, 540], [243, 572]]</td>\n",
       "      <td>302OLP89DZ8M1PBU899CBQ2L4OEACK</td>\n",
       "      <td>31IBVUNM9S0GJ9WW08VA33WLPYLVFF</td>\n",
       "      <td>AZTHEMBEZ0RSS</td>\n",
       "    </tr>\n",
       "    <tr>\n",
       "      <th>70693</th>\n",
       "      <td>human_system_nervous_6171.png</td>\n",
       "      <td>[[303, 3], [464, 38]]</td>\n",
       "      <td>302OLP89DZ8M1PBU899CBQ2L4OEACK</td>\n",
       "      <td>34QN5IT0TZSRBTLTPX1F8IP98YY80M</td>\n",
       "      <td>AM1HY736BY3Z8</td>\n",
       "    </tr>\n",
       "    <tr>\n",
       "      <th>70694</th>\n",
       "      <td>human_system_nervous_6171.png</td>\n",
       "      <td>[[344, 47], [457, 80]]</td>\n",
       "      <td>302OLP89DZ8M1PBU899CBQ2L4OEACK</td>\n",
       "      <td>34QN5IT0TZSRBTLTPX1F8IP98YY80M</td>\n",
       "      <td>AM1HY736BY3Z8</td>\n",
       "    </tr>\n",
       "    <tr>\n",
       "      <th>70695</th>\n",
       "      <td>human_system_nervous_6171.png</td>\n",
       "      <td>[[513, 65], [679, 114]]</td>\n",
       "      <td>302OLP89DZ8M1PBU899CBQ2L4OEACK</td>\n",
       "      <td>34QN5IT0TZSRBTLTPX1F8IP98YY80M</td>\n",
       "      <td>AM1HY736BY3Z8</td>\n",
       "    </tr>\n",
       "    <tr>\n",
       "      <th>70696</th>\n",
       "      <td>human_system_nervous_6171.png</td>\n",
       "      <td>[[587, 186], [715, 218]]</td>\n",
       "      <td>302OLP89DZ8M1PBU899CBQ2L4OEACK</td>\n",
       "      <td>34QN5IT0TZSRBTLTPX1F8IP98YY80M</td>\n",
       "      <td>AM1HY736BY3Z8</td>\n",
       "    </tr>\n",
       "    <tr>\n",
       "      <th>70697</th>\n",
       "      <td>human_system_nervous_6171.png</td>\n",
       "      <td>[[611, 265], [709, 296]]</td>\n",
       "      <td>302OLP89DZ8M1PBU899CBQ2L4OEACK</td>\n",
       "      <td>34QN5IT0TZSRBTLTPX1F8IP98YY80M</td>\n",
       "      <td>AM1HY736BY3Z8</td>\n",
       "    </tr>\n",
       "    <tr>\n",
       "      <th>70698</th>\n",
       "      <td>human_system_nervous_6171.png</td>\n",
       "      <td>[[100, 76], [226, 99]]</td>\n",
       "      <td>302OLP89DZ8M1PBU899CBQ2L4OEACK</td>\n",
       "      <td>34QN5IT0TZSRBTLTPX1F8IP98YY80M</td>\n",
       "      <td>AM1HY736BY3Z8</td>\n",
       "    </tr>\n",
       "    <tr>\n",
       "      <th>70699</th>\n",
       "      <td>human_system_nervous_6171.png</td>\n",
       "      <td>[[41, 179], [147, 211]]</td>\n",
       "      <td>302OLP89DZ8M1PBU899CBQ2L4OEACK</td>\n",
       "      <td>34QN5IT0TZSRBTLTPX1F8IP98YY80M</td>\n",
       "      <td>AM1HY736BY3Z8</td>\n",
       "    </tr>\n",
       "    <tr>\n",
       "      <th>70700</th>\n",
       "      <td>human_system_nervous_6171.png</td>\n",
       "      <td>[[10, 313], [155, 342]]</td>\n",
       "      <td>302OLP89DZ8M1PBU899CBQ2L4OEACK</td>\n",
       "      <td>34QN5IT0TZSRBTLTPX1F8IP98YY80M</td>\n",
       "      <td>AM1HY736BY3Z8</td>\n",
       "    </tr>\n",
       "    <tr>\n",
       "      <th>70701</th>\n",
       "      <td>human_system_nervous_6171.png</td>\n",
       "      <td>[[11, 356], [151, 380]]</td>\n",
       "      <td>302OLP89DZ8M1PBU899CBQ2L4OEACK</td>\n",
       "      <td>34QN5IT0TZSRBTLTPX1F8IP98YY80M</td>\n",
       "      <td>AM1HY736BY3Z8</td>\n",
       "    </tr>\n",
       "    <tr>\n",
       "      <th>70702</th>\n",
       "      <td>human_system_nervous_6171.png</td>\n",
       "      <td>[[462, 363], [535, 404]]</td>\n",
       "      <td>302OLP89DZ8M1PBU899CBQ2L4OEACK</td>\n",
       "      <td>34QN5IT0TZSRBTLTPX1F8IP98YY80M</td>\n",
       "      <td>AM1HY736BY3Z8</td>\n",
       "    </tr>\n",
       "    <tr>\n",
       "      <th>70703</th>\n",
       "      <td>human_system_nervous_6171.png</td>\n",
       "      <td>[[438, 414], [519, 447]]</td>\n",
       "      <td>302OLP89DZ8M1PBU899CBQ2L4OEACK</td>\n",
       "      <td>34QN5IT0TZSRBTLTPX1F8IP98YY80M</td>\n",
       "      <td>AM1HY736BY3Z8</td>\n",
       "    </tr>\n",
       "    <tr>\n",
       "      <th>70704</th>\n",
       "      <td>human_system_nervous_6171.png</td>\n",
       "      <td>[[383, 394], [424, 419]]</td>\n",
       "      <td>302OLP89DZ8M1PBU899CBQ2L4OEACK</td>\n",
       "      <td>34QN5IT0TZSRBTLTPX1F8IP98YY80M</td>\n",
       "      <td>AM1HY736BY3Z8</td>\n",
       "    </tr>\n",
       "    <tr>\n",
       "      <th>70705</th>\n",
       "      <td>human_system_nervous_6171.png</td>\n",
       "      <td>[[360, 436], [423, 453]]</td>\n",
       "      <td>302OLP89DZ8M1PBU899CBQ2L4OEACK</td>\n",
       "      <td>34QN5IT0TZSRBTLTPX1F8IP98YY80M</td>\n",
       "      <td>AM1HY736BY3Z8</td>\n",
       "    </tr>\n",
       "    <tr>\n",
       "      <th>70706</th>\n",
       "      <td>human_system_nervous_6171.png</td>\n",
       "      <td>[[75, 432], [199, 467]]</td>\n",
       "      <td>302OLP89DZ8M1PBU899CBQ2L4OEACK</td>\n",
       "      <td>34QN5IT0TZSRBTLTPX1F8IP98YY80M</td>\n",
       "      <td>AM1HY736BY3Z8</td>\n",
       "    </tr>\n",
       "    <tr>\n",
       "      <th>70707</th>\n",
       "      <td>human_system_nervous_6171.png</td>\n",
       "      <td>[[136, 539], [236, 572]]</td>\n",
       "      <td>302OLP89DZ8M1PBU899CBQ2L4OEACK</td>\n",
       "      <td>34QN5IT0TZSRBTLTPX1F8IP98YY80M</td>\n",
       "      <td>AM1HY736BY3Z8</td>\n",
       "    </tr>\n",
       "    <tr>\n",
       "      <th>70708</th>\n",
       "      <td>human_system_nervous_6171.png</td>\n",
       "      <td>[[543, 687], [743, 720]]</td>\n",
       "      <td>302OLP89DZ8M1PBU899CBQ2L4OEACK</td>\n",
       "      <td>34QN5IT0TZSRBTLTPX1F8IP98YY80M</td>\n",
       "      <td>AM1HY736BY3Z8</td>\n",
       "    </tr>\n",
       "  </tbody>\n",
       "</table>\n",
       "<p>70709 rows × 5 columns</p>\n",
       "</div>"
      ],
      "text/plain": [
       "                             diagram                    rectangle  \\\n",
       "0                parts_cell_1182.png     [[283, 192], [447, 238]]   \n",
       "1                parts_cell_1182.png     [[115, 245], [273, 285]]   \n",
       "2                parts_cell_1182.png     [[703, 122], [840, 162]]   \n",
       "3                parts_cell_1182.png     [[958, 88], [1068, 133]]   \n",
       "4                parts_cell_1182.png    [[1165, 98], [1302, 142]]   \n",
       "5                parts_cell_1182.png   [[1243, 175], [1418, 288]]   \n",
       "6                parts_cell_1182.png   [[1192, 822], [1423, 865]]   \n",
       "7                parts_cell_1182.png   [[987, 945], [1397, 1003]]   \n",
       "8                parts_cell_1182.png   [[710, 1025], [862, 1068]]   \n",
       "9                parts_cell_1182.png   [[497, 1038], [642, 1073]]   \n",
       "10               parts_cell_1182.png   [[195, 1032], [455, 1083]]   \n",
       "11               parts_cell_1182.png    [[138, 975], [323, 1015]]   \n",
       "12               parts_cell_1182.png      [[72, 912], [247, 948]]   \n",
       "13               parts_cell_1182.png  [[988, 1038], [1440, 1103]]   \n",
       "14               parts_cell_1182.png       [[80, 70], [493, 147]]   \n",
       "15               parts_cell_1182.png     [[285, 197], [440, 232]]   \n",
       "16               parts_cell_1182.png     [[120, 253], [267, 285]]   \n",
       "17               parts_cell_1182.png     [[705, 127], [843, 162]]   \n",
       "18               parts_cell_1182.png     [[953, 90], [1077, 132]]   \n",
       "19               parts_cell_1182.png   [[1165, 102], [1298, 137]]   \n",
       "20               parts_cell_1182.png   [[1228, 185], [1423, 282]]   \n",
       "21               parts_cell_1182.png   [[1190, 823], [1440, 863]]   \n",
       "22               parts_cell_1182.png      [[60, 910], [252, 945]]   \n",
       "23               parts_cell_1182.png    [[133, 980], [318, 1008]]   \n",
       "24               parts_cell_1182.png   [[200, 1038], [455, 1082]]   \n",
       "25               parts_cell_1182.png   [[493, 1038], [638, 1073]]   \n",
       "26               parts_cell_1182.png   [[715, 1030], [862, 1060]]   \n",
       "27               parts_cell_1182.png   [[995, 955], [1398, 1003]]   \n",
       "28               parts_cell_1182.png       [[73, 47], [514, 139]]   \n",
       "29               parts_cell_1182.png     [[240, 197], [452, 234]]   \n",
       "...                              ...                          ...   \n",
       "70679  human_system_nervous_6171.png        [[308, 9], [454, 33]]   \n",
       "70680  human_system_nervous_6171.png       [[341, 49], [430, 71]]   \n",
       "70681  human_system_nervous_6171.png      [[107, 79], [229, 103]]   \n",
       "70682  human_system_nervous_6171.png      [[48, 181], [152, 204]]   \n",
       "70683  human_system_nervous_6171.png      [[15, 322], [145, 377]]   \n",
       "70684  human_system_nervous_6171.png      [[521, 68], [680, 124]]   \n",
       "70685  human_system_nervous_6171.png     [[589, 191], [704, 215]]   \n",
       "70686  human_system_nervous_6171.png     [[619, 267], [706, 296]]   \n",
       "70687  human_system_nervous_6171.png     [[463, 361], [541, 402]]   \n",
       "70688  human_system_nervous_6171.png     [[442, 416], [527, 443]]   \n",
       "70689  human_system_nervous_6171.png     [[379, 396], [429, 423]]   \n",
       "70690  human_system_nervous_6171.png     [[356, 427], [429, 461]]   \n",
       "70691  human_system_nervous_6171.png      [[97, 431], [195, 470]]   \n",
       "70692  human_system_nervous_6171.png     [[144, 540], [243, 572]]   \n",
       "70693  human_system_nervous_6171.png        [[303, 3], [464, 38]]   \n",
       "70694  human_system_nervous_6171.png       [[344, 47], [457, 80]]   \n",
       "70695  human_system_nervous_6171.png      [[513, 65], [679, 114]]   \n",
       "70696  human_system_nervous_6171.png     [[587, 186], [715, 218]]   \n",
       "70697  human_system_nervous_6171.png     [[611, 265], [709, 296]]   \n",
       "70698  human_system_nervous_6171.png       [[100, 76], [226, 99]]   \n",
       "70699  human_system_nervous_6171.png      [[41, 179], [147, 211]]   \n",
       "70700  human_system_nervous_6171.png      [[10, 313], [155, 342]]   \n",
       "70701  human_system_nervous_6171.png      [[11, 356], [151, 380]]   \n",
       "70702  human_system_nervous_6171.png     [[462, 363], [535, 404]]   \n",
       "70703  human_system_nervous_6171.png     [[438, 414], [519, 447]]   \n",
       "70704  human_system_nervous_6171.png     [[383, 394], [424, 419]]   \n",
       "70705  human_system_nervous_6171.png     [[360, 436], [423, 453]]   \n",
       "70706  human_system_nervous_6171.png      [[75, 432], [199, 467]]   \n",
       "70707  human_system_nervous_6171.png     [[136, 539], [236, 572]]   \n",
       "70708  human_system_nervous_6171.png     [[543, 687], [743, 720]]   \n",
       "\n",
       "                               hit_id                   assignment_id  \\\n",
       "0      3SA4EMRVJV39U1MGLCYP6KPFULH0PX  3BDCF01OGXVJNV1XRULS5F5Z4B6LYG   \n",
       "1      3SA4EMRVJV39U1MGLCYP6KPFULH0PX  3BDCF01OGXVJNV1XRULS5F5Z4B6LYG   \n",
       "2      3SA4EMRVJV39U1MGLCYP6KPFULH0PX  3BDCF01OGXVJNV1XRULS5F5Z4B6LYG   \n",
       "3      3SA4EMRVJV39U1MGLCYP6KPFULH0PX  3BDCF01OGXVJNV1XRULS5F5Z4B6LYG   \n",
       "4      3SA4EMRVJV39U1MGLCYP6KPFULH0PX  3BDCF01OGXVJNV1XRULS5F5Z4B6LYG   \n",
       "5      3SA4EMRVJV39U1MGLCYP6KPFULH0PX  3BDCF01OGXVJNV1XRULS5F5Z4B6LYG   \n",
       "6      3SA4EMRVJV39U1MGLCYP6KPFULH0PX  3BDCF01OGXVJNV1XRULS5F5Z4B6LYG   \n",
       "7      3SA4EMRVJV39U1MGLCYP6KPFULH0PX  3BDCF01OGXVJNV1XRULS5F5Z4B6LYG   \n",
       "8      3SA4EMRVJV39U1MGLCYP6KPFULH0PX  3BDCF01OGXVJNV1XRULS5F5Z4B6LYG   \n",
       "9      3SA4EMRVJV39U1MGLCYP6KPFULH0PX  3BDCF01OGXVJNV1XRULS5F5Z4B6LYG   \n",
       "10     3SA4EMRVJV39U1MGLCYP6KPFULH0PX  3BDCF01OGXVJNV1XRULS5F5Z4B6LYG   \n",
       "11     3SA4EMRVJV39U1MGLCYP6KPFULH0PX  3BDCF01OGXVJNV1XRULS5F5Z4B6LYG   \n",
       "12     3SA4EMRVJV39U1MGLCYP6KPFULH0PX  3BDCF01OGXVJNV1XRULS5F5Z4B6LYG   \n",
       "13     3SA4EMRVJV39U1MGLCYP6KPFULH0PX  3BDCF01OGXVJNV1XRULS5F5Z4B6LYG   \n",
       "14     3SA4EMRVJV39U1MGLCYP6KPFULH0PX  3I2PTA7R3TVZUNSTFKSXDTPIG2RKQG   \n",
       "15     3SA4EMRVJV39U1MGLCYP6KPFULH0PX  3I2PTA7R3TVZUNSTFKSXDTPIG2RKQG   \n",
       "16     3SA4EMRVJV39U1MGLCYP6KPFULH0PX  3I2PTA7R3TVZUNSTFKSXDTPIG2RKQG   \n",
       "17     3SA4EMRVJV39U1MGLCYP6KPFULH0PX  3I2PTA7R3TVZUNSTFKSXDTPIG2RKQG   \n",
       "18     3SA4EMRVJV39U1MGLCYP6KPFULH0PX  3I2PTA7R3TVZUNSTFKSXDTPIG2RKQG   \n",
       "19     3SA4EMRVJV39U1MGLCYP6KPFULH0PX  3I2PTA7R3TVZUNSTFKSXDTPIG2RKQG   \n",
       "20     3SA4EMRVJV39U1MGLCYP6KPFULH0PX  3I2PTA7R3TVZUNSTFKSXDTPIG2RKQG   \n",
       "21     3SA4EMRVJV39U1MGLCYP6KPFULH0PX  3I2PTA7R3TVZUNSTFKSXDTPIG2RKQG   \n",
       "22     3SA4EMRVJV39U1MGLCYP6KPFULH0PX  3I2PTA7R3TVZUNSTFKSXDTPIG2RKQG   \n",
       "23     3SA4EMRVJV39U1MGLCYP6KPFULH0PX  3I2PTA7R3TVZUNSTFKSXDTPIG2RKQG   \n",
       "24     3SA4EMRVJV39U1MGLCYP6KPFULH0PX  3I2PTA7R3TVZUNSTFKSXDTPIG2RKQG   \n",
       "25     3SA4EMRVJV39U1MGLCYP6KPFULH0PX  3I2PTA7R3TVZUNSTFKSXDTPIG2RKQG   \n",
       "26     3SA4EMRVJV39U1MGLCYP6KPFULH0PX  3I2PTA7R3TVZUNSTFKSXDTPIG2RKQG   \n",
       "27     3SA4EMRVJV39U1MGLCYP6KPFULH0PX  3I2PTA7R3TVZUNSTFKSXDTPIG2RKQG   \n",
       "28     3SA4EMRVJV39U1MGLCYP6KPFULH0PX  3RGU30DZTA9DYOOJ56L4V550RCVMJX   \n",
       "29     3SA4EMRVJV39U1MGLCYP6KPFULH0PX  3RGU30DZTA9DYOOJ56L4V550RCVMJX   \n",
       "...                               ...                             ...   \n",
       "70679  302OLP89DZ8M1PBU899CBQ2L4OEACK  31IBVUNM9S0GJ9WW08VA33WLPYLVFF   \n",
       "70680  302OLP89DZ8M1PBU899CBQ2L4OEACK  31IBVUNM9S0GJ9WW08VA33WLPYLVFF   \n",
       "70681  302OLP89DZ8M1PBU899CBQ2L4OEACK  31IBVUNM9S0GJ9WW08VA33WLPYLVFF   \n",
       "70682  302OLP89DZ8M1PBU899CBQ2L4OEACK  31IBVUNM9S0GJ9WW08VA33WLPYLVFF   \n",
       "70683  302OLP89DZ8M1PBU899CBQ2L4OEACK  31IBVUNM9S0GJ9WW08VA33WLPYLVFF   \n",
       "70684  302OLP89DZ8M1PBU899CBQ2L4OEACK  31IBVUNM9S0GJ9WW08VA33WLPYLVFF   \n",
       "70685  302OLP89DZ8M1PBU899CBQ2L4OEACK  31IBVUNM9S0GJ9WW08VA33WLPYLVFF   \n",
       "70686  302OLP89DZ8M1PBU899CBQ2L4OEACK  31IBVUNM9S0GJ9WW08VA33WLPYLVFF   \n",
       "70687  302OLP89DZ8M1PBU899CBQ2L4OEACK  31IBVUNM9S0GJ9WW08VA33WLPYLVFF   \n",
       "70688  302OLP89DZ8M1PBU899CBQ2L4OEACK  31IBVUNM9S0GJ9WW08VA33WLPYLVFF   \n",
       "70689  302OLP89DZ8M1PBU899CBQ2L4OEACK  31IBVUNM9S0GJ9WW08VA33WLPYLVFF   \n",
       "70690  302OLP89DZ8M1PBU899CBQ2L4OEACK  31IBVUNM9S0GJ9WW08VA33WLPYLVFF   \n",
       "70691  302OLP89DZ8M1PBU899CBQ2L4OEACK  31IBVUNM9S0GJ9WW08VA33WLPYLVFF   \n",
       "70692  302OLP89DZ8M1PBU899CBQ2L4OEACK  31IBVUNM9S0GJ9WW08VA33WLPYLVFF   \n",
       "70693  302OLP89DZ8M1PBU899CBQ2L4OEACK  34QN5IT0TZSRBTLTPX1F8IP98YY80M   \n",
       "70694  302OLP89DZ8M1PBU899CBQ2L4OEACK  34QN5IT0TZSRBTLTPX1F8IP98YY80M   \n",
       "70695  302OLP89DZ8M1PBU899CBQ2L4OEACK  34QN5IT0TZSRBTLTPX1F8IP98YY80M   \n",
       "70696  302OLP89DZ8M1PBU899CBQ2L4OEACK  34QN5IT0TZSRBTLTPX1F8IP98YY80M   \n",
       "70697  302OLP89DZ8M1PBU899CBQ2L4OEACK  34QN5IT0TZSRBTLTPX1F8IP98YY80M   \n",
       "70698  302OLP89DZ8M1PBU899CBQ2L4OEACK  34QN5IT0TZSRBTLTPX1F8IP98YY80M   \n",
       "70699  302OLP89DZ8M1PBU899CBQ2L4OEACK  34QN5IT0TZSRBTLTPX1F8IP98YY80M   \n",
       "70700  302OLP89DZ8M1PBU899CBQ2L4OEACK  34QN5IT0TZSRBTLTPX1F8IP98YY80M   \n",
       "70701  302OLP89DZ8M1PBU899CBQ2L4OEACK  34QN5IT0TZSRBTLTPX1F8IP98YY80M   \n",
       "70702  302OLP89DZ8M1PBU899CBQ2L4OEACK  34QN5IT0TZSRBTLTPX1F8IP98YY80M   \n",
       "70703  302OLP89DZ8M1PBU899CBQ2L4OEACK  34QN5IT0TZSRBTLTPX1F8IP98YY80M   \n",
       "70704  302OLP89DZ8M1PBU899CBQ2L4OEACK  34QN5IT0TZSRBTLTPX1F8IP98YY80M   \n",
       "70705  302OLP89DZ8M1PBU899CBQ2L4OEACK  34QN5IT0TZSRBTLTPX1F8IP98YY80M   \n",
       "70706  302OLP89DZ8M1PBU899CBQ2L4OEACK  34QN5IT0TZSRBTLTPX1F8IP98YY80M   \n",
       "70707  302OLP89DZ8M1PBU899CBQ2L4OEACK  34QN5IT0TZSRBTLTPX1F8IP98YY80M   \n",
       "70708  302OLP89DZ8M1PBU899CBQ2L4OEACK  34QN5IT0TZSRBTLTPX1F8IP98YY80M   \n",
       "\n",
       "            worker_id  \n",
       "0      A1017VP86SLXRB  \n",
       "1      A1017VP86SLXRB  \n",
       "2      A1017VP86SLXRB  \n",
       "3      A1017VP86SLXRB  \n",
       "4      A1017VP86SLXRB  \n",
       "5      A1017VP86SLXRB  \n",
       "6      A1017VP86SLXRB  \n",
       "7      A1017VP86SLXRB  \n",
       "8      A1017VP86SLXRB  \n",
       "9      A1017VP86SLXRB  \n",
       "10     A1017VP86SLXRB  \n",
       "11     A1017VP86SLXRB  \n",
       "12     A1017VP86SLXRB  \n",
       "13     A1017VP86SLXRB  \n",
       "14     A3MVLTRGO37TJD  \n",
       "15     A3MVLTRGO37TJD  \n",
       "16     A3MVLTRGO37TJD  \n",
       "17     A3MVLTRGO37TJD  \n",
       "18     A3MVLTRGO37TJD  \n",
       "19     A3MVLTRGO37TJD  \n",
       "20     A3MVLTRGO37TJD  \n",
       "21     A3MVLTRGO37TJD  \n",
       "22     A3MVLTRGO37TJD  \n",
       "23     A3MVLTRGO37TJD  \n",
       "24     A3MVLTRGO37TJD  \n",
       "25     A3MVLTRGO37TJD  \n",
       "26     A3MVLTRGO37TJD  \n",
       "27     A3MVLTRGO37TJD  \n",
       "28     A2NJK5F728GAQX  \n",
       "29     A2NJK5F728GAQX  \n",
       "...               ...  \n",
       "70679   AZTHEMBEZ0RSS  \n",
       "70680   AZTHEMBEZ0RSS  \n",
       "70681   AZTHEMBEZ0RSS  \n",
       "70682   AZTHEMBEZ0RSS  \n",
       "70683   AZTHEMBEZ0RSS  \n",
       "70684   AZTHEMBEZ0RSS  \n",
       "70685   AZTHEMBEZ0RSS  \n",
       "70686   AZTHEMBEZ0RSS  \n",
       "70687   AZTHEMBEZ0RSS  \n",
       "70688   AZTHEMBEZ0RSS  \n",
       "70689   AZTHEMBEZ0RSS  \n",
       "70690   AZTHEMBEZ0RSS  \n",
       "70691   AZTHEMBEZ0RSS  \n",
       "70692   AZTHEMBEZ0RSS  \n",
       "70693   AM1HY736BY3Z8  \n",
       "70694   AM1HY736BY3Z8  \n",
       "70695   AM1HY736BY3Z8  \n",
       "70696   AM1HY736BY3Z8  \n",
       "70697   AM1HY736BY3Z8  \n",
       "70698   AM1HY736BY3Z8  \n",
       "70699   AM1HY736BY3Z8  \n",
       "70700   AM1HY736BY3Z8  \n",
       "70701   AM1HY736BY3Z8  \n",
       "70702   AM1HY736BY3Z8  \n",
       "70703   AM1HY736BY3Z8  \n",
       "70704   AM1HY736BY3Z8  \n",
       "70705   AM1HY736BY3Z8  \n",
       "70706   AM1HY736BY3Z8  \n",
       "70707   AM1HY736BY3Z8  \n",
       "70708   AM1HY736BY3Z8  \n",
       "\n",
       "[70709 rows x 5 columns]"
      ]
     },
     "execution_count": 1726,
     "metadata": {},
     "output_type": "execute_result"
    }
   ],
   "source": [
    "results_df"
   ]
  },
  {
   "cell_type": "code",
   "execution_count": 1714,
   "metadata": {
    "collapsed": false,
    "hidden": true,
    "run_control": {
     "frozen": false,
     "read_only": false
    },
    "scrolled": true
   },
   "outputs": [
    {
     "name": "stdout",
     "output_type": "stream",
     "text": [
      "number of unique workers:\n"
     ]
    },
    {
     "data": {
      "text/plain": [
       "177"
      ]
     },
     "execution_count": 1714,
     "metadata": {},
     "output_type": "execute_result"
    }
   ],
   "source": [
    "print 'number of unique workers:'\n",
    "pd.unique(results_df['worker_id']).shape[0]"
   ]
  },
  {
   "cell_type": "code",
   "execution_count": 1724,
   "metadata": {
    "collapsed": true,
    "hidden": true,
    "run_control": {
     "frozen": false,
     "read_only": false
    }
   },
   "outputs": [],
   "source": [
    "grouped_by_worker = results_df.groupby('worker_id')"
   ]
  },
  {
   "cell_type": "code",
   "execution_count": 1737,
   "metadata": {
    "collapsed": true,
    "hidden": true,
    "run_control": {
     "frozen": false,
     "read_only": false
    }
   },
   "outputs": [
    {
     "data": {
      "text/plain": [
       "worker_id\n",
       "A03922113RU44GENR8ATX     146\n",
       "A1017VP86SLXRB            862\n",
       "A10443E11ZWEHJ             13\n",
       "A107QUL9WE39ZV            105\n",
       "A10PVSMU1UBP8N            292\n",
       "A111JI6APXR6QV             41\n",
       "A11MPIAKPRMF9T             61\n",
       "A122E99M2DQY1G             39\n",
       "A127F80LLYOQ22              2\n",
       "A13LXDXAWD5DSY           1369\n",
       "A13PFEJFK3DI9B            724\n",
       "A14YUE2S0RRKY1             30\n",
       "A150BOXII7BKNP             43\n",
       "A154D85W3BLY4U            629\n",
       "A15CDKMH6YDJ39             21\n",
       "A16DZUAE29Z21H            160\n",
       "A16PK8DLMV0XLW            949\n",
       "A18ZUFGMNOVI2Y           1241\n",
       "A198X28FHY2OY0            422\n",
       "A19GQT4YCUWHIO             65\n",
       "A19ZOKX8M6VWOO            191\n",
       "A1D4I1QYL9713I            603\n",
       "A1D4Z17JF8TE4Y            485\n",
       "A1EFMDT1U0TBPV             10\n",
       "A1EGJBJBFBZJBA            864\n",
       "A1G3G0YQ80PTL9            235\n",
       "A1HC5X6E6ZGINB            119\n",
       "A1IM9SPV7X9P6W            508\n",
       "A1ISG85JD2NXKK             63\n",
       "A1M1T2EF4Y2IW8             39\n",
       "                         ... \n",
       "AB66CTVQ90RCV              68\n",
       "AB6F473EMJD8Y             236\n",
       "ABI22TZRQ5H91              31\n",
       "AC8IEBY696VJO              96\n",
       "AD1ILDUXZHASF               1\n",
       "AD7A672XIYAWM              37\n",
       "AE861G0AY5RGT               5\n",
       "AEK2SAEL9GG39             118\n",
       "AFSG1VE16FX3B              40\n",
       "AFX5W9YSVP86Q              92\n",
       "AIIA3CD2HDDPO              35\n",
       "AINSUJ6S80L8K             581\n",
       "AKATSYE8XLYNL               9\n",
       "AKC0QDVN3GOFE             328\n",
       "AKF2TMBSIYPVU             732\n",
       "AKWH1P9W1KL35            1597\n",
       "AL4WZDIXIVO2S             102\n",
       "AM1HY736BY3Z8            4318\n",
       "AMJ9X1MIE8CZ5             272\n",
       "ANBTNIM08969Z            1093\n",
       "APLQSM4J9E6LR             357\n",
       "AQ45V7UOGOAC9               6\n",
       "ARMX7VT4C7WEF              15\n",
       "ATEW2XICE84QY             756\n",
       "ATRVCA186WV1B               5\n",
       "AVSU9UKYDKR1               22\n",
       "AVXWE0AHJKQ0P             648\n",
       "AWKUPO1N2QEAD             111\n",
       "AZCMR6NXIX16N              62\n",
       "AZTHEMBEZ0RSS             135\n",
       "Name: rectangle, dtype: int64"
      ]
     },
     "execution_count": 1737,
     "metadata": {},
     "output_type": "execute_result"
    }
   ],
   "source": [
    "grouped_by_worker['rectangle'].aggregate(len)"
   ]
  },
  {
   "cell_type": "code",
   "execution_count": null,
   "metadata": {
    "collapsed": true,
    "hidden": true,
    "run_control": {
     "frozen": false,
     "read_only": false
    }
   },
   "outputs": [],
   "source": []
  },
  {
   "cell_type": "code",
   "execution_count": null,
   "metadata": {
    "collapsed": true,
    "hidden": true,
    "run_control": {
     "frozen": false,
     "read_only": false
    }
   },
   "outputs": [],
   "source": []
  },
  {
   "cell_type": "code",
   "execution_count": 1716,
   "metadata": {
    "collapsed": true,
    "hidden": true,
    "run_control": {
     "frozen": false,
     "read_only": false
    }
   },
   "outputs": [
    {
     "data": {
      "image/png": "[encoded data removed]",
      "text/plain": [
       "<matplotlib.figure.Figure at 0x1148ca890>"
      ]
     },
     "metadata": {},
     "output_type": "display_data"
    }
   ],
   "source": [
    "_ = results_df['worker_id'].value_counts().hist(bins= 30)"
   ]
  },
  {
   "cell_type": "markdown",
   "metadata": {
    "heading_collapsed": true,
    "hidden": true
   },
   "source": [
    "### HIT duration for pricing"
   ]
  },
  {
   "cell_type": "code",
   "execution_count": 1718,
   "metadata": {
    "collapsed": false,
    "hidden": true,
    "run_control": {
     "frozen": false,
     "read_only": false
    }
   },
   "outputs": [],
   "source": [
    "task_duration_seconds = []\n",
    "for hit_id, assignments in assignment_results_current_batch.items():\n",
    "    for assignment in assignments:\n",
    "        hit_duration = dt_parse.parse(assignment.SubmitTime) - dt_parse.parse(assignment.AcceptTime)\n",
    "        task_duration_seconds.append(hit_duration.seconds)"
   ]
  },
  {
   "cell_type": "code",
   "execution_count": 1719,
   "metadata": {
    "collapsed": false,
    "hidden": true,
    "run_control": {
     "frozen": false,
     "read_only": false
    }
   },
   "outputs": [],
   "source": [
    "task_duration_series = pd.Series(task_duration_seconds)"
   ]
  },
  {
   "cell_type": "code",
   "execution_count": 1720,
   "metadata": {
    "collapsed": false,
    "hidden": true,
    "run_control": {
     "frozen": false,
     "read_only": false
    },
    "scrolled": true
   },
   "outputs": [
    {
     "data": {
      "image/png": "[encoded data removed]",
      "text/plain": [
       "<matplotlib.figure.Figure at 0x116b4da50>"
      ]
     },
     "metadata": {},
     "output_type": "display_data"
    }
   ],
   "source": [
    "_ = task_duration_series.hist(bins=30, log=True)"
   ]
  },
  {
   "cell_type": "code",
   "execution_count": 1721,
   "metadata": {
    "collapsed": false,
    "hidden": true,
    "run_control": {
     "frozen": false,
     "read_only": false
    }
   },
   "outputs": [],
   "source": [
    "winsorized_durations = [t for t in task_duration_seconds if t < 300]\n",
    "w_duration_series = pd.Series(winsorized_durations)"
   ]
  },
  {
   "cell_type": "code",
   "execution_count": 1722,
   "metadata": {
    "collapsed": false,
    "hidden": true,
    "run_control": {
     "frozen": false,
     "read_only": false
    }
   },
   "outputs": [
    {
     "data": {
      "image/png": "[encoded data removed]",
      "text/plain": [
       "<matplotlib.figure.Figure at 0x10e57ea50>"
      ]
     },
     "metadata": {},
     "output_type": "display_data"
    }
   ],
   "source": [
    "_ = pd.Series(w_duration_series).hist(bins=60)\n",
    "plt.title('Worker task duration', fontsize=50, verticalalignment='bottom', color = b16_colors.b)\n",
    "plt.ylabel(\"Number of Workers\", fontsize=30, labelpad=10, color = b16_colors.b)\n",
    "plt.xlabel(\"Seconds Spent on HIT\", fontsize=30, labelpad=10, color = b16_colors.b)\n",
    "plt.tick_params(axis='x', which='major', labelsize=20)\n",
    "plt.tick_params(axis='y', which='major', labelsize=20)"
   ]
  },
  {
   "cell_type": "code",
   "execution_count": 1723,
   "metadata": {
    "collapsed": false,
    "hidden": true,
    "run_control": {
     "frozen": false,
     "read_only": false
    }
   },
   "outputs": [
    {
     "name": "stdout",
     "output_type": "stream",
     "text": [
      "duration mode= 22\n",
      "duration median= 33.0\n"
     ]
    }
   ],
   "source": [
    "print 'duration mode= ' + str(w_duration_series.mode().values[0])\n",
    "print 'duration median= ' + str(w_duration_series.median())"
   ]
  },
  {
   "cell_type": "markdown",
   "metadata": {
    "heading_collapsed": true,
    "hidden": true
   },
   "source": [
    "## Identifying high and low consensus workers"
   ]
  },
  {
   "cell_type": "code",
   "execution_count": 113,
   "metadata": {
    "collapsed": false,
    "hidden": true,
    "run_control": {
     "frozen": false,
     "read_only": false
    }
   },
   "outputs": [],
   "source": [
    "consensus_with_workerid_df_this_batch = amt_util.make_consensus_df_w_worker_id(results_df_current_batch, consensus_results_df_current_batch)"
   ]
  },
  {
   "cell_type": "code",
   "execution_count": 138,
   "metadata": {
    "collapsed": false,
    "hidden": true,
    "run_control": {
     "frozen": false,
     "read_only": false
    }
   },
   "outputs": [
    {
     "data": {
      "text/plain": [
       "175"
      ]
     },
     "execution_count": 138,
     "metadata": {},
     "output_type": "execute_result"
    }
   ],
   "source": [
    "len(pd.unique(worker_conflicts['worker_id']))"
   ]
  },
  {
   "cell_type": "code",
   "execution_count": 113,
   "metadata": {
    "collapsed": false,
    "hidden": true,
    "run_control": {
     "frozen": false,
     "read_only": false
    }
   },
   "outputs": [
    {
     "data": {
      "text/html": [
       "<div>\n",
       "<table border=\"1\" class=\"dataframe\">\n",
       "  <thead>\n",
       "    <tr style=\"text-align: right;\">\n",
       "      <th></th>\n",
       "      <th>submitted</th>\n",
       "      <th>incorrect</th>\n",
       "      <th>flaw_ratio</th>\n",
       "    </tr>\n",
       "  </thead>\n",
       "  <tbody>\n",
       "    <tr>\n",
       "      <th>A3JOFB6Z65I37Q</th>\n",
       "      <td>124.0</td>\n",
       "      <td>2.0</td>\n",
       "      <td>0.016129</td>\n",
       "    </tr>\n",
       "    <tr>\n",
       "      <th>A2HTN7HCNBQ8V4</th>\n",
       "      <td>157.0</td>\n",
       "      <td>3.0</td>\n",
       "      <td>0.019108</td>\n",
       "    </tr>\n",
       "    <tr>\n",
       "      <th>A22FK64IWET30E</th>\n",
       "      <td>45.0</td>\n",
       "      <td>1.0</td>\n",
       "      <td>0.022222</td>\n",
       "    </tr>\n",
       "    <tr>\n",
       "      <th>AEWGY34WUIA32</th>\n",
       "      <td>1538.0</td>\n",
       "      <td>40.0</td>\n",
       "      <td>0.026008</td>\n",
       "    </tr>\n",
       "    <tr>\n",
       "      <th>ASB8T0H7L99RF</th>\n",
       "      <td>507.0</td>\n",
       "      <td>14.0</td>\n",
       "      <td>0.027613</td>\n",
       "    </tr>\n",
       "    <tr>\n",
       "      <th>AMA18W8F60Y2J</th>\n",
       "      <td>100.0</td>\n",
       "      <td>3.0</td>\n",
       "      <td>0.030000</td>\n",
       "    </tr>\n",
       "    <tr>\n",
       "      <th>A2YY1ZR7Z4VT4M</th>\n",
       "      <td>1517.0</td>\n",
       "      <td>54.0</td>\n",
       "      <td>0.035597</td>\n",
       "    </tr>\n",
       "    <tr>\n",
       "      <th>AJFVK3O1D7SPE</th>\n",
       "      <td>1141.0</td>\n",
       "      <td>42.0</td>\n",
       "      <td>0.036810</td>\n",
       "    </tr>\n",
       "    <tr>\n",
       "      <th>A10M8ULK8QMRU6</th>\n",
       "      <td>27.0</td>\n",
       "      <td>1.0</td>\n",
       "      <td>0.037037</td>\n",
       "    </tr>\n",
       "    <tr>\n",
       "      <th>A2HM35CWB7IIFM</th>\n",
       "      <td>26.0</td>\n",
       "      <td>1.0</td>\n",
       "      <td>0.038462</td>\n",
       "    </tr>\n",
       "  </tbody>\n",
       "</table>\n",
       "</div>"
      ],
      "text/plain": [
       "                submitted  incorrect  flaw_ratio\n",
       "A3JOFB6Z65I37Q      124.0        2.0    0.016129\n",
       "A2HTN7HCNBQ8V4      157.0        3.0    0.019108\n",
       "A22FK64IWET30E       45.0        1.0    0.022222\n",
       "AEWGY34WUIA32      1538.0       40.0    0.026008\n",
       "ASB8T0H7L99RF       507.0       14.0    0.027613\n",
       "AMA18W8F60Y2J       100.0        3.0    0.030000\n",
       "A2YY1ZR7Z4VT4M     1517.0       54.0    0.035597\n",
       "AJFVK3O1D7SPE      1141.0       42.0    0.036810\n",
       "A10M8ULK8QMRU6       27.0        1.0    0.037037\n",
       "A2HM35CWB7IIFM       26.0        1.0    0.038462"
      ]
     },
     "execution_count": 113,
     "metadata": {},
     "output_type": "execute_result"
    }
   ],
   "source": [
    "worker_conflicts = combined_consensus_with_workerid_df[combined_consensus_with_workerid_df['category'] != combined_consensus_with_workerid_df['consensus_category']]\n",
    "all_worker_counts = combined_results_df['worker_id'].value_counts()\n",
    "bad_worker_counts = worker_conflicts['worker_id'].value_counts()\n",
    "worker_quality_df = pd.DataFrame([all_worker_counts, bad_worker_counts]).T\n",
    "worker_quality_df.columns=['submitted', 'incorrect']\n",
    "worker_quality_df['flaw_ratio'] = worker_quality_df['incorrect']/worker_quality_df['submitted']\n",
    "\n",
    "good_workers = worker_quality_df.sort_values('flaw_ratio', ascending= True).index.tolist()\n",
    "\n",
    "suspect_workers = worker_quality_df.sort_values('flaw_ratio', ascending= False).index.tolist()\n",
    "\n",
    "worker_quality_df.sort_values('flaw_ratio', ascending= True).head(10)"
   ]
  },
  {
   "cell_type": "markdown",
   "metadata": {
    "hidden": true
   },
   "source": [
    "I became concerned that I missed the perfect performers, but as I suspected perfect workers only did 1-2 HITs at most"
   ]
  },
  {
   "cell_type": "code",
   "execution_count": 147,
   "metadata": {
    "collapsed": false,
    "hidden": true,
    "run_control": {
     "frozen": false,
     "read_only": false
    }
   },
   "outputs": [
    {
     "data": {
      "text/plain": [
       "A1N8SWL57W43PV    42\n",
       "A161I6SGXNY96M    31\n",
       "A1VL844FUMGC8W    24\n",
       "A18U9WMYFYJPR6    24\n",
       "A2U0QL8K0NTGS5    23\n",
       "A1P47Q6LZPLQ6P    22\n",
       "A2VL602367WQQW    20\n",
       "A4UVNGSXE2ANA     20\n",
       "AFE8IXO7K303F     19\n",
       "A1HRHFU7KTS0KW    16\n",
       "Name: worker_id, dtype: int64"
      ]
     },
     "execution_count": 147,
     "metadata": {},
     "output_type": "execute_result"
    }
   ],
   "source": [
    "aw_set = set(all_worker_counts.index)\n",
    "bw_set = set(bad_worker_counts.index)\n",
    "flawless_workers = list(aw_set.difference(bw_set))\n",
    "all_worker_counts[all_worker_counts.index.isin(best_workers)]"
   ]
  },
  {
   "cell_type": "code",
   "execution_count": 156,
   "metadata": {
    "collapsed": false,
    "hidden": true,
    "run_control": {
     "frozen": false,
     "read_only": false
    }
   },
   "outputs": [],
   "source": [
    "bad_and_prolific_workers = worker_quality_df.sort_values('flaw_ratio', ascending= False).head(25).sort_values('incorrect', ascending= False)"
   ]
  },
  {
   "cell_type": "code",
   "execution_count": 176,
   "metadata": {
    "collapsed": false,
    "hidden": true,
    "run_control": {
     "frozen": false,
     "read_only": false
    }
   },
   "outputs": [],
   "source": [
    "bad_and_prolific_to_review = list(bad_and_prolific_workers[:15].index)"
   ]
  },
  {
   "cell_type": "markdown",
   "metadata": {
    "heading_collapsed": true,
    "hidden": true
   },
   "source": [
    "## Messaging workers"
   ]
  },
  {
   "cell_type": "code",
   "execution_count": 118,
   "metadata": {
    "collapsed": true,
    "hidden": true,
    "run_control": {
     "frozen": false,
     "read_only": false
    }
   },
   "outputs": [],
   "source": [
    "subject = \"More science book annotation HITs are available\"\n",
    "message = \"\"\"\n",
    "Hello, \n",
    "\n",
    "If you're receiving this message you were among the top performers on the first group HITs I submitted.\n",
    "I've submitted another group of HITs, with more to follow in the next few days. \n",
    "This task is slightly different from the first, so please review the new instructions before jumping in.\n",
    "\n",
    "Happy to get any feedback you might have for the new HITs.\n",
    "\"\"\""
   ]
  },
  {
   "cell_type": "code",
   "execution_count": 119,
   "metadata": {
    "collapsed": false,
    "hidden": true,
    "run_control": {
     "frozen": false,
     "read_only": false
    }
   },
   "outputs": [],
   "source": [
    "_ = mturk.notify_workers(good_workers[:20], subject, message)"
   ]
  },
  {
   "cell_type": "markdown",
   "metadata": {},
   "source": [
    "# HIT end-of-life"
   ]
  },
  {
   "cell_type": "markdown",
   "metadata": {
    "heading_collapsed": true
   },
   "source": [
    "## Pickle latest results"
   ]
  },
  {
   "cell_type": "code",
   "execution_count": 1739,
   "metadata": {
    "collapsed": true,
    "hidden": true,
    "run_control": {
     "frozen": false,
     "read_only": false
    }
   },
   "outputs": [],
   "source": [
    "#reset as needed\n",
    "gn = 3"
   ]
  },
  {
   "cell_type": "code",
   "execution_count": 1740,
   "metadata": {
    "collapsed": false,
    "hidden": true,
    "run_control": {
     "frozen": false,
     "read_only": false
    }
   },
   "outputs": [
    {
     "data": {
      "text/plain": [
       "3"
      ]
     },
     "execution_count": 1740,
     "metadata": {},
     "output_type": "execute_result"
    }
   ],
   "source": [
    "gn"
   ]
  },
  {
   "cell_type": "code",
   "execution_count": 1743,
   "metadata": {
    "collapsed": false,
    "hidden": true,
    "run_control": {
     "frozen": false,
     "read_only": false
    }
   },
   "outputs": [
    {
     "name": "stdout",
     "output_type": "stream",
     "text": [
      "saved HIT batch number 3\n",
      "now onto batch 4\n"
     ]
    }
   ],
   "source": [
    "next_group = gn + 1\n",
    "group_n = '_' + str(gn) + '/'\n",
    "\n",
    "temp_store_dir = './store_hit_results_metadata/loc_group'\n",
    "try:\n",
    "    os.mkdir(temp_store_dir + group_n)\n",
    "except:\n",
    "    OSError\n",
    "    \n",
    "result_file_name = 'hit_info.pkl'\n",
    "assignment_file_name = 'assignment_info.pkl'\n",
    "raw_results_file_name = 'raw_res.pkl'\n",
    "complete_results_file = 'complete_df.pkl'\n",
    "consensus_results_file = 'consensus_df.pkl'\n",
    "\n",
    "amt_util.pickle_this(r_hits_current_batch, temp_store_dir + group_n + result_file_name)\n",
    "amt_util.pickle_this(assignment_results_current_batch, temp_store_dir + group_n + assignment_file_name)\n",
    "amt_util.pickle_this(raw_hit_results_current_batch, temp_store_dir + group_n + raw_results_file_name)\n",
    "results_df.to_pickle(temp_store_dir + group_n + complete_results_file)\n",
    "print 'saved HIT batch number ' + str(gn)\n",
    "print 'now onto batch ' +str(next_group) \n",
    "gn = next_group"
   ]
  },
  {
   "cell_type": "markdown",
   "metadata": {
    "heading_collapsed": true
   },
   "source": [
    "## Pickle combined dataset"
   ]
  },
  {
   "cell_type": "code",
   "execution_count": 429,
   "metadata": {
    "collapsed": false,
    "hidden": true,
    "run_control": {
     "frozen": false,
     "read_only": false
    }
   },
   "outputs": [],
   "source": [
    "temp_store_dir = './store_hit_results_metadata/group'\n",
    "group_n = '_latest_combined/'\n",
    "try:\n",
    "    os.mkdir(temp_store_dir + group_n)\n",
    "except:\n",
    "    OSError\n",
    "    \n",
    "complete_results_file = 'complete_df.pkl'\n",
    "consensus_results_file = 'consensus_df.pkl'\n",
    "consensus_results_file_w_workers = 'consensus_df_w_workers.pkl'\n",
    "\n",
    "combined_results_df.to_pickle(temp_store_dir + group_n + complete_results_file)\n",
    "combined_consensus_df.to_pickle(temp_store_dir + group_n + consensus_results_file)\n",
    "combined_consensus_with_workerid_df.to_pickle(temp_store_dir + group_n + consensus_results_file_w_workers)"
   ]
  },
  {
   "cell_type": "markdown",
   "metadata": {},
   "source": [
    "## Accepting and deleting HITs... careful with these"
   ]
  },
  {
   "cell_type": "markdown",
   "metadata": {},
   "source": [
    "Uncomment only when ready to accept or delete hits"
   ]
  },
  {
   "cell_type": "markdown",
   "metadata": {},
   "source": [
    "reject assignments carefully"
   ]
  },
  {
   "cell_type": "code",
   "execution_count": 321,
   "metadata": {
    "collapsed": false,
    "run_control": {
     "frozen": false,
     "read_only": false
    },
    "scrolled": false
   },
   "outputs": [],
   "source": [
    "# number_rejected_assignments, number_rejected_workers = amt_util.reject_assignments(mturk, workers_to_ban, combined_consensus_with_workerid_df)\n",
    "# print 'rejecting ' + str(number_rejected_assignments) + ' assignments' + ' from ' + str(number_rejected_workers) + ' workers'"
   ]
  },
  {
   "cell_type": "code",
   "execution_count": 484,
   "metadata": {
    "collapsed": false
   },
   "outputs": [
    {
     "data": {
      "text/plain": [
       "6681"
      ]
     },
     "execution_count": 484,
     "metadata": {},
     "output_type": "execute_result"
    }
   ],
   "source": [
    "flattened_assignments = [item for sublist in assignment_results_current_batch.values() for item in sublist]\n",
    "\n",
    "len(flattened_assignments)\n",
    "\n",
    "# amt_util.get_assignment_statuses(assignment_results_current_batch)"
   ]
  },
  {
   "cell_type": "code",
   "execution_count": 483,
   "metadata": {
    "collapsed": false
   },
   "outputs": [
    {
     "data": {
      "text/plain": [
       "Approved     6570\n",
       "Submitted     111\n",
       "dtype: int64"
      ]
     },
     "execution_count": 483,
     "metadata": {},
     "output_type": "execute_result"
    }
   ],
   "source": [
    "amt_util.get_assignment_statuses(assignment_results_current_batch)"
   ]
  },
  {
   "cell_type": "code",
   "execution_count": 399,
   "metadata": {
    "collapsed": false,
    "run_control": {
     "frozen": false,
     "read_only": false
    }
   },
   "outputs": [],
   "source": [
    "# amt_util.accept_hits(mturk, flattened_assignments)"
   ]
  },
  {
   "cell_type": "code",
   "execution_count": 437,
   "metadata": {
    "collapsed": false,
    "run_control": {
     "frozen": false,
     "read_only": false
    }
   },
   "outputs": [],
   "source": [
    "# amt_util.delete_some_hits(mturk, assignment_results_current_batch_post_)"
   ]
  },
  {
   "cell_type": "code",
   "execution_count": 407,
   "metadata": {
    "collapsed": false
   },
   "outputs": [],
   "source": []
  },
  {
   "cell_type": "code",
   "execution_count": 410,
   "metadata": {
    "collapsed": false
   },
   "outputs": [],
   "source": [
    "def pay_bonuses(correct_assignments):\n",
    "    bonus_ammount = boto.mturk.price.Price(0.30)\n",
    "    bonus_reason_template = 'For correctly answering the science question given in assignment {}.'\n",
    "    for a_id, w_id in correct_assignments.items():\n",
    "        bonus_reason = bonus_reason_template.format(str(a_id))\n",
    "        mturk.grant_bonus(w_id, a_id, bonus_ammount, bonus_reason)"
   ]
  },
  {
   "cell_type": "code",
   "execution_count": null,
   "metadata": {
    "collapsed": true
   },
   "outputs": [],
   "source": []
  },
  {
   "cell_type": "code",
   "execution_count": null,
   "metadata": {
    "collapsed": true
   },
   "outputs": [],
   "source": []
  },
  {
   "cell_type": "code",
   "execution_count": 465,
   "metadata": {
    "collapsed": false,
    "run_control": {
     "frozen": false,
     "read_only": false
    }
   },
   "outputs": [],
   "source": [
    "# amt_util.delete_all_hits(mturk)"
   ]
  },
  {
   "cell_type": "markdown",
   "metadata": {
    "collapsed": true,
    "heading_collapsed": true,
    "run_control": {
     "frozen": false,
     "read_only": false
    }
   },
   "source": [
    "# End"
   ]
  }
 ],
 "metadata": {
  "kernelspec": {
   "display_name": "Python 2",
   "language": "python",
   "name": "python2"
  },
  "language_info": {
   "codemirror_mode": {
    "name": "ipython",
    "version": 2
   },
   "file_extension": ".py",
   "mimetype": "text/x-python",
   "name": "python",
   "nbconvert_exporter": "python",
   "pygments_lexer": "ipython2",
   "version": "2.7.13"
  }
 },
 "nbformat": 4,
 "nbformat_minor": 0
}
